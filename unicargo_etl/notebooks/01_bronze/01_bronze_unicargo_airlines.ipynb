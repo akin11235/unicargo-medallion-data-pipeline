{
 "cells": [
  {
   "cell_type": "code",
   "execution_count": 10,
   "id": "379ebb07",
   "metadata": {},
   "outputs": [],
   "source": [
    "import os\n",
    "import sys\n",
    "from pyspark.sql.types import StructType, StructField, StringType\n",
    "from pyspark.sql.functions import col\n",
    "\n",
    "current_dir = os.getcwd() # Current working directory\n",
    "project_root = os.path.abspath(os.path.join(current_dir, '..', '..', '..', 'src')) # Go up 3 levels and append 'src'\n",
    "sys.path.append(project_root) # Add src to sys.path\n",
    "from logging_utils import TaskLogger\n",
    "from unikargo_utils import add_pipeline_metadata\n",
    "from config import get_log_adls_path, get_table_config"
   ]
  },
  {
   "cell_type": "code",
   "execution_count": 11,
   "id": "7ba6dae4",
   "metadata": {},
   "outputs": [],
   "source": [
    "# Create widgets (required for ADF → Databricks integration)\n",
    "dbutils.widgets.text(\"pipeline_id\", \"\")\n",
    "dbutils.widgets.text(\"run_id\", \"\")\n",
    "dbutils.widgets.text(\"task_id\", \"\")\n",
    "dbutils.widgets.text(\"processed_timestamp\", \"\")\n",
    "dbutils.widgets.text(\"catalog\", \"unikargo_dev\") # Requires an ADF variable for ADF runs\n",
    "\n",
    "# # Extract values from widgets\n",
    "pipeline_id = dbutils.widgets.get(\"pipeline_id\")\n",
    "run_id = dbutils.widgets.get(\"run_id\")\n",
    "task_id = dbutils.widgets.get(\"task_id\")\n",
    "processed_timestamp = dbutils.widgets.get(\"processed_timestamp\")\n",
    "catalog = dbutils.widgets.get(\"catalog\")\n",
    "\n",
    "# Logging parameters for run context\n",
    "pipeline_name = \"pl_unikargo_medallion\"\n",
    "rows_processed = 0\n",
    "log_type =  'task'\n",
    "environment = 'dev'\n",
    "entity=\"airlines\"\n",
    "layer=\"bronze\"\n",
    "\n",
    "airlines_cfg = get_table_config(entity=\"airlines\", layer=\"bronze\", environment=\"dev\")"
   ]
  },
  {
   "cell_type": "code",
   "execution_count": 12,
   "id": "03562fcf",
   "metadata": {},
   "outputs": [],
   "source": [
    "# airline schema\n",
    "airlines_schema = StructType([\n",
    "    StructField(\"iata_code\", StringType(), True),\n",
    "    StructField(\"airline\", StringType(), True)\n",
    "])"
   ]
  },
  {
   "cell_type": "code",
   "execution_count": 13,
   "id": "43e42ce6",
   "metadata": {},
   "outputs": [
    {
     "name": "stdout",
     "output_type": "stream",
     "text": [
      "abfss://medallion@adlsunikarrgodev.dfs.core.windows.net/raw/volumes/airlines.csv\n"
     ]
    }
   ],
   "source": [
    "# -----------------------------\n",
    "# Read the airlines CSV\n",
    "# -----------------------------\n",
    "\n",
    "airlines_csv_path = airlines_cfg.raw_path\n",
    "print(airlines_csv_path)\n",
    "# source_path=\"abfss://medallion@adlsunikarrgodev.dfs.core.windows.net/raw/volumes/airlines.csv\"\n",
    "# raw_path = \n",
    "operation = \"tsk_airlines_read_raw\"\n",
    "\n",
    "with TaskLogger(\n",
    "    operation=operation,\n",
    "    pipeline_name=pipeline_name,\n",
    "    source_path=airlines_csv_path,\n",
    "    log_running=False  # keep this False unless you explicitly want a \"RUNNING\" entry\n",
    ") as logger:\n",
    "    \n",
    "    airlines_df = (\n",
    "        spark.read\n",
    "        .schema(airlines_schema)    \n",
    "        .option(\"header\", \"true\")\n",
    "        .csv(airlines_csv_path)\n",
    "    )\n",
    "    \n",
    "    rows_processed = airlines_df.count()\n",
    "    \n",
    "    # Update metrics before completion\n",
    "    logger.set_metrics(rows=rows_processed)"
   ]
  },
  {
   "cell_type": "code",
   "execution_count": 14,
   "id": "e9279cd2",
   "metadata": {},
   "outputs": [],
   "source": [
    "# -----------------------------\n",
    "# --- Task 2: Add metadata to the dataframe (Pipeline identifier, Run identifier and Task identifier)\n",
    "# -----------------------------\n",
    "\n",
    "operation=\"tsk_airlines_add_metadata\"\n",
    "\n",
    "with TaskLogger(\n",
    "    operation=operation,\n",
    "    pipeline_name=pipeline_name,\n",
    "    log_running=False \n",
    ") as logger:\n",
    "    \n",
    "    airlines_df = add_pipeline_metadata(airlines_df, pipeline_id, run_id, task_id)\n",
    "\n",
    "    # Count rows after transformation\n",
    "    rows_processed = airlines_df.count()\n",
    "\n",
    "    # Update metrics before completion\n",
    "    logger.set_metrics(rows=rows_processed)\n"
   ]
  },
  {
   "cell_type": "code",
   "execution_count": 15,
   "id": "d0c275e3",
   "metadata": {},
   "outputs": [
    {
     "name": "stdout",
     "output_type": "stream",
     "text": [
      "unikargo_dev.01_bronze.unikargo_airline_bronze\n"
     ]
    }
   ],
   "source": [
    "# -----------------------------\n",
    "# Write to bronze\n",
    "# -----------------------------\n",
    "\n",
    "target_path = airlines_cfg.full_name\n",
    "print(target_path)\n",
    "operation = \"tsk_airlines_persist_bronze\"\n",
    "\n",
    "with TaskLogger(\n",
    "     operation=operation,\n",
    "     pipeline_name=pipeline_name,\n",
    "     target_path=target_path,\n",
    "     log_running=False\n",
    ") as logger:\n",
    "    \n",
    "    # Count rows first\n",
    "    rows_processed = airlines_df.count()\n",
    "    \n",
    "    # Overwrite Delta table safely\n",
    "    airlines_df.write.\\\n",
    "    mode(\"overwrite\").\\\n",
    "    option(\"overwriteSchema\", \"true\").\\\n",
    "    saveAsTable(target_path)\n",
    "\n",
    "    # # Count rows after transformation\n",
    "    # rows_processed = airlines_df.count()\n",
    "\n",
    "    # Update metrics before completion\n",
    "    logger.set_metrics(rows=rows_processed)"
   ]
  },
  {
   "cell_type": "code",
   "execution_count": 16,
   "id": "cf52d9c3",
   "metadata": {},
   "outputs": [
    {
     "name": "stdout",
     "output_type": "stream",
     "text": [
      "+-----------+---------------------+-----------+-----------------------+------------------------------------+---------------------------+-------+-------+-----------------+--------------------------------------------------------------------------------+----------------------------------------------+----------+-------------+--------------------------+----------+\n",
      "|pipeline_id|pipeline_name        |environment|run_id                 |task_id                             |operation                  |status |rows   |execution_time_ms|source_path                                                                     |target_path                                   |error_type|error_message|timestamp                 |log_date  |\n",
      "+-----------+---------------------+-----------+-----------------------+------------------------------------+---------------------------+-------+-------+-----------------+--------------------------------------------------------------------------------+----------------------------------------------+----------+-------------+--------------------------+----------+\n",
      "|local_run  |pl_unikargo_medallion|dev        |local_run_id_1757302108|42059b86-4efd-4f56-9097-3626b9326a6c|tsk_airlines_persist_bronze|SUCCESS|14     |1372             |NULL                                                                            |unikargo_dev.01_bronze.unikargo_airline_bronze|NULL      |NULL         |2025-09-08 03:28:28.80148 |2025-09-08|\n",
      "|local_run  |pl_unikargo_medallion|dev        |local_run_id_1757302105|923afb85-60a4-47f9-9e89-1d945814de49|tsk_airlines_add_metadata  |SUCCESS|14     |284              |NULL                                                                            |NULL                                          |NULL      |NULL         |2025-09-08 03:28:26.482589|2025-09-08|\n",
      "|local_run  |pl_unikargo_medallion|dev        |local_run_id_1757302104|0fd6f810-27fb-458f-a196-b7173bbb3694|tsk_airlines_read_raw      |SUCCESS|14     |723              |abfss://medallion@adlsunikarrgodev.dfs.core.windows.net/raw/volumes/airlines.csv|NULL                                          |NULL      |NULL         |2025-09-08 03:28:25.227076|2025-09-08|\n",
      "|local_run  |pl_unikargo_medallion|dev        |local_run_id_1757302075|d142faec-accd-4afa-be34-b835f482cc25|tsk_flights_persist_bronze |SUCCESS|5819079|11037            |NULL                                                                            |unikargo_dev.01_bronze.unikargo_flights_bronze|NULL      |NULL         |2025-09-08 03:27:55.794321|2025-09-08|\n",
      "|local_run  |pl_unikargo_medallion|dev        |local_run_id_1757302063|a7121626-6ba7-495e-babe-b7a9743679bf|tsk_flights_add_metadata   |SUCCESS|5819079|2524             |NULL                                                                            |NULL                                          |NULL      |NULL         |2025-09-08 03:27:43.777251|2025-09-08|\n",
      "|local_run  |pl_unikargo_medallion|dev        |local_run_id_1757302059|f320a430-9fff-45ba-a7dc-74d8c2ec658f|tsk_flights_read_raw       |SUCCESS|5819079|4207             |abfss://medallion@adlsunikarrgodev.dfs.core.windows.net/raw/volumes/flights.csv |NULL                                          |NULL      |NULL         |2025-09-08 03:27:39.853673|2025-09-08|\n",
      "|local_run  |pl_unikargo_medallion|dev        |local_run_id_1757301982|364895ba-f730-4f3e-9866-80bdbbf27c84|tsk_airports_persist_bronze|SUCCESS|322    |1911             |NULL                                                                            |unikargo_dev.01_bronze.unikargo_airport_bronze|NULL      |NULL         |2025-09-08 03:26:22.702803|2025-09-08|\n",
      "|local_run  |pl_unikargo_medallion|dev        |local_run_id_1757301978|5c07fb42-6ae4-4556-ad7a-b7b68d54b42e|tsk_flights_add_metadata   |SUCCESS|322    |360              |NULL                                                                            |NULL                                          |NULL      |NULL         |2025-09-08 03:26:19.26351 |2025-09-08|\n",
      "|local_run  |pl_unikargo_medallion|dev        |local_run_id_1757301976|4aa2b7b3-e8ad-44a6-98c0-f72941239215|tsk_flights_read_raw       |SUCCESS|322    |953              |abfss://medallion@adlsunikarrgodev.dfs.core.windows.net/raw/volumes/airports.csv|NULL                                          |NULL      |NULL         |2025-09-08 03:26:17.567353|2025-09-08|\n",
      "|local_run  |pl_unikargo_medallion|dev        |local_run_id_1757301910|f564c97b-9912-4bf8-b38a-552511440ed1|tsk_airlines_persist_bronze|SUCCESS|14     |3277             |NULL                                                                            |unikargo_dev.01_bronze.unikargo_airline_bronze|NULL      |NULL         |2025-09-08 03:25:11.602871|2025-09-08|\n",
      "|local_run  |pl_unikargo_medallion|dev        |local_run_id_1757301906|4db0110d-7724-41d4-b06f-d36b96ec4ee0|tsk_airlines_add_metadata  |SUCCESS|14     |343              |NULL                                                                            |NULL                                          |NULL      |NULL         |2025-09-08 03:25:07.140662|2025-09-08|\n",
      "|local_run  |pl_unikargo_medallion|dev        |local_run_id_1757301901|54852bcf-77e0-43df-b83f-4f8ef66ebe80|tsk_airlines_read_raw      |SUCCESS|14     |12578            |abfss://medallion@adlsunikarrgodev.dfs.core.windows.net/raw/volumes/airlines.csv|NULL                                          |NULL      |NULL         |2025-09-08 03:25:03.237915|2025-09-08|\n",
      "|local_run  |pl_unikargo_medallion|dev        |local_run_id_1757178684|ebba694a-8355-44b7-8248-ae556b8e018b|tsk_airports_persist_bronze|SUCCESS|322    |2921             |NULL                                                                            |unikargo_dev.01_bronze.unikargo_airport_bronze|NULL      |NULL         |2025-09-06 17:11:25.808354|2025-09-06|\n",
      "|local_run  |pl_unikargo_medallion|dev        |local_run_id_1757178610|186e82bd-eb05-4351-b2fa-9ee945ea1da8|tsk_flights_add_metadata   |SUCCESS|322    |341              |NULL                                                                            |NULL                                          |NULL      |NULL         |2025-09-06 17:10:12.359138|2025-09-06|\n",
      "|local_run  |pl_unikargo_medallion|dev        |local_run_id_1757178553|aa457ed4-1745-4e0e-a06e-288588211615|tsk_flights_read_raw       |SUCCESS|322    |1273             |abfss://medallion@adlsunikarrgodev.dfs.core.windows.net/raw/volumes/airports.csv|NULL                                          |NULL      |NULL         |2025-09-06 17:09:14.898727|2025-09-06|\n",
      "|local_run  |pl_unikargo_medallion|dev        |local_run_id_1757178028|5a67c888-e618-491b-8001-48add871c047|tsk_flights_persist_bronze |SUCCESS|5819079|26337            |NULL                                                                            |unikargo_dev.01_bronze.unikargo_flights_bronze|NULL      |NULL         |2025-09-06 17:00:29.895228|2025-09-06|\n",
      "|local_run  |pl_unikargo_medallion|dev        |local_run_id_1757177901|06cdf50d-8d63-49e1-a8a7-d0cc6ae03bb5|tsk_flights_persist_bronze |SUCCESS|5819079|28664            |NULL                                                                            |unikargo_dev.01_bronze.unikargo_flights_bronze|NULL      |NULL         |2025-09-06 16:58:22.985138|2025-09-06|\n",
      "|local_run  |pl_unikargo_medallion|dev        |local_run_id_1757177870|c85d8cc9-9e4c-4a44-a1d8-cda17b602273|tsk_flights_add_metadata   |SUCCESS|5819079|2740             |NULL                                                                            |NULL                                          |NULL      |NULL         |2025-09-06 16:57:52.636555|2025-09-06|\n",
      "|local_run  |pl_unikargo_medallion|dev        |local_run_id_1757177866|72436596-1123-49d7-baf2-d356e3437762|read_flights_csv           |SUCCESS|5819079|2670             |abfss://medallion@adlsunikarrgodev.dfs.core.windows.net/raw/volumes/flights.csv |NULL                                          |NULL      |NULL         |2025-09-06 16:57:48.413891|2025-09-06|\n",
      "|local_run  |pl_unikargo_medallion|dev        |local_run_id_1757177791|39db70df-0743-4d90-b452-79312cf270fb|tsk_flights_add_metadata   |SUCCESS|5819079|3256             |NULL                                                                            |NULL                                          |NULL      |NULL         |2025-09-06 16:56:33.079113|2025-09-06|\n",
      "+-----------+---------------------+-----------+-----------------------+------------------------------------+---------------------------+-------+-------+-----------------+--------------------------------------------------------------------------------+----------------------------------------------+----------+-------------+--------------------------+----------+\n",
      "only showing top 20 rows\n"
     ]
    }
   ],
   "source": [
    "# --------Uncomment to debug (Read Delta logs and show latest logs)-----------------\n",
    "\n",
    "log_path = get_log_adls_path(log_type, environment=environment) # Path to save logging for tasks\n",
    "logs_df = spark.read.format(\"delta\").load(log_path)\n",
    "logs_df.orderBy(\"timestamp\", ascending=False).show(20, truncate=False)\n"
   ]
  }
 ],
 "metadata": {
  "kernelspec": {
   "display_name": ".venv_dbc (3.11.3)",
   "language": "python",
   "name": "python3"
  },
  "language_info": {
   "codemirror_mode": {
    "name": "ipython",
    "version": 3
   },
   "file_extension": ".py",
   "mimetype": "text/x-python",
   "name": "python",
   "nbconvert_exporter": "python",
   "pygments_lexer": "ipython3",
   "version": "3.11.3"
  }
 },
 "nbformat": 4,
 "nbformat_minor": 5
}
