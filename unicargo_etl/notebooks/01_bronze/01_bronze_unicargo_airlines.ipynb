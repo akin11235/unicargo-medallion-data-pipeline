{
 "cells": [
  {
   "cell_type": "code",
   "execution_count": 1,
   "id": "379ebb07",
   "metadata": {},
   "outputs": [
    {
     "name": "stdout",
     "output_type": "stream",
     "text": [
      "Loaded environments config from: C:\\Users\\Dele\\Documents\\D. Professional Registration\\IT\\DATA-EnGR\\00_data_engr_projects\\unicargo\\unicargo_dab\\configs\\environments.yaml\n",
      "Loaded tables config from: C:\\Users\\Dele\\Documents\\D. Professional Registration\\IT\\DATA-EnGR\\00_data_engr_projects\\unicargo\\unicargo_dab\\configs\\tables.yaml\n"
     ]
    }
   ],
   "source": [
    "import os\n",
    "import sys\n",
    "from pyspark.sql.types import StructType, StructField, StringType\n",
    "from pyspark.sql.functions import col\n",
    "\n",
    "current_dir = os.getcwd() # Current working directory\n",
    "project_root = os.path.abspath(os.path.join(current_dir, '..', '..', '..', 'src')) # Go up 3 levels and append 'src'\n",
    "sys.path.append(project_root) # Add src to sys.path\n",
    "from logging_utils import TaskLogger\n",
    "from unikargo_utils import add_pipeline_metadata\n",
    "from config import get_log_adls_path, get_table_config\n",
    "from io_utils import _get_widget"
   ]
  },
  {
   "cell_type": "code",
   "execution_count": null,
   "id": "7ba6dae4",
   "metadata": {},
   "outputs": [],
   "source": [
    "# Create widgets (required for ADF → Databricks integration)\n",
    "# dbutils.widgets.text(\"pipeline_id\", \"\")\n",
    "# dbutils.widgets.text(\"run_id\", \"\")\n",
    "# dbutils.widgets.text(\"task_id\", \"\")\n",
    "# dbutils.widgets.text(\"processed_timestamp\", \"\")\n",
    "# dbutils.widgets.text(\"catalog\", \"unikargo_dev\") # Requires an ADF variable for ADF runs\n",
    "# dbutils.widgets.text(\"ENV\", \"dev\") \n",
    "\n",
    "# # Extract values from widgets\n",
    "# pipeline_id = dbutils.widgets.get(\"pipeline_id\")\n",
    "# run_id = dbutils.widgets.get(\"run_id\")\n",
    "# task_id = dbutils.widgets.get(\"task_id\")\n",
    "# processed_timestamp = dbutils.widgets.get(\"processed_timestamp\")\n",
    "# catalog = dbutils.widgets.get(\"catalog\")\n",
    "# ENV = dbutils.widgets.get(\"ENV\")  # -> \"dev\". From the variables set in databricks.yml and unikargo_etl_pipeline_nb.job.yml\n",
    "\n",
    "# Logging parameters for run context\n",
    "pipeline_name = \"pl_unikargo_medallion\"\n",
    "rows_processed = 0\n",
    "\n",
    "# environment = 'dev'\n",
    "environment = _get_widget(\"ENV\", \"dev\")\n",
    "entity=\"airlines\"\n",
    "layer=\"bronze\"\n",
    "\n",
    "airlines_cfg = get_table_config(entity=\"airlines\", layer=\"bronze\", environment=environment)\n",
    "print(airlines_cfg)"
   ]
  },
  {
   "cell_type": "code",
   "execution_count": null,
   "id": "03562fcf",
   "metadata": {},
   "outputs": [],
   "source": [
    "# airline schema\n",
    "airlines_schema = StructType([\n",
    "    StructField(\"iata_code\", StringType(), True),\n",
    "    StructField(\"airline\", StringType(), True)\n",
    "])"
   ]
  },
  {
   "cell_type": "code",
   "execution_count": null,
   "id": "43e42ce6",
   "metadata": {},
   "outputs": [],
   "source": [
    "# -----------------------------\n",
    "# Read the airlines CSV\n",
    "# -----------------------------\n",
    "\n",
    "airlines_csv_path = airlines_cfg.raw_path\n",
    "print(airlines_csv_path)\n",
    "# source_path=\"abfss://medallion@adlsunikarrgodev.dfs.core.windows.net/raw/volumes/airlines.csv\"\n",
    "# raw_path = \n",
    "operation = \"tsk_airlines_read_raw\"\n",
    "\n",
    "with TaskLogger(\n",
    "    operation=operation,\n",
    "    pipeline_name=pipeline_name,\n",
    "    source_path=airlines_csv_path,\n",
    "    log_running=False  # keep this False unless you explicitly want a \"RUNNING\" entry\n",
    ") as logger:\n",
    "    \n",
    "    airlines_df = (\n",
    "        spark.read\n",
    "        .schema(airlines_schema)    \n",
    "        .option(\"header\", \"true\")\n",
    "        .csv(airlines_csv_path)\n",
    "    )\n",
    "    \n",
    "    rows_processed = airlines_df.count()\n",
    "    \n",
    "    # Update metrics before completion\n",
    "    logger.set_metrics(rows=rows_processed)\n",
    "\n",
    "    # print(airlines_csv_path)"
   ]
  },
  {
   "cell_type": "code",
   "execution_count": null,
   "id": "e9279cd2",
   "metadata": {},
   "outputs": [],
   "source": [
    "# -----------------------------\n",
    "# --- Task 2: Add metadata to the dataframe (Pipeline identifier, Run identifier and Task identifier)\n",
    "# -----------------------------\n",
    "\n",
    "operation=\"tsk_airlines_add_metadata\"\n",
    "\n",
    "with TaskLogger(\n",
    "    operation=operation,\n",
    "    pipeline_name=pipeline_name,\n",
    "    log_running=False \n",
    ") as logger:\n",
    "    \n",
    "    # airlines_df = add_pipeline_metadata(airlines_df, pipeline_id, run_id, task_id)\n",
    "    airlines_df = add_pipeline_metadata(\n",
    "        airlines_df, \n",
    "        pipeline_id=logger.kwargs.get(\"pipeline_id\"),\n",
    "        run_id=logger.kwargs.get(\"run_id\"),\n",
    "        task_id=logger.kwargs.get(\"task_id\")\n",
    "        )\n",
    "\n",
    "    # Count rows after transformation\n",
    "    rows_processed = airlines_df.count()\n",
    "\n",
    "    # Update metrics before completion\n",
    "    logger.set_metrics(rows=rows_processed)"
   ]
  },
  {
   "cell_type": "code",
   "execution_count": null,
   "id": "d0c275e3",
   "metadata": {},
   "outputs": [],
   "source": [
    "# -----------------------------\n",
    "# Write to bronze\n",
    "# -----------------------------\n",
    "\n",
    "target_path = airlines_cfg.full_name\n",
    "print(target_path)\n",
    "operation = \"tsk_airlines_persist_bronze\"\n",
    "\n",
    "with TaskLogger(\n",
    "     operation=operation,\n",
    "     pipeline_name=pipeline_name,\n",
    "     target_path=target_path,\n",
    "     log_running=False\n",
    ") as logger:\n",
    "    \n",
    "    # Count rows first\n",
    "    rows_processed = airlines_df.count()\n",
    "    \n",
    "    # Overwrite Delta table safely\n",
    "    airlines_df.write.\\\n",
    "    mode(\"overwrite\").\\\n",
    "    option(\"overwriteSchema\", \"true\").\\\n",
    "    saveAsTable(target_path)\n",
    "\n",
    "    # # Count rows after transformation\n",
    "    # rows_processed = airlines_df.count()\n",
    "\n",
    "    # Update metrics before completion\n",
    "    logger.set_metrics(rows=rows_processed)"
   ]
  },
  {
   "cell_type": "code",
   "execution_count": 2,
   "id": "cf52d9c3",
   "metadata": {},
   "outputs": [
    {
     "name": "stdout",
     "output_type": "stream",
     "text": [
      "+-----------+----------------+-----------+-----------------------+---------------------------------------------------+--------------------------------------------------+----------+------------------+--------------+--------------+-------+--------------+-----------------+-------------------------------------------------------------------------------+----------------------------------------------+---------------------+---------------------------------------------------------------------+-----------+-----------+--------------------------+----------+----------------------------------------------------------------------------+-------------------------------------+\n",
      "|pipeline_id|pipeline_name   |environment|run_id                 |run_name                                           |task_id                                           |step_index|step_type         |parent_task_id|attempt_number|status |rows_processed|execution_time_ms|source_path                                                                    |target_path                                   |error_type           |error_message                                                        |worker_node|executor_id|timestamp                 |log_date  |tags                                                                        |etl_metrics                          |\n",
      "+-----------+----------------+-----------+-----------------------+---------------------------------------------------+--------------------------------------------------+----------+------------------+--------------+--------------+-------+--------------+-----------------+-------------------------------------------------------------------------------+----------------------------------------------+---------------------+---------------------------------------------------------------------+-----------+-----------+--------------------------+----------+----------------------------------------------------------------------------+-------------------------------------+\n",
      "|local_run  |unknown_pipeline|dev        |local_run_id_1758280484|local_run_name_db913270-7986-45fd-86e9-b599a5654d12|local_task_id_5435c389-9fa8-4d4a-a90f-d36d91714fde|1         |airlines_write    |NULL          |1             |SUCCESS|NULL          |1100             |abfss://medallion@adlsunikargodev.dfs.core.windows.net/raw/volumes/airlines.csv|unikargo_dev.01_bronze.unikargo_airline_bronze|NULL                 |NULL                                                                 |NULL       |NULL       |2025-09-19 11:14:46.256368|2025-09-19|{source_system -> flights_api, pipeline_version -> v1.0.3, team -> data_eng}|NULL                                 |\n",
      "|local_run  |unknown_pipeline|dev        |local_run_id_1758280482|local_run_name_83a79450-e404-4adf-9303-3b771cf9e365|local_task_id_bc43cdd9-0743-4839-84ce-d5c7ddcd84b9|1         |airlines_transform|NULL          |1             |SUCCESS|14            |330              |abfss://medallion@adlsunikargodev.dfs.core.windows.net/raw/volumes/airlines.csv|unikargo_dev.01_bronze.unikargo_airline_bronze|NULL                 |NULL                                                                 |NULL       |NULL       |2025-09-19 11:14:44.163449|2025-09-19|{source_system -> flights_api, pipeline_version -> v1.0.3, team -> data_eng}|{}                                   |\n",
      "|local_run  |unknown_pipeline|dev        |local_run_id_1758280480|local_run_name_f3f224fe-2d4e-4fbc-a188-21c5d71d751c|local_task_id_975ea35f-1207-4f36-9103-c70b219bb1d7|1         |airlines_read     |NULL          |1             |SUCCESS|14            |453              |abfss://medallion@adlsunikargodev.dfs.core.windows.net/raw/volumes/airlines.csv|unikargo_dev.01_bronze.unikargo_airline_bronze|NULL                 |NULL                                                                 |NULL       |NULL       |2025-09-19 11:14:42.855821|2025-09-19|{source_system -> flights_api, pipeline_version -> v1.0.3, team -> data_eng}|{}                                   |\n",
      "|local_run  |unknown_pipeline|dev        |local_run_id_1758280479|local_run_name_3199e3a3-34c6-4b39-aa4d-d2ee9a604ad0|local_task_id_7833c571-268f-42f8-aeaa-43ebc672b804|1         |airports_write    |NULL          |1             |SUCCESS|NULL          |1061             |abfss://medallion@adlsunikargodev.dfs.core.windows.net/raw/volumes/airports.csv|unikargo_dev.01_bronze.unikargo_airport_bronze|NULL                 |NULL                                                                 |NULL       |NULL       |2025-09-19 11:14:41.643667|2025-09-19|{source_system -> flights_api, pipeline_version -> v1.0.3, team -> data_eng}|NULL                                 |\n",
      "|local_run  |unknown_pipeline|dev        |local_run_id_1758280477|local_run_name_983450c0-e93d-4a1a-8ee7-51346331d89f|local_task_id_07a88109-e626-4571-9697-323543bf15b2|1         |airports_transform|NULL          |1             |SUCCESS|322           |335              |abfss://medallion@adlsunikargodev.dfs.core.windows.net/raw/volumes/airports.csv|unikargo_dev.01_bronze.unikargo_airport_bronze|NULL                 |NULL                                                                 |NULL       |NULL       |2025-09-19 11:14:39.607295|2025-09-19|{source_system -> flights_api, pipeline_version -> v1.0.3, team -> data_eng}|{}                                   |\n",
      "|local_run  |unknown_pipeline|dev        |local_run_id_1758280476|local_run_name_1ce3ece4-0752-4d85-ba8a-1e9422cb1cc6|local_task_id_0ce55954-8f17-488d-879f-9d6c48f839ac|1         |airports_read     |NULL          |1             |SUCCESS|322           |430              |abfss://medallion@adlsunikargodev.dfs.core.windows.net/raw/volumes/airports.csv|unikargo_dev.01_bronze.unikargo_airport_bronze|NULL                 |NULL                                                                 |NULL       |NULL       |2025-09-19 11:14:38.494696|2025-09-19|{source_system -> flights_api, pipeline_version -> v1.0.3, team -> data_eng}|{}                                   |\n",
      "|local_run  |unknown_pipeline|dev        |local_run_id_1758280474|local_run_name_3511cf7c-5831-4c49-802b-afd673b9d94f|local_task_id_b3d10cf9-d8f0-479d-9439-212ccb108a3a|1         |flights_write     |NULL          |1             |SUCCESS|NULL          |7525             |abfss://medallion@adlsunikargodev.dfs.core.windows.net/raw/volumes/flights.csv |unikargo_dev.01_bronze.unikargo_flights_bronze|NULL                 |NULL                                                                 |NULL       |NULL       |2025-09-19 11:14:37.186033|2025-09-19|{source_system -> flights_api, pipeline_version -> v1.0.3, team -> data_eng}|NULL                                 |\n",
      "|local_run  |unknown_pipeline|dev        |local_run_id_1758280466|local_run_name_3ea2497c-4b3a-4323-8831-7addbfbeb685|local_task_id_885588a2-2de2-406a-b341-03c701692986|1         |flights_transform |NULL          |1             |SUCCESS|5819079       |4937             |abfss://medallion@adlsunikargodev.dfs.core.windows.net/raw/volumes/flights.csv |unikargo_dev.01_bronze.unikargo_flights_bronze|NULL                 |NULL                                                                 |NULL       |NULL       |2025-09-19 11:14:28.509818|2025-09-19|{source_system -> flights_api, pipeline_version -> v1.0.3, team -> data_eng}|{null_weather_delay_count -> 4755640}|\n",
      "|local_run  |unknown_pipeline|dev        |local_run_id_1758280456|local_run_name_c19ce62d-ed2a-4aa2-878d-5d88e09c4ada|local_task_id_0496b508-87c0-4ed1-a820-04289547be52|1         |flights_read      |NULL          |1             |SUCCESS|5819079       |5407             |abfss://medallion@adlsunikargodev.dfs.core.windows.net/raw/volumes/flights.csv |unikargo_dev.01_bronze.unikargo_flights_bronze|NULL                 |NULL                                                                 |NULL       |NULL       |2025-09-19 11:14:18.57653 |2025-09-19|{source_system -> flights_api, pipeline_version -> v1.0.3, team -> data_eng}|{null_weather_delay_count -> 4755640}|\n",
      "|local_run  |unknown_pipeline|dev        |local_run_id_1758280369|local_run_name_d9989a94-40d1-43bc-b296-17bb2cfd5b78|local_task_id_2f4539b4-50a1-4f35-ad21-1447ce490a9b|1         |airlines_write    |NULL          |1             |SUCCESS|NULL          |1126             |abfss://medallion@adlsunikargodev.dfs.core.windows.net/raw/volumes/airlines.csv|unikargo_dev.01_bronze.unikargo_airline_bronze|NULL                 |NULL                                                                 |NULL       |NULL       |2025-09-19 11:12:51.0525  |2025-09-19|{source_system -> flights_api, pipeline_version -> v1.0.3, team -> data_eng}|NULL                                 |\n",
      "|local_run  |unknown_pipeline|dev        |local_run_id_1758280367|local_run_name_44b2a65e-5bb3-4268-9b61-a7155be961e1|local_task_id_3940d751-4b77-4dd8-bf4c-75026da7b768|1         |airlines_transform|NULL          |1             |SUCCESS|14            |338              |abfss://medallion@adlsunikargodev.dfs.core.windows.net/raw/volumes/airlines.csv|unikargo_dev.01_bronze.unikargo_airline_bronze|NULL                 |NULL                                                                 |NULL       |NULL       |2025-09-19 11:12:49.068975|2025-09-19|{source_system -> flights_api, pipeline_version -> v1.0.3, team -> data_eng}|{}                                   |\n",
      "|local_run  |unknown_pipeline|dev        |local_run_id_1758280365|local_run_name_02db27cd-564d-4938-8fc7-60aa1d718e34|local_task_id_edf934f8-102f-4f1c-a1bf-8e8579630a68|1         |airlines_read     |NULL          |1             |SUCCESS|14            |482              |abfss://medallion@adlsunikargodev.dfs.core.windows.net/raw/volumes/airlines.csv|unikargo_dev.01_bronze.unikargo_airline_bronze|NULL                 |NULL                                                                 |NULL       |NULL       |2025-09-19 11:12:47.825567|2025-09-19|{source_system -> flights_api, pipeline_version -> v1.0.3, team -> data_eng}|{}                                   |\n",
      "|local_run  |unknown_pipeline|dev        |local_run_id_1758280364|local_run_name_9f32eb8c-d5df-4e4b-81e7-5b9f72cc00a0|local_task_id_68c9105a-f55b-4c39-b18e-2400b701c297|1         |airports_write    |NULL          |1             |SUCCESS|NULL          |1254             |abfss://medallion@adlsunikargodev.dfs.core.windows.net/raw/volumes/airports.csv|unikargo_dev.01_bronze.unikargo_airport_bronze|NULL                 |NULL                                                                 |NULL       |NULL       |2025-09-19 11:12:46.46323 |2025-09-19|{source_system -> flights_api, pipeline_version -> v1.0.3, team -> data_eng}|NULL                                 |\n",
      "|local_run  |unknown_pipeline|dev        |local_run_id_1758280362|local_run_name_dc1a859a-46ad-49eb-9896-b006a9fc18fb|local_task_id_ac64a576-bdcb-499d-b7dc-3f981379d1a2|1         |airports_transform|NULL          |1             |SUCCESS|322           |303              |abfss://medallion@adlsunikargodev.dfs.core.windows.net/raw/volumes/airports.csv|unikargo_dev.01_bronze.unikargo_airport_bronze|NULL                 |NULL                                                                 |NULL       |NULL       |2025-09-19 11:12:44.310793|2025-09-19|{source_system -> flights_api, pipeline_version -> v1.0.3, team -> data_eng}|{}                                   |\n",
      "|local_run  |unknown_pipeline|dev        |local_run_id_1758280361|local_run_name_8b7cb6ed-ecdb-497e-b810-03a5a765e2c8|local_task_id_65207061-f1ad-4fca-8047-7b666db87052|1         |airports_read     |NULL          |1             |SUCCESS|322           |525              |abfss://medallion@adlsunikargodev.dfs.core.windows.net/raw/volumes/airports.csv|unikargo_dev.01_bronze.unikargo_airport_bronze|NULL                 |NULL                                                                 |NULL       |NULL       |2025-09-19 11:12:42.960748|2025-09-19|{source_system -> flights_api, pipeline_version -> v1.0.3, team -> data_eng}|{}                                   |\n",
      "|local_run  |unknown_pipeline|dev        |local_run_id_1758280359|local_run_name_b2c8e215-6e58-41fa-b32c-aad4b205080f|local_task_id_e2fae789-6a05-4003-bc53-c91d88f99c51|1         |flights_write     |NULL          |1             |SUCCESS|NULL          |7863             |abfss://medallion@adlsunikargodev.dfs.core.windows.net/raw/volumes/flights.csv |unikargo_dev.01_bronze.unikargo_flights_bronze|NULL                 |NULL                                                                 |NULL       |NULL       |2025-09-19 11:12:41.571013|2025-09-19|{source_system -> flights_api, pipeline_version -> v1.0.3, team -> data_eng}|NULL                                 |\n",
      "|local_run  |unknown_pipeline|dev        |local_run_id_1758280350|local_run_name_084183a9-fb08-42e9-9495-2c9e36fb0b72|local_task_id_d917f13d-3240-4e95-99ee-fb09d883b0ab|1         |flights_transform |NULL          |1             |FAILED |NULL          |69               |abfss://medallion@adlsunikargodev.dfs.core.windows.net/raw/volumes/flights.csv |unikargo_dev.01_bronze.unikargo_flights_bronze|AttributeError       |'str' object has no attribute 'isNull'                               |NULL       |NULL       |2025-09-19 11:12:32.845942|2025-09-19|{source_system -> flights_api, pipeline_version -> v1.0.3, team -> data_eng}|NULL                                 |\n",
      "|local_run  |unknown_pipeline|dev        |local_run_id_1758280349|local_run_name_01c35ee5-0eb9-4795-b21f-1d1007e98aca|local_task_id_f30942a5-1fc7-4cde-ab93-4c1ac13d77e6|1         |flights_read      |NULL          |1             |FAILED |NULL          |596              |abfss://medallion@adlsunikargodev.dfs.core.windows.net/raw/volumes/flights.csv |unikargo_dev.01_bronze.unikargo_flights_bronze|AttributeError       |'str' object has no attribute 'isNull'                               |NULL       |NULL       |2025-09-19 11:12:31.583349|2025-09-19|{source_system -> flights_api, pipeline_version -> v1.0.3, team -> data_eng}|NULL                                 |\n",
      "|local_run  |unknown_pipeline|dev        |local_run_id_1758280091|local_run_name_2f4c0cf5-9f54-4cc3-8f8e-2e9ff91142fc|local_task_id_100f3e61-160a-49ce-84bd-03bb4bc29e96|1         |airlines_write    |NULL          |1             |SUCCESS|NULL          |1287             |abfss://medallion@adlsunikargodev.dfs.core.windows.net/raw/volumes/airlines.csv|unikargo_dev.01_bronze.unikargo_airline_bronze|NULL                 |NULL                                                                 |NULL       |NULL       |2025-09-19 11:08:13.259307|2025-09-19|{source_system -> flights_api, pipeline_version -> v1.0.3, team -> data_eng}|NULL                                 |\n",
      "|local_run  |unknown_pipeline|dev        |local_run_id_1758280089|local_run_name_a51617ef-6a83-46af-873a-f5585fcd0c72|local_task_id_7f09033e-3f73-4a91-babe-a8db55111f30|1         |airlines_transform|NULL          |1             |FAILED |NULL          |80               |abfss://medallion@adlsunikargodev.dfs.core.windows.net/raw/volumes/airlines.csv|unikargo_dev.01_bronze.unikargo_airline_bronze|PySparkAttributeError|[ATTRIBUTE_NOT_SUPPORTED] Attribute `weather_delay` is not supported.|NULL       |NULL       |2025-09-19 11:08:11.085363|2025-09-19|{source_system -> flights_api, pipeline_version -> v1.0.3, team -> data_eng}|NULL                                 |\n",
      "+-----------+----------------+-----------+-----------------------+---------------------------------------------------+--------------------------------------------------+----------+------------------+--------------+--------------+-------+--------------+-----------------+-------------------------------------------------------------------------------+----------------------------------------------+---------------------+---------------------------------------------------------------------+-----------+-----------+--------------------------+----------+----------------------------------------------------------------------------+-------------------------------------+\n",
      "only showing top 20 rows\n"
     ]
    }
   ],
   "source": [
    "# --------Uncomment to debug (Read Delta logs and show latest logs)-----------------\n",
    "log_type =  'task'\n",
    "environment = _get_widget(\"ENV\", \"dev\")\n",
    "log_path = get_log_adls_path(log_type, environment=environment) # Path to save logging for tasks\n",
    "logs_df = spark.read.format(\"delta\").load(log_path)\n",
    "logs_df.orderBy(\"timestamp\", ascending=False).show(20, truncate=False)\n"
   ]
  }
 ],
 "metadata": {
  "kernelspec": {
   "display_name": ".venv_dbc (3.11.3)",
   "language": "python",
   "name": "python3"
  },
  "language_info": {
   "codemirror_mode": {
    "name": "ipython",
    "version": 3
   },
   "file_extension": ".py",
   "mimetype": "text/x-python",
   "name": "python",
   "nbconvert_exporter": "python",
   "pygments_lexer": "ipython3",
   "version": "3.11.3"
  }
 },
 "nbformat": 4,
 "nbformat_minor": 5
}
