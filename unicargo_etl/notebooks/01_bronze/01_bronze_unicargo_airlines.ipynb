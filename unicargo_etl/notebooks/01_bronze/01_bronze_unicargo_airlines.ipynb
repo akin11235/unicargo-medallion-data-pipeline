{
 "cells": [
  {
   "cell_type": "code",
   "execution_count": 1,
   "id": "379ebb07",
   "metadata": {},
   "outputs": [],
   "source": [
    "from pyspark.sql.types import StructType, StructField, StringType\n",
    "from pyspark.sql.functions import create_map, lit"
   ]
  },
  {
   "cell_type": "code",
   "execution_count": 2,
   "id": "03562fcf",
   "metadata": {},
   "outputs": [],
   "source": [
    "airlines_schema = StructType([\n",
    "    StructField(\"iata_code\", StringType(), True),\n",
    "    StructField(\"airline\", StringType(), True)\n",
    "])"
   ]
  },
  {
   "cell_type": "code",
   "execution_count": 3,
   "id": "59e99c66",
   "metadata": {},
   "outputs": [],
   "source": [
    "# df = spark.read.csv(\"/Volumes/unicargo_dev/00_raw/source_unicargo_data/airlines.csv\", schema=schema)"
   ]
  },
  {
   "cell_type": "code",
   "execution_count": null,
   "id": "7ba6dae4",
   "metadata": {},
   "outputs": [],
   "source": [
    "# Create widgets (required for ADF)\n",
    "dbutils.widgets.text(\"pipeline_id\", \"\")\n",
    "dbutils.widgets.text(\"run_id\", \"\")\n",
    "dbutils.widgets.text(\"task_id\", \"\")\n",
    "dbutils.widgets.text(\"processed_timestamp\", \"\")\n",
    "dbutils.widgets.text(\"catalog\", \"unikargo_dev\") # Requires an ADF variable for ADF runs"
   ]
  },
  {
   "cell_type": "code",
   "execution_count": null,
   "id": "f889ea46",
   "metadata": {},
   "outputs": [],
   "source": [
    "pipeline_id = dbutils.widgets.get(\"pipeline_id\")\n",
    "run_id = dbutils.widgets.get(\"run_id\")\n",
    "task_id = dbutils.widgets.get(\"task_id\")\n",
    "processed_timestamp = dbutils.widgets.get(\"processed_timestamp\")\n",
    "catalog = dbutils.widgets.get(\"catalog\")"
   ]
  },
  {
   "cell_type": "code",
   "execution_count": null,
   "id": "a406ea21",
   "metadata": {},
   "outputs": [],
   "source": [
    "df = (spark.read\n",
    "    .schema(airlines_schema)    # your predefined schema\n",
    "    .option(\"header\", \"true\")   # use the header row for column names only\n",
    "    # .option(\"inferSchema\", \"false\")  # do not infer schema from CSV\n",
    "    # .csv(f\"/Volumes/{catalog}/00_raw/source_unicargo_data/airlines.csv\")\n",
    "    .csv(\"abfss://medallion@adlsunikarrgodev.dfs.core.windows.net/raw/volumes/airlines.csv\") # added for adf\n",
    ")"
   ]
  },
  {
   "cell_type": "code",
   "execution_count": null,
   "id": "92aec6a8",
   "metadata": {},
   "outputs": [],
   "source": [
    "df = df.withColumn(\"metadata\",\n",
    "                   create_map(\n",
    "                       lit(\"pipeline_id\"), lit(pipeline_id),\n",
    "                       lit(\"run_id\"), lit(run_id),\n",
    "                       lit(\"task_id\"), lit(task_id),\n",
    "                       lit(\"processed_timestamp\"), lit(processed_timestamp),\n",
    "                   ))"
   ]
  },
  {
   "cell_type": "code",
   "execution_count": 6,
   "id": "20cfada9",
   "metadata": {},
   "outputs": [],
   "source": [
    "# df.show(5)"
   ]
  },
  {
   "cell_type": "code",
   "execution_count": null,
   "id": "f872fd46",
   "metadata": {},
   "outputs": [],
   "source": [
    "df.write.\\\n",
    "mode(\"overwrite\").\\\n",
    "option(\"overwriteSchema\", \"true\").\\\n",
    "saveAsTable(f\"`{catalog}`.`01_bronze`.`unikargo_airlines_bronze`\") \n",
    "# Python f-string expands to: unikargo_dev.01_bronze.unikargo_airlines_bronze.\n",
    "# Python f-string expands to: unikargo_dev.01_bronze.unikargo_airlines_bronze\n",
    "\n",
    "# The SQL parser thinks 01_bronze is a number, because it starts with a digit.\n",
    "\n",
    "# SQL identifiers cannot start with a number unless you quote them. \n",
    "# \n",
    "# schemas now quoted for SQ"
   ]
  }
 ],
 "metadata": {
  "kernelspec": {
   "display_name": ".venv_dbc (3.11.3)",
   "language": "python",
   "name": "python3"
  },
  "language_info": {
   "codemirror_mode": {
    "name": "ipython",
    "version": 3
   },
   "file_extension": ".py",
   "mimetype": "text/x-python",
   "name": "python",
   "nbconvert_exporter": "python",
   "pygments_lexer": "ipython3",
   "version": "3.11.3"
  }
 },
 "nbformat": 4,
 "nbformat_minor": 5
}
