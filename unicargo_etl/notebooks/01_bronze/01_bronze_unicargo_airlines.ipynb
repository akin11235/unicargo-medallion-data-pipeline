{
 "cells": [
  {
   "cell_type": "code",
   "execution_count": 1,
   "id": "379ebb07",
   "metadata": {},
   "outputs": [
    {
     "name": "stdout",
     "output_type": "stream",
     "text": [
      "Loaded tables config from: C:\\Users\\Dele\\Documents\\D. Professional Registration\\IT\\DATA-EnGR\\00_data_engr_projects\\unicargo\\unicargo_dab\\tables.yaml\n"
     ]
    }
   ],
   "source": [
    "import os\n",
    "import sys\n",
    "from pyspark.sql.types import StructType, StructField, StringType\n",
    "from pyspark.sql.functions import col\n",
    "\n",
    "current_dir = os.getcwd() # Current working directory\n",
    "project_root = os.path.abspath(os.path.join(current_dir, '..', '..', '..', 'src')) # Go up 3 levels and append 'src'\n",
    "sys.path.append(project_root) # Add src to sys.path\n",
    "from logging_utils import TaskLogger\n",
    "from unikargo_utils import add_pipeline_metadata\n",
    "from config import get_log_config, get_table_config"
   ]
  },
  {
   "cell_type": "code",
   "execution_count": null,
   "id": "7ba6dae4",
   "metadata": {},
   "outputs": [
    {
     "name": "stderr",
     "output_type": "stream",
     "text": [
      "c:\\Users\\Dele\\Documents\\D. Professional Registration\\IT\\DATA-EnGR\\00_data_engr_projects\\unicargo\\unicargo_dab\\.venv_dbc\\Lib\\site-packages\\databricks\\sdk\\_widgets\\__init__.py:71: UserWarning: \n",
      "To use databricks widgets interactively in your notebook, please install databricks sdk using:\n",
      "\tpip install 'databricks-sdk[notebook]'\n",
      "Falling back to default_value_only implementation for databricks widgets.\n",
      "  warnings.warn(\n"
     ]
    }
   ],
   "source": [
    "# Create widgets (required for ADF → Databricks integration)\n",
    "dbutils.widgets.text(\"pipeline_id\", \"\")\n",
    "dbutils.widgets.text(\"run_id\", \"\")\n",
    "dbutils.widgets.text(\"task_id\", \"\")\n",
    "dbutils.widgets.text(\"processed_timestamp\", \"\")\n",
    "dbutils.widgets.text(\"catalog\", \"unikargo_dev\") # Requires an ADF variable for ADF runs\n",
    "\n",
    "# # Extract values from widgets\n",
    "pipeline_id = dbutils.widgets.get(\"pipeline_id\")\n",
    "run_id = dbutils.widgets.get(\"run_id\")\n",
    "task_id = dbutils.widgets.get(\"task_id\")\n",
    "processed_timestamp = dbutils.widgets.get(\"processed_timestamp\")\n",
    "catalog = dbutils.widgets.get(\"catalog\")\n",
    "\n",
    "# Logging parameters for run context\n",
    "pipeline_name = \"pl_unikargo_medallion\"\n",
    "rows_processed = 0\n",
    "log_type =  'task'\n",
    "environment = 'dev'\n",
    "entity=\"airlines\"\n",
    "layer=\"bronze\"\n",
    "\n",
    "airlines_cfg = get_table_config(entity=\"airlines\", layer=\"bronze\", environment=\"dev\")"
   ]
  },
  {
   "cell_type": "code",
   "execution_count": 3,
   "id": "03562fcf",
   "metadata": {},
   "outputs": [],
   "source": [
    "# airline schema\n",
    "airlines_schema = StructType([\n",
    "    StructField(\"iata_code\", StringType(), True),\n",
    "    StructField(\"airline\", StringType(), True)\n",
    "])"
   ]
  },
  {
   "cell_type": "code",
   "execution_count": null,
   "id": "43e42ce6",
   "metadata": {},
   "outputs": [
    {
     "name": "stdout",
     "output_type": "stream",
     "text": [
      "abfss://medallion@adlsunikarrgodev.dfs.core.windows.net/raw/volumes/airlines.csv\n"
     ]
    }
   ],
   "source": [
    "# -----------------------------\n",
    "# Read the airlines CSV\n",
    "# -----------------------------\n",
    "\n",
    "airlines_csv_path = airlines_cfg.raw_path\n",
    "print(airlines_csv_path)\n",
    "# source_path=\"abfss://medallion@adlsunikarrgodev.dfs.core.windows.net/raw/volumes/airlines.csv\"\n",
    "# raw_path = \n",
    "operation = \"tsk_airlines_read_raw\"\n",
    "\n",
    "with TaskLogger(\n",
    "    operation=operation,\n",
    "    pipeline_name=pipeline_name,\n",
    "    source_path=airlines_csv_path,\n",
    "    log_running=False  # keep this False unless you explicitly want a \"RUNNING\" entry\n",
    ") as logger:\n",
    "    \n",
    "    airlines_df = (\n",
    "        spark.read\n",
    "        .schema(airlines_schema)    \n",
    "        .option(\"header\", \"true\")\n",
    "        .csv(airlines_csv_path)\n",
    "    )\n",
    "    \n",
    "    rows_processed = airlines_df.count()\n",
    "    \n",
    "    # Update metrics before completion\n",
    "    logger.set_metrics(rows=rows_processed)"
   ]
  },
  {
   "cell_type": "code",
   "execution_count": 5,
   "id": "e9279cd2",
   "metadata": {},
   "outputs": [],
   "source": [
    "# -----------------------------\n",
    "# --- Task 2: Add metadata to the dataframe (Pipeline identifier, Run identifier and Task identifier)\n",
    "# -----------------------------\n",
    "\n",
    "operation=\"tsk_airlines_add_metadata\"\n",
    "\n",
    "with TaskLogger(\n",
    "    operation=operation,\n",
    "    pipeline_name=pipeline_name,\n",
    "    log_running=False \n",
    ") as logger:\n",
    "    \n",
    "    airlines_df = add_pipeline_metadata(airlines_df, pipeline_id, run_id, task_id)\n",
    "\n",
    "    # Count rows after transformation\n",
    "    rows_processed = airlines_df.count()\n",
    "\n",
    "    # Update metrics before completion\n",
    "    logger.set_metrics(rows=rows_processed)\n"
   ]
  },
  {
   "cell_type": "code",
   "execution_count": null,
   "id": "d0c275e3",
   "metadata": {},
   "outputs": [
    {
     "name": "stdout",
     "output_type": "stream",
     "text": [
      "unikargo_dev.01_bronze.unikargo_airline_bronze\n"
     ]
    }
   ],
   "source": [
    "# -----------------------------\n",
    "# Write to bronze\n",
    "# -----------------------------\n",
    "\n",
    "target_path = airlines_cfg.full_name\n",
    "print(target_path)\n",
    "operation = \"tsk_airlines_persist_bronze\"\n",
    "\n",
    "with TaskLogger(\n",
    "     operation=operation,\n",
    "     pipeline_name=pipeline_name,\n",
    "     target_path=target_path,\n",
    "     log_running=False\n",
    ") as logger:\n",
    "    \n",
    "    # Count rows first\n",
    "    rows_processed = airlines_df.count()\n",
    "    \n",
    "    # Overwrite Delta table safely\n",
    "    airlines_df.write.\\\n",
    "    mode(\"overwrite\").\\\n",
    "    option(\"overwriteSchema\", \"true\").\\\n",
    "    saveAsTable(target_path)\n",
    "\n",
    "    # # Count rows after transformation\n",
    "    # rows_processed = airlines_df.count()\n",
    "\n",
    "    # Update metrics before completion\n",
    "    logger.set_metrics(rows=rows_processed)"
   ]
  },
  {
   "cell_type": "code",
   "execution_count": 7,
   "id": "cf52d9c3",
   "metadata": {},
   "outputs": [
    {
     "name": "stdout",
     "output_type": "stream",
     "text": [
      "+----------------------+---------------------+-----------+-----------------------+------------------------------------+---------------------------+-------+----+-----------------+--------------------------------------------------------------------------------+-----------------------------------------------------+----------+-------------+--------------------------+----------+\n",
      "|pipeline_id           |pipeline_name        |environment|run_id                 |task_id                             |operation                  |status |rows|execution_time_ms|source_path                                                                     |target_path                                          |error_type|error_message|timestamp                 |log_date  |\n",
      "+----------------------+---------------------+-----------+-----------------------+------------------------------------+---------------------------+-------+----+-----------------+--------------------------------------------------------------------------------+-----------------------------------------------------+----------+-------------+--------------------------+----------+\n",
      "|local_run             |pl_unikargo_medallion|dev        |local_run_id_1757177099|c67c5b80-d9de-4f64-8b28-3c64af8924d1|tsk_airlines_persist_bronze|SUCCESS|14  |3449             |NULL                                                                            |unikargo_dev.01_bronze.unikargo_airline_bronze       |NULL      |NULL         |2025-09-06 16:45:01.621814|2025-09-06|\n",
      "|local_run             |pl_unikargo_medallion|dev        |local_run_id_1757177054|02398fbd-0b8f-409e-a1d4-ab3c391d5515|tsk_airlines_add_metadata  |SUCCESS|14  |371              |NULL                                                                            |NULL                                                 |NULL      |NULL         |2025-09-06 16:44:16.487809|2025-09-06|\n",
      "|local_run             |pl_unikargo_medallion|dev        |local_run_id_1757177040|5352294c-1a20-48ce-876a-ec9bee6e1ba9|tsk_airlines_read_raw      |SUCCESS|14  |11567            |abfss://medallion@adlsunikarrgodev.dfs.core.windows.net/raw/volumes/airlines.csv|NULL                                                 |NULL      |NULL         |2025-09-06 16:44:03.724258|2025-09-06|\n",
      "|local_run             |pl_unikargo_medallion|dev        |local_run_id_1757176157|61fd39fc-dbe3-4edf-ab0c-dcbd46a8c9dd|tsk_airlines_persist_bronze|SUCCESS|14  |2868             |NULL                                                                            |unikargo_dev.01_bronze.unikargo_airline_bronze       |NULL      |NULL         |2025-09-06 16:29:19.228552|2025-09-06|\n",
      "|local_run             |pl_unikargo_medallion|dev        |local_run_id_1757175842|1647d96e-744e-47fd-8ab2-10e3e722ff2d|tsk_airlines_persist_bronze|SUCCESS|14  |2088             |NULL                                                                            |unikargo_dev.01_bronze.unikargo_airline_bronze       |NULL      |NULL         |2025-09-06 16:24:03.988561|2025-09-06|\n",
      "|local_run             |pl_unikargo_medallion|dev        |local_run_id_1757175832|63d8eab1-9815-4947-abe4-915c1851fbe2|tsk_airlines_read_raw      |SUCCESS|14  |1220             |abfss://medallion@adlsunikarrgodev.dfs.core.windows.net/raw/volumes/airlines.csv|NULL                                                 |NULL      |NULL         |2025-09-06 16:23:54.305671|2025-09-06|\n",
      "|local_run             |pl_unikargo_medallion|dev        |local_run_id_1757175380|5b0de54c-a0ef-4a53-8dcb-c7f547f21839|tsk_airlines_persist_bronze|SUCCESS|14  |2312             |NULL                                                                            |unikargo_dev.01_bronze.unikargo_flights_bronze       |NULL      |NULL         |2025-09-06 16:16:22.198032|2025-09-06|\n",
      "|local_run             |pl_unikargo_medallion|dev        |local_run_id_1757175356|c1ea5d23-1fb9-4ebb-aa3e-4896a8457d2d|tsk_airlines_persist_bronze|SUCCESS|14  |3781             |NULL                                                                            |unikargo_dev.01_bronze.unikargo_flights_bronze       |NULL      |NULL         |2025-09-06 16:15:57.988225|2025-09-06|\n",
      "|local_run             |pl_unikargo_medallion|dev        |local_run_id_1757175302|8b0ef837-78a5-44d6-838e-1757bc93e193|tsk_airlines_persist_bronze|SUCCESS|14  |2925             |NULL                                                                            |unikargo_dev.01_bronze.unikargo_flights_bronze       |NULL      |NULL         |2025-09-06 16:15:04.34946 |2025-09-06|\n",
      "|local_run             |pl_unikargo_medallion|dev        |local_run_id_1757175197|1e310073-fcf9-4512-a016-8bfa19b34605|tsk_airlines_persist_bronze|SUCCESS|14  |2090             |NULL                                                                            |`unikargo_dev`.`01_bronze`.`unikargo_airlines_bronze`|NULL      |NULL         |2025-09-06 16:13:19.330977|2025-09-06|\n",
      "|local_run             |pl_unikargo_medallion|dev        |local_run_id_1757175189|587266d6-6bef-422e-8460-5a933a4d4ed8|tsk_airlines_add_metadata  |SUCCESS|14  |382              |NULL                                                                            |NULL                                                 |NULL      |NULL         |2025-09-06 16:13:10.849692|2025-09-06|\n",
      "|local_run             |pl_unikargo_medallion|dev        |local_run_id_1757175187|94547524-ebfe-4e76-bee3-1414890f2da9|tsk_airlines_read_raw      |SUCCESS|14  |1694             |abfss://medallion@adlsunikarrgodev.dfs.core.windows.net/raw/volumes/airlines.csv|NULL                                                 |NULL      |NULL         |2025-09-06 16:13:08.735273|2025-09-06|\n",
      "|local_run             |pl_unikargo_medallion|dev        |local_run_id_1757174753|d4554693-82c9-40c7-8d65-caa2d24f171e|tsk_airlines_persist_silver|SUCCESS|14  |4922             |NULL                                                                            |NULL                                                 |NULL      |NULL         |2025-09-06 16:05:55.338626|2025-09-06|\n",
      "|local_run             |pl_unikargo_medallion|dev        |local_run_id_1757174747|aa968153-4587-4c3b-be9c-e90cfad24e52|tsk_airlines_dim_build     |SUCCESS|14  |983              |NULL                                                                            |NULL                                                 |NULL      |NULL         |2025-09-06 16:05:48.900252|2025-09-06|\n",
      "|local_run             |pl_unikargo_medallion|dev        |local_run_id_1757174742|191af562-b00b-4c38-8bbe-68353c02876e|tsk_airlines_read_bronze   |SUCCESS|14  |202464           |unikargo_dev.01_bronze.unikargo_airlines_bronze                                 |NULL                                                 |NULL      |NULL         |2025-09-06 16:05:45.053798|2025-09-06|\n",
      "|local_run             |pl_unikargo_medallion|dev        |local_run_id_1757166610|a8336a7b-2813-4469-9f35-ce8ea0ddb0a3|tsk_airlines_read_bronze   |SUCCESS|14  |806              |unikargo_dev.01_bronze.unikargo_airlines_bronze                                 |NULL                                                 |NULL      |NULL         |2025-09-06 13:50:12.036769|2025-09-06|\n",
      "|local_pl_id_1757166381|pl_unikargo_medallion|dev        |local_run_id_1757166381|ada0d66b-730b-49fd-8487-0c0fde014a88|tsk_airlines_read_bronze   |SUCCESS|14  |1089             |unikargo_dev.01_bronze.unikargo_airlines_bronze                                 |NULL                                                 |NULL      |NULL         |2025-09-06 13:46:22.895237|2025-09-06|\n",
      "|local_pl_id_1757166083|pl_unikargo_medallion|dev        |local_run_id_1757166083|2d26d2f5-3938-4580-b8fd-40d240830201|write to bronze            |SUCCESS|14  |5013             |NULL                                                                            |`unikargo_dev`.`01_bronze`.`unikargo_airlines_bronze`|NULL      |NULL         |2025-09-06 13:41:24.98812 |2025-09-06|\n",
      "|local_pl_id_1757166037|pl_unikargo_medallion|dev        |local_run_id_1757166037|c1685dbb-4a77-4ef6-98d0-a0b8eb7692b1|tsk_airlines_add_metadata  |SUCCESS|14  |427              |NULL                                                                            |NULL                                                 |NULL      |NULL         |2025-09-06 13:40:39.339207|2025-09-06|\n",
      "|local_pl_id_1757166032|pl_unikargo_medallion|dev        |local_run_id_1757166032|729c8eb5-65ce-49e7-ae2b-a2920ec42a2f|tsk_airlines_read_raw      |SUCCESS|14  |767              |abfss://medallion@adlsunikarrgodev.dfs.core.windows.net/raw/volumes/airlines.csv|NULL                                                 |NULL      |NULL         |2025-09-06 13:40:33.949592|2025-09-06|\n",
      "+----------------------+---------------------+-----------+-----------------------+------------------------------------+---------------------------+-------+----+-----------------+--------------------------------------------------------------------------------+-----------------------------------------------------+----------+-------------+--------------------------+----------+\n",
      "only showing top 20 rows\n"
     ]
    }
   ],
   "source": [
    "# --------Uncomment to debug (Read Delta logs and show latest logs)-----------------\n",
    "\n",
    "log_path = get_log_config(log_type, environment=environment) # Path to save logging for tasks\n",
    "logs_df = spark.read.format(\"delta\").load(log_path)\n",
    "logs_df.orderBy(\"timestamp\", ascending=False).show(20, truncate=False)\n"
   ]
  }
 ],
 "metadata": {
  "kernelspec": {
   "display_name": ".venv_dbc (3.11.3)",
   "language": "python",
   "name": "python3"
  },
  "language_info": {
   "codemirror_mode": {
    "name": "ipython",
    "version": 3
   },
   "file_extension": ".py",
   "mimetype": "text/x-python",
   "name": "python",
   "nbconvert_exporter": "python",
   "pygments_lexer": "ipython3",
   "version": "3.11.3"
  }
 },
 "nbformat": 4,
 "nbformat_minor": 5
}
