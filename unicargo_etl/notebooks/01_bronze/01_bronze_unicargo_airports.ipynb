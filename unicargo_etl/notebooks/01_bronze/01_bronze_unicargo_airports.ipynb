{
 "cells": [
  {
   "cell_type": "code",
   "execution_count": 1,
   "id": "ae805c56",
   "metadata": {},
   "outputs": [],
   "source": [
    "from pyspark.sql.types import StructType, StructField, StringType, DoubleType\n",
    "from pyspark.sql.functions import create_map, lit"
   ]
  },
  {
   "cell_type": "code",
   "execution_count": 2,
   "id": "fdd1e2a1",
   "metadata": {},
   "outputs": [
    {
     "name": "stderr",
     "output_type": "stream",
     "text": [
      "c:\\Users\\Dele\\Documents\\D. Professional Registration\\IT\\DATA-EnGR\\00_data_engr_projects\\unicargo\\unicargo_dab\\.venv_dbc\\Lib\\site-packages\\databricks\\sdk\\_widgets\\__init__.py:71: UserWarning: \n",
      "To use databricks widgets interactively in your notebook, please install databricks sdk using:\n",
      "\tpip install 'databricks-sdk[notebook]'\n",
      "Falling back to default_value_only implementation for databricks widgets.\n",
      "  warnings.warn(\n"
     ]
    }
   ],
   "source": [
    "# added for adf\n",
    "\n",
    "dbutils.widgets.text(\"pipeline_id\", \"\")\n",
    "dbutils.widgets.text(\"run_id\", \"\")\n",
    "dbutils.widgets.text(\"task_id\", \"\")\n",
    "dbutils.widgets.text(\"processed_timestamp\", \"\")\n",
    "dbutils.widgets.text(\"catalog\", \"unikargo_dev\")"
   ]
  },
  {
   "cell_type": "code",
   "execution_count": 3,
   "id": "3122f85b",
   "metadata": {},
   "outputs": [],
   "source": [
    "pipeline_id = dbutils.widgets.get(\"pipeline_id\")\n",
    "run_id = dbutils.widgets.get(\"run_id\")\n",
    "task_id = dbutils.widgets.get(\"task_id\")\n",
    "processed_timestamp = dbutils.widgets.get(\"processed_timestamp\")\n",
    "catalog = dbutils.widgets.get(\"catalog\")"
   ]
  },
  {
   "cell_type": "code",
   "execution_count": 4,
   "id": "7d1e09c3",
   "metadata": {},
   "outputs": [],
   "source": [
    "airports_schema = StructType([\n",
    "    StructField(\"iata_code\", StringType(), True),\n",
    "    StructField(\"airline\", StringType(), True),\n",
    "    StructField(\"city\", StringType(), True),\n",
    "    StructField(\"state\", StringType(), True),\n",
    "    StructField(\"country\", StringType(), True),\n",
    "    StructField(\"latitude\", DoubleType(), True),\n",
    "    StructField(\"longitude\", DoubleType(), True),\n",
    "])"
   ]
  },
  {
   "cell_type": "code",
   "execution_count": 5,
   "id": "44f02ec9",
   "metadata": {},
   "outputs": [],
   "source": [
    "df = (spark.read\n",
    "      .schema(airports_schema)\n",
    "    .option(\"header\", \"true\") \n",
    "      # .csv(f\"/Volumes/{catalog}/00_raw/source_unicargo_data/airports.csv\")\n",
    "      .csv(\"abfss://medallion@adlsunikarrgodev.dfs.core.windows.net/raw/volumes/airports.csv\") # added for adf\n",
    "      )\n",
    "\n",
    "#  df.show(5)"
   ]
  },
  {
   "cell_type": "code",
   "execution_count": 6,
   "id": "8405b119",
   "metadata": {},
   "outputs": [],
   "source": [
    "df = df.withColumn(\"metadata\",\n",
    "                   create_map(\n",
    "                       lit(\"pipeline_id\"), lit(pipeline_id),\n",
    "                       lit(\"run_id\"), lit(run_id),\n",
    "                       lit(\"task_id\"), lit(task_id),\n",
    "                       lit(\"processed_timestamp\"), lit(processed_timestamp),\n",
    "                   ))"
   ]
  },
  {
   "cell_type": "code",
   "execution_count": null,
   "id": "0558f7b0",
   "metadata": {},
   "outputs": [],
   "source": [
    "df.write\\\n",
    ".format(\"delta\") \\\n",
    ".mode(\"overwrite\")\\\n",
    ".option(\"overwriteSchema\", \"true\")\\\n",
    ".saveAsTable(f\"`{catalog}`.`01_bronze`.`unikargo_airports_bronze`\")\n"
   ]
  },
  {
   "cell_type": "code",
   "execution_count": null,
   "id": "c5af912f",
   "metadata": {},
   "outputs": [],
   "source": []
  }
 ],
 "metadata": {
  "kernelspec": {
   "display_name": ".venv_dbc (3.11.3)",
   "language": "python",
   "name": "python3"
  },
  "language_info": {
   "codemirror_mode": {
    "name": "ipython",
    "version": 3
   },
   "file_extension": ".py",
   "mimetype": "text/x-python",
   "name": "python",
   "nbconvert_exporter": "python",
   "pygments_lexer": "ipython3",
   "version": "3.11.3"
  }
 },
 "nbformat": 4,
 "nbformat_minor": 5
}
