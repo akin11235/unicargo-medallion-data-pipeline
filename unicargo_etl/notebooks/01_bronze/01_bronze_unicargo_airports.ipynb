{
 "cells": [
  {
   "cell_type": "code",
   "execution_count": 2,
   "id": "ae805c56",
   "metadata": {},
   "outputs": [],
   "source": [
    "import os\n",
    "import sys\n",
    "from pyspark.sql.types import StructType, StructField, StringType, DoubleType\n",
    "from pyspark.sql.functions import col\n",
    "\n",
    "current_dir = os.getcwd() # Current working directory\n",
    "project_root = os.path.abspath(os.path.join(current_dir, '..', '..', '..', 'src')) # Go up 3 levels and append 'src'\n",
    "sys.path.append(project_root) # Add src to sys.path\n",
    "from logging_utils.logger import TaskLogger\n",
    "from unikargo_utils import add_pipeline_metadata\n",
    "from config import get_log_config, get_table_config"
   ]
  },
  {
   "cell_type": "code",
   "execution_count": null,
   "id": "fdd1e2a1",
   "metadata": {},
   "outputs": [
    {
     "name": "stdout",
     "output_type": "stream",
     "text": [
      "TableConfig(catalog='unikargo_dev', schema='01_bronze', table='unikargo_airport_bronze', layer='bronze', table_key=None, format='delta', raw_path='abfss://medallion@adlsunikarrgodev.dfs.core.windows.net/raw/volumes/airports.csv')\n"
     ]
    },
    {
     "name": "stderr",
     "output_type": "stream",
     "text": [
      "c:\\Users\\Dele\\Documents\\D. Professional Registration\\IT\\DATA-EnGR\\00_data_engr_projects\\unicargo\\unicargo_dab\\.venv_dbc\\Lib\\site-packages\\databricks\\sdk\\_widgets\\__init__.py:71: UserWarning: \n",
      "To use databricks widgets interactively in your notebook, please install databricks sdk using:\n",
      "\tpip install 'databricks-sdk[notebook]'\n",
      "Falling back to default_value_only implementation for databricks widgets.\n",
      "  warnings.warn(\n"
     ]
    }
   ],
   "source": [
    "# Create widgets (required for ADF → Databricks integration)\n",
    "dbutils.widgets.text(\"pipeline_id\", \"\")\n",
    "dbutils.widgets.text(\"run_id\", \"\")\n",
    "dbutils.widgets.text(\"task_id\", \"\")\n",
    "dbutils.widgets.text(\"processed_timestamp\", \"\")\n",
    "dbutils.widgets.text(\"catalog\", \"unikargo_dev\")\n",
    "\n",
    "# Extract values from widgets\n",
    "pipeline_id = dbutils.widgets.get(\"pipeline_id\")\n",
    "run_id = dbutils.widgets.get(\"run_id\")\n",
    "task_id = dbutils.widgets.get(\"task_id\")\n",
    "processed_timestamp = dbutils.widgets.get(\"processed_timestamp\")\n",
    "catalog = dbutils.widgets.get(\"catalog\")\n",
    "\n",
    "# Logging parameters for run context\n",
    "pipeline_name = \"pl_unikargo_medallion\"\n",
    "rows_processed = 0\n",
    "log_type =  'task'\n",
    "environment = \"dev\"\n",
    "entity=\"airports\"\n",
    "layer=\"bronze\"\n",
    "\n",
    "# .csv(f\"/Volumes/{catalog}/00_raw/source_unicargo_data/airports.csv\") # adf cant read from external unity catalog volumes. \n",
    "# Your registered volume is 806d999a-a9fd-4bef-aa04-f1ee2b077888, \n",
    "# mapped to abfss://medallion@adlsunikarrgodev.dfs.core.windows.net/raw/volumes\n",
    "airports_cfg = get_table_config(entity=\"airports\", layer=\"bronze\", environment=\"dev\")\n",
    "print(airports_cfg)\n",
    "# source_path=\"abfss://medallion@adlsunikarrgodev.dfs.core.windows.net/raw/volumes/airports.csv\"\n"
   ]
  },
  {
   "cell_type": "code",
   "execution_count": 4,
   "id": "7d1e09c3",
   "metadata": {},
   "outputs": [],
   "source": [
    "airports_schema = StructType([\n",
    "    StructField(\"iata_code\", StringType(), True),\n",
    "    StructField(\"airline\", StringType(), True),\n",
    "    StructField(\"city\", StringType(), True),\n",
    "    StructField(\"state\", StringType(), True),\n",
    "    StructField(\"country\", StringType(), True),\n",
    "    StructField(\"latitude\", DoubleType(), True),\n",
    "    StructField(\"longitude\", DoubleType(), True),\n",
    "])"
   ]
  },
  {
   "cell_type": "code",
   "execution_count": 5,
   "id": "44f02ec9",
   "metadata": {},
   "outputs": [],
   "source": [
    "# --- Task 1: Read\n",
    "airports_csv_path = airports_cfg.raw_path\n",
    "operation = \"tsk_flights_read_raw\"\n",
    "\n",
    "with TaskLogger(\n",
    "    operation=operation,\n",
    "    pipeline_name=pipeline_name,\n",
    "    source_path=airports_csv_path,\n",
    "    log_running=False \n",
    "\n",
    ") as logger:\n",
    "    \n",
    "    airports_df = (spark.read\n",
    "      .schema(airports_schema)\n",
    "      .option(\"header\", \"true\") \n",
    "      .csv(airports_csv_path) \n",
    "      )\n",
    "    \n",
    "    \n",
    "    rows_processed = airports_df.count()\n",
    "    # Update metrics before completion\n",
    "    logger.set_metrics(rows=rows_processed)"
   ]
  },
  {
   "cell_type": "code",
   "execution_count": 6,
   "id": "8405b119",
   "metadata": {},
   "outputs": [],
   "source": [
    "# -----------------------------\n",
    "# --- Task 2: Add metadata to the dataframe (Pipeline identifier, Run identifier and Task identifier)\n",
    "# -----------------------------\n",
    "operation=\"tsk_flights_add_metadata\"\n",
    "\n",
    "with TaskLogger(\n",
    "    operation=operation,\n",
    "    pipeline_name=pipeline_name,\n",
    "    log_running=False \n",
    ") as logger:\n",
    "\n",
    "    airports_df = add_pipeline_metadata(airports_df, pipeline_id, run_id, task_id)\n",
    "\n",
    "    # Count rows after transformation\n",
    "    rows_processed = airports_df.count()\n",
    "\n",
    "    # Update metrics before completion\n",
    "    logger.set_metrics(rows=rows_processed)\n"
   ]
  },
  {
   "cell_type": "code",
   "execution_count": 7,
   "id": "0558f7b0",
   "metadata": {},
   "outputs": [
    {
     "name": "stdout",
     "output_type": "stream",
     "text": [
      "unikargo_dev.01_bronze.unikargo_airport_bronze\n"
     ]
    }
   ],
   "source": [
    "# -----------------------------\n",
    "# Write to bronze\n",
    "# -----------------------------\n",
    "target_path = airports_cfg.full_name\n",
    "print(target_path)\n",
    "operation = \"tsk_airports_persist_bronze\"\n",
    "\n",
    "with TaskLogger(\n",
    "    operation=operation,\n",
    "    pipeline_name=pipeline_name,\n",
    "    target_path=target_path,\n",
    "    log_running=False\n",
    ") as logger:\n",
    "    \n",
    "    # Count rows first\n",
    "    rows_processed = airports_df.count()\n",
    "\n",
    "    airports_df.write\\\n",
    "        .format(\"delta\") \\\n",
    "        .mode(\"overwrite\")\\\n",
    "        .option(\"overwriteSchema\", \"true\")\\\n",
    "        .saveAsTable(target_path)\n",
    "    \n",
    "    # Update metrics before completion\n",
    "    logger.set_metrics(rows=rows_processed)\n"
   ]
  },
  {
   "cell_type": "code",
   "execution_count": 9,
   "id": "fa6b3314",
   "metadata": {},
   "outputs": [
    {
     "name": "stdout",
     "output_type": "stream",
     "text": [
      "+-----------+---------------------+-----------+-----------------------+------------------------------------+---------------------------+-------+-------+-----------------+--------------------------------------------------------------------------------+-----------------------------------------------------+----------+-------------+--------------------------+----------+\n",
      "|pipeline_id|pipeline_name        |environment|run_id                 |task_id                             |operation                  |status |rows   |execution_time_ms|source_path                                                                     |target_path                                          |error_type|error_message|timestamp                 |log_date  |\n",
      "+-----------+---------------------+-----------+-----------------------+------------------------------------+---------------------------+-------+-------+-----------------+--------------------------------------------------------------------------------+-----------------------------------------------------+----------+-------------+--------------------------+----------+\n",
      "|local_run  |pl_unikargo_medallion|dev        |local_run_id_1757178684|ebba694a-8355-44b7-8248-ae556b8e018b|tsk_airports_persist_bronze|SUCCESS|322    |2921             |NULL                                                                            |unikargo_dev.01_bronze.unikargo_airport_bronze       |NULL      |NULL         |2025-09-06 17:11:25.808354|2025-09-06|\n",
      "|local_run  |pl_unikargo_medallion|dev        |local_run_id_1757178610|186e82bd-eb05-4351-b2fa-9ee945ea1da8|tsk_flights_add_metadata   |SUCCESS|322    |341              |NULL                                                                            |NULL                                                 |NULL      |NULL         |2025-09-06 17:10:12.359138|2025-09-06|\n",
      "|local_run  |pl_unikargo_medallion|dev        |local_run_id_1757178553|aa457ed4-1745-4e0e-a06e-288588211615|tsk_flights_read_raw       |SUCCESS|322    |1273             |abfss://medallion@adlsunikarrgodev.dfs.core.windows.net/raw/volumes/airports.csv|NULL                                                 |NULL      |NULL         |2025-09-06 17:09:14.898727|2025-09-06|\n",
      "|local_run  |pl_unikargo_medallion|dev        |local_run_id_1757178028|5a67c888-e618-491b-8001-48add871c047|tsk_flights_persist_bronze |SUCCESS|5819079|26337            |NULL                                                                            |unikargo_dev.01_bronze.unikargo_flights_bronze       |NULL      |NULL         |2025-09-06 17:00:29.895228|2025-09-06|\n",
      "|local_run  |pl_unikargo_medallion|dev        |local_run_id_1757177901|06cdf50d-8d63-49e1-a8a7-d0cc6ae03bb5|tsk_flights_persist_bronze |SUCCESS|5819079|28664            |NULL                                                                            |unikargo_dev.01_bronze.unikargo_flights_bronze       |NULL      |NULL         |2025-09-06 16:58:22.985138|2025-09-06|\n",
      "|local_run  |pl_unikargo_medallion|dev        |local_run_id_1757177870|c85d8cc9-9e4c-4a44-a1d8-cda17b602273|tsk_flights_add_metadata   |SUCCESS|5819079|2740             |NULL                                                                            |NULL                                                 |NULL      |NULL         |2025-09-06 16:57:52.636555|2025-09-06|\n",
      "|local_run  |pl_unikargo_medallion|dev        |local_run_id_1757177866|72436596-1123-49d7-baf2-d356e3437762|read_flights_csv           |SUCCESS|5819079|2670             |abfss://medallion@adlsunikarrgodev.dfs.core.windows.net/raw/volumes/flights.csv |NULL                                                 |NULL      |NULL         |2025-09-06 16:57:48.413891|2025-09-06|\n",
      "|local_run  |pl_unikargo_medallion|dev        |local_run_id_1757177791|39db70df-0743-4d90-b452-79312cf270fb|tsk_flights_add_metadata   |SUCCESS|5819079|3256             |NULL                                                                            |NULL                                                 |NULL      |NULL         |2025-09-06 16:56:33.079113|2025-09-06|\n",
      "|local_run  |pl_unikargo_medallion|dev        |local_run_id_1757177645|ad238d02-6bd5-4e66-b057-7266080312a1|read_flights_csv           |SUCCESS|5819079|13515            |abfss://medallion@adlsunikarrgodev.dfs.core.windows.net/raw/volumes/flights.csv |NULL                                                 |NULL      |NULL         |2025-09-06 16:54:11.648761|2025-09-06|\n",
      "|local_run  |pl_unikargo_medallion|dev        |local_run_id_1757177157|909d130d-e411-46a5-a5a5-662d708a3b13|tsk_airlines_persist_bronze|SUCCESS|14     |3302             |NULL                                                                            |unikargo_dev.01_bronze.unikargo_airline_bronze       |NULL      |NULL         |2025-09-06 16:45:59.311393|2025-09-06|\n",
      "|local_run  |pl_unikargo_medallion|dev        |local_run_id_1757177099|c67c5b80-d9de-4f64-8b28-3c64af8924d1|tsk_airlines_persist_bronze|SUCCESS|14     |3449             |NULL                                                                            |unikargo_dev.01_bronze.unikargo_airline_bronze       |NULL      |NULL         |2025-09-06 16:45:01.621814|2025-09-06|\n",
      "|local_run  |pl_unikargo_medallion|dev        |local_run_id_1757177054|02398fbd-0b8f-409e-a1d4-ab3c391d5515|tsk_airlines_add_metadata  |SUCCESS|14     |371              |NULL                                                                            |NULL                                                 |NULL      |NULL         |2025-09-06 16:44:16.487809|2025-09-06|\n",
      "|local_run  |pl_unikargo_medallion|dev        |local_run_id_1757177040|5352294c-1a20-48ce-876a-ec9bee6e1ba9|tsk_airlines_read_raw      |SUCCESS|14     |11567            |abfss://medallion@adlsunikarrgodev.dfs.core.windows.net/raw/volumes/airlines.csv|NULL                                                 |NULL      |NULL         |2025-09-06 16:44:03.724258|2025-09-06|\n",
      "|local_run  |pl_unikargo_medallion|dev        |local_run_id_1757176157|61fd39fc-dbe3-4edf-ab0c-dcbd46a8c9dd|tsk_airlines_persist_bronze|SUCCESS|14     |2868             |NULL                                                                            |unikargo_dev.01_bronze.unikargo_airline_bronze       |NULL      |NULL         |2025-09-06 16:29:19.228552|2025-09-06|\n",
      "|local_run  |pl_unikargo_medallion|dev        |local_run_id_1757175842|1647d96e-744e-47fd-8ab2-10e3e722ff2d|tsk_airlines_persist_bronze|SUCCESS|14     |2088             |NULL                                                                            |unikargo_dev.01_bronze.unikargo_airline_bronze       |NULL      |NULL         |2025-09-06 16:24:03.988561|2025-09-06|\n",
      "|local_run  |pl_unikargo_medallion|dev        |local_run_id_1757175832|63d8eab1-9815-4947-abe4-915c1851fbe2|tsk_airlines_read_raw      |SUCCESS|14     |1220             |abfss://medallion@adlsunikarrgodev.dfs.core.windows.net/raw/volumes/airlines.csv|NULL                                                 |NULL      |NULL         |2025-09-06 16:23:54.305671|2025-09-06|\n",
      "|local_run  |pl_unikargo_medallion|dev        |local_run_id_1757175380|5b0de54c-a0ef-4a53-8dcb-c7f547f21839|tsk_airlines_persist_bronze|SUCCESS|14     |2312             |NULL                                                                            |unikargo_dev.01_bronze.unikargo_flights_bronze       |NULL      |NULL         |2025-09-06 16:16:22.198032|2025-09-06|\n",
      "|local_run  |pl_unikargo_medallion|dev        |local_run_id_1757175356|c1ea5d23-1fb9-4ebb-aa3e-4896a8457d2d|tsk_airlines_persist_bronze|SUCCESS|14     |3781             |NULL                                                                            |unikargo_dev.01_bronze.unikargo_flights_bronze       |NULL      |NULL         |2025-09-06 16:15:57.988225|2025-09-06|\n",
      "|local_run  |pl_unikargo_medallion|dev        |local_run_id_1757175302|8b0ef837-78a5-44d6-838e-1757bc93e193|tsk_airlines_persist_bronze|SUCCESS|14     |2925             |NULL                                                                            |unikargo_dev.01_bronze.unikargo_flights_bronze       |NULL      |NULL         |2025-09-06 16:15:04.34946 |2025-09-06|\n",
      "|local_run  |pl_unikargo_medallion|dev        |local_run_id_1757175197|1e310073-fcf9-4512-a016-8bfa19b34605|tsk_airlines_persist_bronze|SUCCESS|14     |2090             |NULL                                                                            |`unikargo_dev`.`01_bronze`.`unikargo_airlines_bronze`|NULL      |NULL         |2025-09-06 16:13:19.330977|2025-09-06|\n",
      "+-----------+---------------------+-----------+-----------------------+------------------------------------+---------------------------+-------+-------+-----------------+--------------------------------------------------------------------------------+-----------------------------------------------------+----------+-------------+--------------------------+----------+\n",
      "only showing top 20 rows\n"
     ]
    }
   ],
   "source": [
    "# --------Uncomment to debug (Read Delta logs and show latest logs)-----------------\n",
    "\n",
    "log_path = get_log_config(log_type, environment=environment)\n",
    "logs_df = spark.read.format(\"delta\").load(log_path)\n",
    "logs_df.orderBy(\"timestamp\", ascending=False).show(20, truncate=False)"
   ]
  }
 ],
 "metadata": {
  "kernelspec": {
   "display_name": ".venv_dbc (3.11.3)",
   "language": "python",
   "name": "python3"
  },
  "language_info": {
   "codemirror_mode": {
    "name": "ipython",
    "version": 3
   },
   "file_extension": ".py",
   "mimetype": "text/x-python",
   "name": "python",
   "nbconvert_exporter": "python",
   "pygments_lexer": "ipython3",
   "version": "3.11.3"
  }
 },
 "nbformat": 4,
 "nbformat_minor": 5
}
