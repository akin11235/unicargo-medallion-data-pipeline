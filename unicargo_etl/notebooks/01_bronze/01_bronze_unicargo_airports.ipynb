{
 "cells": [
  {
   "cell_type": "code",
   "execution_count": 1,
   "id": "ae805c56",
   "metadata": {},
   "outputs": [
    {
     "name": "stdout",
     "output_type": "stream",
     "text": [
      "Loaded environments config from: C:\\Users\\Dele\\Documents\\D. Professional Registration\\IT\\DATA-EnGR\\00_data_engr_projects\\unicargo\\unicargo_dab\\configs\\environments.yaml\n",
      "Loaded tables config from: C:\\Users\\Dele\\Documents\\D. Professional Registration\\IT\\DATA-EnGR\\00_data_engr_projects\\unicargo\\unicargo_dab\\configs\\tables.yaml\n"
     ]
    }
   ],
   "source": [
    "import os\n",
    "import sys\n",
    "from pyspark.sql.types import StructType, StructField, StringType, DoubleType\n",
    "from pyspark.sql.functions import col\n",
    "\n",
    "current_dir = os.getcwd() # Current working directory\n",
    "project_root = os.path.abspath(os.path.join(current_dir, '..', '..', '..', 'src')) # Go up 3 levels and append 'src'\n",
    "sys.path.append(project_root) # Add src to sys.path\n",
    "from unikargo_utils import add_pipeline_metadata\n",
    "from config import get_log_adls_path, get_table_config\n",
    "from logging_utils import TaskLogger"
   ]
  },
  {
   "cell_type": "code",
   "execution_count": 2,
   "id": "fdd1e2a1",
   "metadata": {},
   "outputs": [
    {
     "name": "stdout",
     "output_type": "stream",
     "text": [
      "TableConfig(catalog='unikargo_dev', schema='01_bronze', table='unikargo_airport_bronze', layer='bronze', table_key=None, format='delta', raw_path='abfss://medallion@adlsunikarrgodev.dfs.core.windows.net/raw/volumes/airports.csv')\n"
     ]
    },
    {
     "name": "stderr",
     "output_type": "stream",
     "text": [
      "c:\\Users\\Dele\\Documents\\D. Professional Registration\\IT\\DATA-EnGR\\00_data_engr_projects\\unicargo\\unicargo_dab\\.venv_dbc\\Lib\\site-packages\\databricks\\sdk\\_widgets\\__init__.py:71: UserWarning: \n",
      "To use databricks widgets interactively in your notebook, please install databricks sdk using:\n",
      "\tpip install 'databricks-sdk[notebook]'\n",
      "Falling back to default_value_only implementation for databricks widgets.\n",
      "  warnings.warn(\n"
     ]
    }
   ],
   "source": [
    "# Create widgets (required for ADF → Databricks integration)\n",
    "dbutils.widgets.text(\"pipeline_id\", \"\")\n",
    "dbutils.widgets.text(\"run_id\", \"\")\n",
    "dbutils.widgets.text(\"task_id\", \"\")\n",
    "dbutils.widgets.text(\"processed_timestamp\", \"\")\n",
    "dbutils.widgets.text(\"catalog\", \"unikargo_dev\")\n",
    "\n",
    "# Extract values from widgets\n",
    "pipeline_id = dbutils.widgets.get(\"pipeline_id\")\n",
    "run_id = dbutils.widgets.get(\"run_id\")\n",
    "task_id = dbutils.widgets.get(\"task_id\")\n",
    "processed_timestamp = dbutils.widgets.get(\"processed_timestamp\")\n",
    "catalog = dbutils.widgets.get(\"catalog\")\n",
    "\n",
    "# Logging parameters for run context\n",
    "pipeline_name = \"pl_unikargo_medallion\"\n",
    "rows_processed = 0\n",
    "log_type =  'task'\n",
    "environment = \"dev\"\n",
    "entity=\"airports\"\n",
    "layer=\"bronze\"\n",
    "\n",
    "# .csv(f\"/Volumes/{catalog}/00_raw/source_unicargo_data/airports.csv\") # adf cant read from external unity catalog volumes. \n",
    "# Your registered volume is 806d999a-a9fd-4bef-aa04-f1ee2b077888, \n",
    "# mapped to abfss://medallion@adlsunikarrgodev.dfs.core.windows.net/raw/volumes\n",
    "airports_cfg = get_table_config(entity=\"airports\", layer=\"bronze\", environment=\"dev\")\n",
    "print(airports_cfg)\n",
    "# source_path=\"abfss://medallion@adlsunikarrgodev.dfs.core.windows.net/raw/volumes/airports.csv\"\n"
   ]
  },
  {
   "cell_type": "code",
   "execution_count": 3,
   "id": "7d1e09c3",
   "metadata": {},
   "outputs": [],
   "source": [
    "airports_schema = StructType([\n",
    "    StructField(\"iata_code\", StringType(), True),\n",
    "    StructField(\"airline\", StringType(), True),\n",
    "    StructField(\"city\", StringType(), True),\n",
    "    StructField(\"state\", StringType(), True),\n",
    "    StructField(\"country\", StringType(), True),\n",
    "    StructField(\"latitude\", DoubleType(), True),\n",
    "    StructField(\"longitude\", DoubleType(), True),\n",
    "])"
   ]
  },
  {
   "cell_type": "code",
   "execution_count": 4,
   "id": "44f02ec9",
   "metadata": {},
   "outputs": [],
   "source": [
    "# --- Task 1: Read\n",
    "airports_csv_path = airports_cfg.raw_path\n",
    "operation = \"tsk_flights_read_raw\"\n",
    "\n",
    "with TaskLogger(\n",
    "    operation=operation,\n",
    "    pipeline_name=pipeline_name,\n",
    "    source_path=airports_csv_path,\n",
    "    log_running=False \n",
    "\n",
    ") as logger:\n",
    "    \n",
    "    airports_df = (spark.read\n",
    "      .schema(airports_schema)\n",
    "      .option(\"header\", \"true\") \n",
    "      .csv(airports_csv_path) \n",
    "      )\n",
    "    \n",
    "    \n",
    "    rows_processed = airports_df.count()\n",
    "    # Update metrics before completion\n",
    "    logger.set_metrics(rows=rows_processed)"
   ]
  },
  {
   "cell_type": "code",
   "execution_count": 5,
   "id": "8405b119",
   "metadata": {},
   "outputs": [],
   "source": [
    "# -----------------------------\n",
    "# --- Task 2: Add metadata to the dataframe (Pipeline identifier, Run identifier and Task identifier)\n",
    "# -----------------------------\n",
    "operation=\"tsk_flights_add_metadata\"\n",
    "\n",
    "with TaskLogger(\n",
    "    operation=operation,\n",
    "    pipeline_name=pipeline_name,\n",
    "    log_running=False \n",
    ") as logger:\n",
    "\n",
    "    airports_df = add_pipeline_metadata(airports_df, pipeline_id, run_id, task_id)\n",
    "\n",
    "    # Count rows after transformation\n",
    "    rows_processed = airports_df.count()\n",
    "\n",
    "    # Update metrics before completion\n",
    "    logger.set_metrics(rows=rows_processed)\n"
   ]
  },
  {
   "cell_type": "code",
   "execution_count": 6,
   "id": "0558f7b0",
   "metadata": {},
   "outputs": [
    {
     "name": "stdout",
     "output_type": "stream",
     "text": [
      "unikargo_dev.01_bronze.unikargo_airport_bronze\n"
     ]
    }
   ],
   "source": [
    "# -----------------------------\n",
    "# Write to bronze\n",
    "# -----------------------------\n",
    "target_path = airports_cfg.full_name\n",
    "print(target_path)\n",
    "operation = \"tsk_airports_persist_bronze\"\n",
    "\n",
    "with TaskLogger(\n",
    "    operation=operation,\n",
    "    pipeline_name=pipeline_name,\n",
    "    target_path=target_path,\n",
    "    log_running=False\n",
    ") as logger:\n",
    "    \n",
    "    # Count rows first\n",
    "    rows_processed = airports_df.count()\n",
    "\n",
    "    airports_df.write\\\n",
    "        .format(\"delta\") \\\n",
    "        .mode(\"overwrite\")\\\n",
    "        .option(\"overwriteSchema\", \"true\")\\\n",
    "        .saveAsTable(target_path)\n",
    "    \n",
    "    # Update metrics before completion\n",
    "    logger.set_metrics(rows=rows_processed)\n"
   ]
  },
  {
   "cell_type": "code",
   "execution_count": 7,
   "id": "fa6b3314",
   "metadata": {},
   "outputs": [
    {
     "name": "stdout",
     "output_type": "stream",
     "text": [
      "+-----------+---------------------+-----------+-----------------------+------------------------------------+---------------------------+-------+-------+-----------------+--------------------------------------------------------------------------------+--------------------------------------------------+----------+---------------------------------+--------------------------+----------+\n",
      "|pipeline_id|pipeline_name        |environment|run_id                 |task_id                             |operation                  |status |rows   |execution_time_ms|source_path                                                                     |target_path                                       |error_type|error_message                    |timestamp                 |log_date  |\n",
      "+-----------+---------------------+-----------+-----------------------+------------------------------------+---------------------------+-------+-------+-----------------+--------------------------------------------------------------------------------+--------------------------------------------------+----------+---------------------------------+--------------------------+----------+\n",
      "|local_run  |pl_unikargo_medallion|dev        |local_run_id_1757330025|22f8beb0-5c6f-415c-a8fa-608a6b68ffd8|tsk_airports_persist_bronze|SUCCESS|322    |1931             |NULL                                                                            |unikargo_dev.01_bronze.unikargo_airport_bronze    |NULL      |NULL                             |2025-09-08 11:13:45.784082|2025-09-08|\n",
      "|local_run  |pl_unikargo_medallion|dev        |local_run_id_1757330022|874d52b3-cf9a-496c-854f-7a461d05e9a4|tsk_flights_add_metadata   |SUCCESS|322    |357              |NULL                                                                            |NULL                                              |NULL      |NULL                             |2025-09-08 11:13:42.941846|2025-09-08|\n",
      "|local_run  |pl_unikargo_medallion|dev        |local_run_id_1757330020|5ace353c-b8eb-46ae-b418-1cccf591fc2b|tsk_flights_read_raw       |SUCCESS|322    |997              |abfss://medallion@adlsunikarrgodev.dfs.core.windows.net/raw/volumes/airports.csv|NULL                                              |NULL      |NULL                             |2025-09-08 11:13:41.394988|2025-09-08|\n",
      "|local_run  |pl_unikargo_medallion|dev        |local_run_id_1757329984|67d2b3b8-3610-42a2-a835-eed104bbdabf|tsk_flights_persist_bronze |SUCCESS|5819079|9794             |NULL                                                                            |unikargo_dev.01_bronze.unikargo_flights_bronze    |NULL      |NULL                             |2025-09-08 11:13:05.422751|2025-09-08|\n",
      "|local_run  |pl_unikargo_medallion|dev        |local_run_id_1757329973|e1997337-13e7-4526-a978-f96f94061fca|tsk_flights_add_metadata   |SUCCESS|5819079|1946             |NULL                                                                            |NULL                                              |NULL      |NULL                             |2025-09-08 11:12:54.599383|2025-09-08|\n",
      "|local_run  |pl_unikargo_medallion|dev        |local_run_id_1757329970|a4e9a1d9-68cc-4158-915f-a6fedd770418|tsk_flights_read_raw       |SUCCESS|5819079|3700             |abfss://medallion@adlsunikarrgodev.dfs.core.windows.net/raw/volumes/flights.csv |NULL                                              |NULL      |NULL                             |2025-09-08 11:12:51.141328|2025-09-08|\n",
      "|local_run  |pl_unikargo_medallion|dev        |local_run_id_1757329941|7127e3e7-95c9-4cf1-bc82-fb65762290b4|tsk_airlines_persist_bronze|SUCCESS|14     |3531             |NULL                                                                            |unikargo_dev.01_bronze.unikargo_airline_bronze    |NULL      |NULL                             |2025-09-08 11:12:22.286489|2025-09-08|\n",
      "|local_run  |pl_unikargo_medallion|dev        |local_run_id_1757329936|c761b790-cb79-4de4-a85a-165050d2bf73|tsk_airlines_add_metadata  |SUCCESS|14     |365              |NULL                                                                            |NULL                                              |NULL      |NULL                             |2025-09-08 11:12:17.618865|2025-09-08|\n",
      "|local_run  |pl_unikargo_medallion|dev        |local_run_id_1757329932|4bbd3c4f-5e53-4927-9491-58a99e8d28ee|tsk_airlines_read_raw      |SUCCESS|14     |11649            |abfss://medallion@adlsunikarrgodev.dfs.core.windows.net/raw/volumes/airlines.csv|NULL                                              |NULL      |NULL                             |2025-09-08 11:12:14.284557|2025-09-08|\n",
      "|local_run  |pl_unikargo_medallion|dev        |local_run_id_1757303783|6067f623-c7e2-4e37-bd92-fbbbee6500ed|tsk_airlines_persist_silver|SUCCESS|14     |3271             |NULL                                                                            |unikargo_dev.02_silver.unikargo_dim_airline_silver|NULL      |NULL                             |2025-09-08 03:56:24.391621|2025-09-08|\n",
      "|local_run  |pl_unikargo_medallion|dev        |local_run_id_1757303779|650d06bf-eaed-4c8f-a5d6-2c9e04de5055|tsk_airlines_dim_build     |SUCCESS|14     |575              |NULL                                                                            |NULL                                              |NULL      |NULL                             |2025-09-08 03:56:20.124343|2025-09-08|\n",
      "|local_run  |pl_unikargo_medallion|dev        |local_run_id_1757303771|d3edcaa8-50c6-4c09-b29e-dd9b5d3fb197|tsk_airlines_read_bronze   |SUCCESS|14     |815              |unikargo_dev.01_bronze.unikargo_airline_bronze                                  |NULL                                              |NULL      |NULL                             |2025-09-08 03:56:12.567521|2025-09-08|\n",
      "|local_run  |pl_unikargo_medallion|dev        |local_run_id_1757303756|5965dbb1-b8bb-4dc8-b4d8-e963698af94e|tsk_airlines_persist_silver|FAILED |NULL   |0                |NULL                                                                            |unikargo_dev.02_silver.unikargo_dim_airline_silver|NameError |name 'airlines_df' is not defined|2025-09-08 03:55:57.449725|2025-09-08|\n",
      "|local_run  |pl_unikargo_medallion|dev        |local_run_id_1757303480|229c886a-198b-4c95-a364-e8ed5374bfdb|tsk_airlines_dim_build     |SUCCESS|14     |548              |NULL                                                                            |NULL                                              |NULL      |NULL                             |2025-09-08 03:51:21.182705|2025-09-08|\n",
      "|local_run  |pl_unikargo_medallion|dev        |local_run_id_1757303474|7d8ec01b-c0ad-411d-8e45-4608f32544a7|tsk_airlines_read_bronze   |SUCCESS|14     |12586            |unikargo_dev.01_bronze.unikargo_airline_bronze                                  |NULL                                              |NULL      |NULL                             |2025-09-08 03:51:16.779409|2025-09-08|\n",
      "|local_run  |pl_unikargo_medallion|dev        |local_run_id_1757302190|9d355b58-98c8-43b1-add0-b031854c0674|tsk_flights_persist_bronze |SUCCESS|5819079|9889             |NULL                                                                            |unikargo_dev.01_bronze.unikargo_flights_bronze    |NULL      |NULL                             |2025-09-08 03:29:50.901935|2025-09-08|\n",
      "|local_run  |pl_unikargo_medallion|dev        |local_run_id_1757302179|04befb04-bf24-40f5-ad8a-2cd35b4b5df1|tsk_flights_add_metadata   |SUCCESS|5819079|3282             |NULL                                                                            |NULL                                              |NULL      |NULL                             |2025-09-08 03:29:40.024522|2025-09-08|\n",
      "|local_run  |pl_unikargo_medallion|dev        |local_run_id_1757302175|197e61a9-fc25-4617-b1dc-b63604724893|tsk_flights_read_raw       |SUCCESS|5819079|2973             |abfss://medallion@adlsunikarrgodev.dfs.core.windows.net/raw/volumes/flights.csv |NULL                                              |NULL      |NULL                             |2025-09-08 03:29:35.623096|2025-09-08|\n",
      "|local_run  |pl_unikargo_medallion|dev        |local_run_id_1757302125|bfa7c533-41a9-4ed2-8de4-f1f826b1e619|tsk_flights_persist_bronze |SUCCESS|5819079|10389            |NULL                                                                            |unikargo_dev.01_bronze.unikargo_flights_bronze    |NULL      |NULL                             |2025-09-08 03:28:46.336986|2025-09-08|\n",
      "|local_run  |pl_unikargo_medallion|dev        |local_run_id_1757302116|7457d987-116c-4557-b3b8-5809e528cc2c|tsk_airports_persist_bronze|SUCCESS|322    |1978             |NULL                                                                            |unikargo_dev.01_bronze.unikargo_airport_bronze    |NULL      |NULL                             |2025-09-08 03:28:37.338412|2025-09-08|\n",
      "+-----------+---------------------+-----------+-----------------------+------------------------------------+---------------------------+-------+-------+-----------------+--------------------------------------------------------------------------------+--------------------------------------------------+----------+---------------------------------+--------------------------+----------+\n",
      "only showing top 20 rows\n"
     ]
    }
   ],
   "source": [
    "# --------Uncomment to debug (Read Delta logs and show latest logs)-----------------\n",
    "\n",
    "log_path = get_log_adls_path(log_type, environment=environment)\n",
    "logs_df = spark.read.format(\"delta\").load(log_path)\n",
    "logs_df.orderBy(\"timestamp\", ascending=False).show(20, truncate=False)"
   ]
  }
 ],
 "metadata": {
  "kernelspec": {
   "display_name": ".venv_dbc (3.11.3)",
   "language": "python",
   "name": "python3"
  },
  "language_info": {
   "codemirror_mode": {
    "name": "ipython",
    "version": 3
   },
   "file_extension": ".py",
   "mimetype": "text/x-python",
   "name": "python",
   "nbconvert_exporter": "python",
   "pygments_lexer": "ipython3",
   "version": "3.11.3"
  }
 },
 "nbformat": 4,
 "nbformat_minor": 5
}
