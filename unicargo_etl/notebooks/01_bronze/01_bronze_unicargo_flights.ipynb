{
 "cells": [
  {
   "cell_type": "code",
   "execution_count": 11,
   "id": "db37ff9e",
   "metadata": {},
   "outputs": [],
   "source": [
    "import os\n",
    "import sys\n",
    "from pyspark.sql.types import StructType, StructField, IntegerType, StringType\n",
    "from pyspark.sql.functions import col\n",
    "\n",
    "current_dir = os.getcwd() # Current working directory\n",
    "project_root = os.path.abspath(os.path.join(current_dir, '..', '..', '..', 'src')) # Go up 3 levels and append 'src'\n",
    "sys.path.append(project_root) # Add src to sys.path\n",
    "\n",
    "from logging_utils import TaskLogger\n",
    "from unikargo_utils import add_pipeline_metadata\n",
    "from config import get_log_config, get_table_config"
   ]
  },
  {
   "cell_type": "code",
   "execution_count": 12,
   "id": "5bfac6aa",
   "metadata": {},
   "outputs": [],
   "source": [
    "# Create widgets (required for ADF → Databricks integration)\n",
    "dbutils.widgets.text(\"pipeline_id\", \"\")\n",
    "dbutils.widgets.text(\"run_id\", \"\")\n",
    "dbutils.widgets.text(\"task_id\", \"\")\n",
    "dbutils.widgets.text(\"processed_timestamp\", \"\")\n",
    "dbutils.widgets.text(\"catalog\", \"unikargo_dev\")\n",
    "\n",
    "# # Extract values from widgets\n",
    "pipeline_id = dbutils.widgets.get(\"pipeline_id\")\n",
    "run_id = dbutils.widgets.get(\"run_id\")\n",
    "task_id = dbutils.widgets.get(\"task_id\")\n",
    "processed_timestamp = dbutils.widgets.get(\"processed_timestamp\")\n",
    "catalog = dbutils.widgets.get(\"catalog\")\n",
    "\n",
    "# Logging parameters for run context\n",
    "pipeline_name = \"pl_unikargo_medallion\"\n",
    "\n",
    "rows_processed = 0\n",
    "log_type =  'task'\n",
    "environment = 'dev'\n",
    "entity=\"airports\"\n",
    "layer=\"bronze\"\n",
    "# .csv(f\"/Volumes/{catalog}/00_raw/source_unicargo_data/flights.csv\")\n",
    "flights_cfg = get_table_config(entity=\"flights\", layer=\"bronze\", environment=\"dev\")\n",
    "# source_path=\"abfss://medallion@adlsunikarrgodev.dfs.core.windows.net/raw/volumes/flights.csv\"\n"
   ]
  },
  {
   "cell_type": "code",
   "execution_count": 13,
   "id": "c9ff25a9",
   "metadata": {},
   "outputs": [],
   "source": [
    "flights_schema = StructType([\n",
    "    StructField(\"year\", IntegerType(), True),\n",
    "    StructField(\"month\", IntegerType(), True),\n",
    "    StructField(\"day\", IntegerType(), True),\n",
    "    StructField(\"day_of_week\", IntegerType(), True),\n",
    "    StructField(\"airline\", StringType(), True),\n",
    "    StructField(\"flight_number\", IntegerType(), True),\n",
    "    StructField(\"tail_number\", StringType(), True),\n",
    "    StructField(\"origin_airport\", StringType(), True),\n",
    "    StructField(\"destination_airport\", StringType(), True),\n",
    "    StructField(\"scheduled_departure\", IntegerType(), True),\n",
    "    StructField(\"departure_time\", IntegerType(), True),\n",
    "    StructField(\"departure_delay\", IntegerType(), True),\n",
    "    StructField(\"taxi_out\", IntegerType(), True),\n",
    "    StructField(\"wheels_off\", IntegerType(), True),\n",
    "    StructField(\"scheduled_time\", IntegerType(), True),\n",
    "    StructField(\"elapsed_time\", IntegerType(), True),\n",
    "    StructField(\"air_time\", IntegerType(), True),\n",
    "    StructField(\"distance\", IntegerType(), True),\n",
    "    StructField(\"wheels_on\", IntegerType(), True),\n",
    "    StructField(\"taxi_in\", IntegerType(), True),\n",
    "    StructField(\"scheduled_arrival\", IntegerType(), True),\n",
    "    StructField(\"arrival_time\", IntegerType(), True),\n",
    "    StructField(\"arrival_delay\", IntegerType(), True),\n",
    "    StructField(\"diverted\", IntegerType(), True),\n",
    "    StructField(\"cancelled\", IntegerType(), True),\n",
    "    StructField(\"cancellation_reason\", StringType(), True),\n",
    "    StructField(\"air_system_delay\", IntegerType(), True),\n",
    "    StructField(\"security_delay\", IntegerType(), True),\n",
    "    StructField(\"airline_delay\", IntegerType(), True),\n",
    "    StructField(\"late_aircraft_delay\", IntegerType(), True),\n",
    "    StructField(\"weather_delay\", IntegerType(), True),\n",
    "])"
   ]
  },
  {
   "cell_type": "code",
   "execution_count": 14,
   "id": "c3025fa8",
   "metadata": {},
   "outputs": [
    {
     "name": "stdout",
     "output_type": "stream",
     "text": [
      "abfss://medallion@adlsunikarrgodev.dfs.core.windows.net/raw/volumes/flights.csv\n"
     ]
    }
   ],
   "source": [
    "print(flights_cfg.raw_path)"
   ]
  },
  {
   "cell_type": "code",
   "execution_count": null,
   "id": "e92c9af9",
   "metadata": {},
   "outputs": [],
   "source": [
    "# -----------------------------\n",
    "# Read the flights CSV\n",
    "# -----------------------------\n",
    "flights_csv_path = flights_cfg.raw_path\n",
    "operation = \"tsk_flights_read_raw\"\n",
    "\n",
    "with TaskLogger(\n",
    "    operation=operation,\n",
    "    pipeline_name=pipeline_name,\n",
    "    source_path=flights_csv_path,\n",
    "    log_running=False  # keep this False unless you explicitly want a \"RUNNING\" entry\n",
    ") as logger:\n",
    "\n",
    "    flights_df = (spark.read\n",
    "        .schema(flights_schema)\n",
    "        .option(\"header\", \"true\") \n",
    "        .csv(flights_csv_path) \n",
    ")\n",
    "    \n",
    "    rows_processed = flights_df.count()\n",
    "        \n",
    "    # Update metrics before completion\n",
    "    logger.set_metrics(rows=rows_processed)"
   ]
  },
  {
   "cell_type": "code",
   "execution_count": 16,
   "id": "b8091b07",
   "metadata": {},
   "outputs": [],
   "source": [
    "# -----------------------------\n",
    "# --- Task 2: Add metadata to the dataframe \n",
    "# -----------------------------\n",
    "operation=\"tsk_flights_add_metadata\"\n",
    "\n",
    "with TaskLogger(\n",
    "    operation=operation,\n",
    "    pipeline_name=pipeline_name,\n",
    "    log_running=False \n",
    ") as logger:\n",
    "\n",
    "    flights_df_df = add_pipeline_metadata(flights_df, pipeline_id, run_id, task_id)\n",
    "\n",
    "    # Count rows after transformation\n",
    "    rows_processed = flights_df.count()\n",
    "\n",
    "    # Update metrics before completion\n",
    "    logger.set_metrics(rows=rows_processed)"
   ]
  },
  {
   "cell_type": "code",
   "execution_count": 19,
   "id": "877642f6",
   "metadata": {},
   "outputs": [
    {
     "name": "stdout",
     "output_type": "stream",
     "text": [
      "target_path unikargo_dev.01_bronze.unikargo_flights_bronze\n"
     ]
    }
   ],
   "source": [
    "# -----------------------------\n",
    "# Write to bronze\n",
    "# -----------------------------\n",
    "target_path = flights_cfg.full_name\n",
    "print(\"target_path: \", target_path)\n",
    "operation = \"tsk_flights_persist_bronze\"\n",
    "\n",
    "\n",
    "with TaskLogger(\n",
    "    operation=operation,\n",
    "    pipeline_name=pipeline_name,\n",
    "    target_path=target_path,\n",
    "    log_running=False\n",
    ") as logger:\n",
    "\n",
    "    # Count rows first\n",
    "    rows_processed = flights_df.count()\n",
    "\n",
    "    flights_df.write.\\\n",
    "    mode(\"overwrite\").\\\n",
    "    option(\"overwriteSchema\", \"true\").\\\n",
    "    saveAsTable(target_path)\n",
    "\n",
    "    # Update metrics before completion\n",
    "    logger.set_metrics(rows=rows_processed)\n"
   ]
  },
  {
   "cell_type": "code",
   "execution_count": 18,
   "id": "5338616f",
   "metadata": {},
   "outputs": [
    {
     "name": "stdout",
     "output_type": "stream",
     "text": [
      "+-----------+---------------------+-----------+-----------------------+------------------------------------+---------------------------+-------+-------+-----------------+--------------------------------------------------------------------------------+-----------------------------------------------------+----------+-------------+--------------------------+----------+\n",
      "|pipeline_id|pipeline_name        |environment|run_id                 |task_id                             |operation                  |status |rows   |execution_time_ms|source_path                                                                     |target_path                                          |error_type|error_message|timestamp                 |log_date  |\n",
      "+-----------+---------------------+-----------+-----------------------+------------------------------------+---------------------------+-------+-------+-----------------+--------------------------------------------------------------------------------+-----------------------------------------------------+----------+-------------+--------------------------+----------+\n",
      "|local_run  |pl_unikargo_medallion|dev        |local_run_id_1757177901|06cdf50d-8d63-49e1-a8a7-d0cc6ae03bb5|tsk_flights_persist_bronze |SUCCESS|5819079|28664            |NULL                                                                            |unikargo_dev.01_bronze.unikargo_flights_bronze       |NULL      |NULL         |2025-09-06 16:58:22.985138|2025-09-06|\n",
      "|local_run  |pl_unikargo_medallion|dev        |local_run_id_1757177870|c85d8cc9-9e4c-4a44-a1d8-cda17b602273|tsk_flights_add_metadata   |SUCCESS|5819079|2740             |NULL                                                                            |NULL                                                 |NULL      |NULL         |2025-09-06 16:57:52.636555|2025-09-06|\n",
      "|local_run  |pl_unikargo_medallion|dev        |local_run_id_1757177866|72436596-1123-49d7-baf2-d356e3437762|read_flights_csv           |SUCCESS|5819079|2670             |abfss://medallion@adlsunikarrgodev.dfs.core.windows.net/raw/volumes/flights.csv |NULL                                                 |NULL      |NULL         |2025-09-06 16:57:48.413891|2025-09-06|\n",
      "|local_run  |pl_unikargo_medallion|dev        |local_run_id_1757177791|39db70df-0743-4d90-b452-79312cf270fb|tsk_flights_add_metadata   |SUCCESS|5819079|3256             |NULL                                                                            |NULL                                                 |NULL      |NULL         |2025-09-06 16:56:33.079113|2025-09-06|\n",
      "|local_run  |pl_unikargo_medallion|dev        |local_run_id_1757177645|ad238d02-6bd5-4e66-b057-7266080312a1|read_flights_csv           |SUCCESS|5819079|13515            |abfss://medallion@adlsunikarrgodev.dfs.core.windows.net/raw/volumes/flights.csv |NULL                                                 |NULL      |NULL         |2025-09-06 16:54:11.648761|2025-09-06|\n",
      "|local_run  |pl_unikargo_medallion|dev        |local_run_id_1757177157|909d130d-e411-46a5-a5a5-662d708a3b13|tsk_airlines_persist_bronze|SUCCESS|14     |3302             |NULL                                                                            |unikargo_dev.01_bronze.unikargo_airline_bronze       |NULL      |NULL         |2025-09-06 16:45:59.311393|2025-09-06|\n",
      "|local_run  |pl_unikargo_medallion|dev        |local_run_id_1757177099|c67c5b80-d9de-4f64-8b28-3c64af8924d1|tsk_airlines_persist_bronze|SUCCESS|14     |3449             |NULL                                                                            |unikargo_dev.01_bronze.unikargo_airline_bronze       |NULL      |NULL         |2025-09-06 16:45:01.621814|2025-09-06|\n",
      "|local_run  |pl_unikargo_medallion|dev        |local_run_id_1757177054|02398fbd-0b8f-409e-a1d4-ab3c391d5515|tsk_airlines_add_metadata  |SUCCESS|14     |371              |NULL                                                                            |NULL                                                 |NULL      |NULL         |2025-09-06 16:44:16.487809|2025-09-06|\n",
      "|local_run  |pl_unikargo_medallion|dev        |local_run_id_1757177040|5352294c-1a20-48ce-876a-ec9bee6e1ba9|tsk_airlines_read_raw      |SUCCESS|14     |11567            |abfss://medallion@adlsunikarrgodev.dfs.core.windows.net/raw/volumes/airlines.csv|NULL                                                 |NULL      |NULL         |2025-09-06 16:44:03.724258|2025-09-06|\n",
      "|local_run  |pl_unikargo_medallion|dev        |local_run_id_1757176157|61fd39fc-dbe3-4edf-ab0c-dcbd46a8c9dd|tsk_airlines_persist_bronze|SUCCESS|14     |2868             |NULL                                                                            |unikargo_dev.01_bronze.unikargo_airline_bronze       |NULL      |NULL         |2025-09-06 16:29:19.228552|2025-09-06|\n",
      "|local_run  |pl_unikargo_medallion|dev        |local_run_id_1757175842|1647d96e-744e-47fd-8ab2-10e3e722ff2d|tsk_airlines_persist_bronze|SUCCESS|14     |2088             |NULL                                                                            |unikargo_dev.01_bronze.unikargo_airline_bronze       |NULL      |NULL         |2025-09-06 16:24:03.988561|2025-09-06|\n",
      "|local_run  |pl_unikargo_medallion|dev        |local_run_id_1757175832|63d8eab1-9815-4947-abe4-915c1851fbe2|tsk_airlines_read_raw      |SUCCESS|14     |1220             |abfss://medallion@adlsunikarrgodev.dfs.core.windows.net/raw/volumes/airlines.csv|NULL                                                 |NULL      |NULL         |2025-09-06 16:23:54.305671|2025-09-06|\n",
      "|local_run  |pl_unikargo_medallion|dev        |local_run_id_1757175380|5b0de54c-a0ef-4a53-8dcb-c7f547f21839|tsk_airlines_persist_bronze|SUCCESS|14     |2312             |NULL                                                                            |unikargo_dev.01_bronze.unikargo_flights_bronze       |NULL      |NULL         |2025-09-06 16:16:22.198032|2025-09-06|\n",
      "|local_run  |pl_unikargo_medallion|dev        |local_run_id_1757175356|c1ea5d23-1fb9-4ebb-aa3e-4896a8457d2d|tsk_airlines_persist_bronze|SUCCESS|14     |3781             |NULL                                                                            |unikargo_dev.01_bronze.unikargo_flights_bronze       |NULL      |NULL         |2025-09-06 16:15:57.988225|2025-09-06|\n",
      "|local_run  |pl_unikargo_medallion|dev        |local_run_id_1757175302|8b0ef837-78a5-44d6-838e-1757bc93e193|tsk_airlines_persist_bronze|SUCCESS|14     |2925             |NULL                                                                            |unikargo_dev.01_bronze.unikargo_flights_bronze       |NULL      |NULL         |2025-09-06 16:15:04.34946 |2025-09-06|\n",
      "|local_run  |pl_unikargo_medallion|dev        |local_run_id_1757175197|1e310073-fcf9-4512-a016-8bfa19b34605|tsk_airlines_persist_bronze|SUCCESS|14     |2090             |NULL                                                                            |`unikargo_dev`.`01_bronze`.`unikargo_airlines_bronze`|NULL      |NULL         |2025-09-06 16:13:19.330977|2025-09-06|\n",
      "|local_run  |pl_unikargo_medallion|dev        |local_run_id_1757175189|587266d6-6bef-422e-8460-5a933a4d4ed8|tsk_airlines_add_metadata  |SUCCESS|14     |382              |NULL                                                                            |NULL                                                 |NULL      |NULL         |2025-09-06 16:13:10.849692|2025-09-06|\n",
      "|local_run  |pl_unikargo_medallion|dev        |local_run_id_1757175187|94547524-ebfe-4e76-bee3-1414890f2da9|tsk_airlines_read_raw      |SUCCESS|14     |1694             |abfss://medallion@adlsunikarrgodev.dfs.core.windows.net/raw/volumes/airlines.csv|NULL                                                 |NULL      |NULL         |2025-09-06 16:13:08.735273|2025-09-06|\n",
      "|local_run  |pl_unikargo_medallion|dev        |local_run_id_1757174753|d4554693-82c9-40c7-8d65-caa2d24f171e|tsk_airlines_persist_silver|SUCCESS|14     |4922             |NULL                                                                            |NULL                                                 |NULL      |NULL         |2025-09-06 16:05:55.338626|2025-09-06|\n",
      "|local_run  |pl_unikargo_medallion|dev        |local_run_id_1757174747|aa968153-4587-4c3b-be9c-e90cfad24e52|tsk_airlines_dim_build     |SUCCESS|14     |983              |NULL                                                                            |NULL                                                 |NULL      |NULL         |2025-09-06 16:05:48.900252|2025-09-06|\n",
      "+-----------+---------------------+-----------+-----------------------+------------------------------------+---------------------------+-------+-------+-----------------+--------------------------------------------------------------------------------+-----------------------------------------------------+----------+-------------+--------------------------+----------+\n",
      "only showing top 20 rows\n"
     ]
    }
   ],
   "source": [
    "# --------Uncomment to debug (Read Delta logs and show latest logs)-----------------\n",
    "\n",
    "log_path = get_log_config(log_type, environment=environment) # Path to save logging for tasks\n",
    "logs_df = spark.read.format(\"delta\").load(log_path)\n",
    "logs_df.orderBy(\"timestamp\", ascending=False).show(20, truncate=False)"
   ]
  }
 ],
 "metadata": {
  "kernelspec": {
   "display_name": ".venv_dbc (3.11.3)",
   "language": "python",
   "name": "python3"
  },
  "language_info": {
   "codemirror_mode": {
    "name": "ipython",
    "version": 3
   },
   "file_extension": ".py",
   "mimetype": "text/x-python",
   "name": "python",
   "nbconvert_exporter": "python",
   "pygments_lexer": "ipython3",
   "version": "3.11.3"
  }
 },
 "nbformat": 4,
 "nbformat_minor": 5
}
