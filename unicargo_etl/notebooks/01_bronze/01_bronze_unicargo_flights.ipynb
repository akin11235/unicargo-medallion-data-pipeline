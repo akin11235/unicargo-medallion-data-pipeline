{
 "cells": [
  {
   "cell_type": "code",
   "execution_count": 1,
   "id": "db37ff9e",
   "metadata": {},
   "outputs": [
    {
     "name": "stdout",
     "output_type": "stream",
     "text": [
      "Loaded environments config from: C:\\Users\\Dele\\Documents\\D. Professional Registration\\IT\\DATA-EnGR\\00_data_engr_projects\\unicargo\\unicargo_dab\\configs\\environments.yaml\n",
      "Loaded tables config from: C:\\Users\\Dele\\Documents\\D. Professional Registration\\IT\\DATA-EnGR\\00_data_engr_projects\\unicargo\\unicargo_dab\\configs\\tables.yaml\n"
     ]
    }
   ],
   "source": [
    "import os\n",
    "import sys\n",
    "from pyspark.sql.types import StructType, StructField, IntegerType, StringType\n",
    "from pyspark.sql.functions import col\n",
    "\n",
    "current_dir = os.getcwd() # Current working directory\n",
    "project_root = os.path.abspath(os.path.join(current_dir, '..', '..', '..', 'src')) # Go up 3 levels and append 'src'\n",
    "sys.path.append(project_root) # Add src to sys.path\n",
    "\n",
    "from logging_utils import TaskLogger\n",
    "from unikargo_utils import add_pipeline_metadata\n",
    "from config import get_log_adls_path, get_table_config"
   ]
  },
  {
   "cell_type": "code",
   "execution_count": 2,
   "id": "5bfac6aa",
   "metadata": {},
   "outputs": [
    {
     "name": "stderr",
     "output_type": "stream",
     "text": [
      "c:\\Users\\Dele\\Documents\\D. Professional Registration\\IT\\DATA-EnGR\\00_data_engr_projects\\unicargo\\unicargo_dab\\.venv_dbc\\Lib\\site-packages\\databricks\\sdk\\_widgets\\__init__.py:71: UserWarning: \n",
      "To use databricks widgets interactively in your notebook, please install databricks sdk using:\n",
      "\tpip install 'databricks-sdk[notebook]'\n",
      "Falling back to default_value_only implementation for databricks widgets.\n",
      "  warnings.warn(\n"
     ]
    }
   ],
   "source": [
    "# Create widgets (required for ADF → Databricks integration)\n",
    "dbutils.widgets.text(\"pipeline_id\", \"\")\n",
    "dbutils.widgets.text(\"run_id\", \"\")\n",
    "dbutils.widgets.text(\"task_id\", \"\")\n",
    "dbutils.widgets.text(\"processed_timestamp\", \"\")\n",
    "dbutils.widgets.text(\"catalog\", \"unikargo_dev\")\n",
    "\n",
    "# # Extract values from widgets\n",
    "pipeline_id = dbutils.widgets.get(\"pipeline_id\")\n",
    "run_id = dbutils.widgets.get(\"run_id\")\n",
    "task_id = dbutils.widgets.get(\"task_id\")\n",
    "processed_timestamp = dbutils.widgets.get(\"processed_timestamp\")\n",
    "catalog = dbutils.widgets.get(\"catalog\")\n",
    "\n",
    "# Logging parameters for run context\n",
    "pipeline_name = \"pl_unikargo_medallion\"\n",
    "\n",
    "rows_processed = 0\n",
    "log_type =  'task'\n",
    "environment = 'dev'\n",
    "entity=\"airports\"\n",
    "layer=\"bronze\"\n",
    "# .csv(f\"/Volumes/{catalog}/00_raw/source_unicargo_data/flights.csv\")\n",
    "flights_cfg = get_table_config(entity=\"flights\", layer=\"bronze\", environment=\"dev\")\n",
    "# source_path=\"abfss://medallion@adlsunikarrgodev.dfs.core.windows.net/raw/volumes/flights.csv\"\n"
   ]
  },
  {
   "cell_type": "code",
   "execution_count": 3,
   "id": "c9ff25a9",
   "metadata": {},
   "outputs": [],
   "source": [
    "flights_schema = StructType([\n",
    "    StructField(\"year\", IntegerType(), True),\n",
    "    StructField(\"month\", IntegerType(), True),\n",
    "    StructField(\"day\", IntegerType(), True),\n",
    "    StructField(\"day_of_week\", IntegerType(), True),\n",
    "    StructField(\"airline\", StringType(), True),\n",
    "    StructField(\"flight_number\", IntegerType(), True),\n",
    "    StructField(\"tail_number\", StringType(), True),\n",
    "    StructField(\"origin_airport\", StringType(), True),\n",
    "    StructField(\"destination_airport\", StringType(), True),\n",
    "    StructField(\"scheduled_departure\", IntegerType(), True),\n",
    "    StructField(\"departure_time\", IntegerType(), True),\n",
    "    StructField(\"departure_delay\", IntegerType(), True),\n",
    "    StructField(\"taxi_out\", IntegerType(), True),\n",
    "    StructField(\"wheels_off\", IntegerType(), True),\n",
    "    StructField(\"scheduled_time\", IntegerType(), True),\n",
    "    StructField(\"elapsed_time\", IntegerType(), True),\n",
    "    StructField(\"air_time\", IntegerType(), True),\n",
    "    StructField(\"distance\", IntegerType(), True),\n",
    "    StructField(\"wheels_on\", IntegerType(), True),\n",
    "    StructField(\"taxi_in\", IntegerType(), True),\n",
    "    StructField(\"scheduled_arrival\", IntegerType(), True),\n",
    "    StructField(\"arrival_time\", IntegerType(), True),\n",
    "    StructField(\"arrival_delay\", IntegerType(), True),\n",
    "    StructField(\"diverted\", IntegerType(), True),\n",
    "    StructField(\"cancelled\", IntegerType(), True),\n",
    "    StructField(\"cancellation_reason\", StringType(), True),\n",
    "    StructField(\"air_system_delay\", IntegerType(), True),\n",
    "    StructField(\"security_delay\", IntegerType(), True),\n",
    "    StructField(\"airline_delay\", IntegerType(), True),\n",
    "    StructField(\"late_aircraft_delay\", IntegerType(), True),\n",
    "    StructField(\"weather_delay\", IntegerType(), True),\n",
    "])"
   ]
  },
  {
   "cell_type": "code",
   "execution_count": 4,
   "id": "c3025fa8",
   "metadata": {},
   "outputs": [
    {
     "name": "stdout",
     "output_type": "stream",
     "text": [
      "abfss://medallion@adlsunikarrgodev.dfs.core.windows.net/raw/volumes/flights.csv\n"
     ]
    }
   ],
   "source": [
    "print(flights_cfg.raw_path)"
   ]
  },
  {
   "cell_type": "code",
   "execution_count": 5,
   "id": "e92c9af9",
   "metadata": {},
   "outputs": [],
   "source": [
    "# -----------------------------\n",
    "# Read the flights CSV\n",
    "# -----------------------------\n",
    "flights_csv_path = flights_cfg.raw_path\n",
    "operation = \"tsk_flights_read_raw\"\n",
    "\n",
    "with TaskLogger(\n",
    "    operation=operation,\n",
    "    pipeline_name=pipeline_name,\n",
    "    source_path=flights_csv_path,\n",
    "    log_running=False  # keep this False unless you explicitly want a \"RUNNING\" entry\n",
    ") as logger:\n",
    "\n",
    "    flights_df = (spark.read\n",
    "        .schema(flights_schema)\n",
    "        .option(\"header\", \"true\") \n",
    "        .csv(flights_csv_path) \n",
    ")\n",
    "    \n",
    "    rows_processed = flights_df.count()\n",
    "        \n",
    "    # Update metrics before completion\n",
    "    logger.set_metrics(rows=rows_processed)"
   ]
  },
  {
   "cell_type": "code",
   "execution_count": 6,
   "id": "b8091b07",
   "metadata": {},
   "outputs": [],
   "source": [
    "# -----------------------------\n",
    "# --- Task 2: Add metadata to the dataframe \n",
    "# -----------------------------\n",
    "operation=\"tsk_flights_add_metadata\"\n",
    "\n",
    "with TaskLogger(\n",
    "    operation=operation,\n",
    "    pipeline_name=pipeline_name,\n",
    "    log_running=False \n",
    ") as logger:\n",
    "\n",
    "    flights_df_df = add_pipeline_metadata(flights_df, pipeline_id, run_id, task_id)\n",
    "\n",
    "    # Count rows after transformation\n",
    "    rows_processed = flights_df.count()\n",
    "\n",
    "    # Update metrics before completion\n",
    "    logger.set_metrics(rows=rows_processed)"
   ]
  },
  {
   "cell_type": "code",
   "execution_count": 7,
   "id": "877642f6",
   "metadata": {},
   "outputs": [
    {
     "name": "stdout",
     "output_type": "stream",
     "text": [
      "target_path:  unikargo_dev.01_bronze.unikargo_flights_bronze\n"
     ]
    }
   ],
   "source": [
    "# -----------------------------\n",
    "# Write to bronze\n",
    "# -----------------------------\n",
    "target_path = flights_cfg.full_name\n",
    "print(\"target_path: \", target_path)\n",
    "operation = \"tsk_flights_persist_bronze\"\n",
    "\n",
    "\n",
    "with TaskLogger(\n",
    "    operation=operation,\n",
    "    pipeline_name=pipeline_name,\n",
    "    target_path=target_path,\n",
    "    log_running=False\n",
    ") as logger:\n",
    "\n",
    "    # Count rows first\n",
    "    rows_processed = flights_df.count()\n",
    "\n",
    "    flights_df.write.\\\n",
    "    mode(\"overwrite\").\\\n",
    "    option(\"overwriteSchema\", \"true\").\\\n",
    "    saveAsTable(target_path)\n",
    "\n",
    "    # Update metrics before completion\n",
    "    logger.set_metrics(rows=rows_processed)\n"
   ]
  },
  {
   "cell_type": "code",
   "execution_count": 8,
   "id": "5338616f",
   "metadata": {},
   "outputs": [
    {
     "name": "stdout",
     "output_type": "stream",
     "text": [
      "+-----------+---------------------+-----------+-----------------------+------------------------------------+---------------------------+-------+-------+-----------------+--------------------------------------------------------------------------------+--------------------------------------------------+----------+---------------------------------+--------------------------+----------+\n",
      "|pipeline_id|pipeline_name        |environment|run_id                 |task_id                             |operation                  |status |rows   |execution_time_ms|source_path                                                                     |target_path                                       |error_type|error_message                    |timestamp                 |log_date  |\n",
      "+-----------+---------------------+-----------+-----------------------+------------------------------------+---------------------------+-------+-------+-----------------+--------------------------------------------------------------------------------+--------------------------------------------------+----------+---------------------------------+--------------------------+----------+\n",
      "|local_run  |pl_unikargo_medallion|dev        |local_run_id_1757329984|67d2b3b8-3610-42a2-a835-eed104bbdabf|tsk_flights_persist_bronze |SUCCESS|5819079|9794             |NULL                                                                            |unikargo_dev.01_bronze.unikargo_flights_bronze    |NULL      |NULL                             |2025-09-08 11:13:05.422751|2025-09-08|\n",
      "|local_run  |pl_unikargo_medallion|dev        |local_run_id_1757329973|e1997337-13e7-4526-a978-f96f94061fca|tsk_flights_add_metadata   |SUCCESS|5819079|1946             |NULL                                                                            |NULL                                              |NULL      |NULL                             |2025-09-08 11:12:54.599383|2025-09-08|\n",
      "|local_run  |pl_unikargo_medallion|dev        |local_run_id_1757329970|a4e9a1d9-68cc-4158-915f-a6fedd770418|tsk_flights_read_raw       |SUCCESS|5819079|3700             |abfss://medallion@adlsunikarrgodev.dfs.core.windows.net/raw/volumes/flights.csv |NULL                                              |NULL      |NULL                             |2025-09-08 11:12:51.141328|2025-09-08|\n",
      "|local_run  |pl_unikargo_medallion|dev        |local_run_id_1757329941|7127e3e7-95c9-4cf1-bc82-fb65762290b4|tsk_airlines_persist_bronze|SUCCESS|14     |3531             |NULL                                                                            |unikargo_dev.01_bronze.unikargo_airline_bronze    |NULL      |NULL                             |2025-09-08 11:12:22.286489|2025-09-08|\n",
      "|local_run  |pl_unikargo_medallion|dev        |local_run_id_1757329936|c761b790-cb79-4de4-a85a-165050d2bf73|tsk_airlines_add_metadata  |SUCCESS|14     |365              |NULL                                                                            |NULL                                              |NULL      |NULL                             |2025-09-08 11:12:17.618865|2025-09-08|\n",
      "|local_run  |pl_unikargo_medallion|dev        |local_run_id_1757329932|4bbd3c4f-5e53-4927-9491-58a99e8d28ee|tsk_airlines_read_raw      |SUCCESS|14     |11649            |abfss://medallion@adlsunikarrgodev.dfs.core.windows.net/raw/volumes/airlines.csv|NULL                                              |NULL      |NULL                             |2025-09-08 11:12:14.284557|2025-09-08|\n",
      "|local_run  |pl_unikargo_medallion|dev        |local_run_id_1757303783|6067f623-c7e2-4e37-bd92-fbbbee6500ed|tsk_airlines_persist_silver|SUCCESS|14     |3271             |NULL                                                                            |unikargo_dev.02_silver.unikargo_dim_airline_silver|NULL      |NULL                             |2025-09-08 03:56:24.391621|2025-09-08|\n",
      "|local_run  |pl_unikargo_medallion|dev        |local_run_id_1757303779|650d06bf-eaed-4c8f-a5d6-2c9e04de5055|tsk_airlines_dim_build     |SUCCESS|14     |575              |NULL                                                                            |NULL                                              |NULL      |NULL                             |2025-09-08 03:56:20.124343|2025-09-08|\n",
      "|local_run  |pl_unikargo_medallion|dev        |local_run_id_1757303771|d3edcaa8-50c6-4c09-b29e-dd9b5d3fb197|tsk_airlines_read_bronze   |SUCCESS|14     |815              |unikargo_dev.01_bronze.unikargo_airline_bronze                                  |NULL                                              |NULL      |NULL                             |2025-09-08 03:56:12.567521|2025-09-08|\n",
      "|local_run  |pl_unikargo_medallion|dev        |local_run_id_1757303756|5965dbb1-b8bb-4dc8-b4d8-e963698af94e|tsk_airlines_persist_silver|FAILED |NULL   |0                |NULL                                                                            |unikargo_dev.02_silver.unikargo_dim_airline_silver|NameError |name 'airlines_df' is not defined|2025-09-08 03:55:57.449725|2025-09-08|\n",
      "|local_run  |pl_unikargo_medallion|dev        |local_run_id_1757303480|229c886a-198b-4c95-a364-e8ed5374bfdb|tsk_airlines_dim_build     |SUCCESS|14     |548              |NULL                                                                            |NULL                                              |NULL      |NULL                             |2025-09-08 03:51:21.182705|2025-09-08|\n",
      "|local_run  |pl_unikargo_medallion|dev        |local_run_id_1757303474|7d8ec01b-c0ad-411d-8e45-4608f32544a7|tsk_airlines_read_bronze   |SUCCESS|14     |12586            |unikargo_dev.01_bronze.unikargo_airline_bronze                                  |NULL                                              |NULL      |NULL                             |2025-09-08 03:51:16.779409|2025-09-08|\n",
      "|local_run  |pl_unikargo_medallion|dev        |local_run_id_1757302190|9d355b58-98c8-43b1-add0-b031854c0674|tsk_flights_persist_bronze |SUCCESS|5819079|9889             |NULL                                                                            |unikargo_dev.01_bronze.unikargo_flights_bronze    |NULL      |NULL                             |2025-09-08 03:29:50.901935|2025-09-08|\n",
      "|local_run  |pl_unikargo_medallion|dev        |local_run_id_1757302179|04befb04-bf24-40f5-ad8a-2cd35b4b5df1|tsk_flights_add_metadata   |SUCCESS|5819079|3282             |NULL                                                                            |NULL                                              |NULL      |NULL                             |2025-09-08 03:29:40.024522|2025-09-08|\n",
      "|local_run  |pl_unikargo_medallion|dev        |local_run_id_1757302175|197e61a9-fc25-4617-b1dc-b63604724893|tsk_flights_read_raw       |SUCCESS|5819079|2973             |abfss://medallion@adlsunikarrgodev.dfs.core.windows.net/raw/volumes/flights.csv |NULL                                              |NULL      |NULL                             |2025-09-08 03:29:35.623096|2025-09-08|\n",
      "|local_run  |pl_unikargo_medallion|dev        |local_run_id_1757302125|bfa7c533-41a9-4ed2-8de4-f1f826b1e619|tsk_flights_persist_bronze |SUCCESS|5819079|10389            |NULL                                                                            |unikargo_dev.01_bronze.unikargo_flights_bronze    |NULL      |NULL                             |2025-09-08 03:28:46.336986|2025-09-08|\n",
      "|local_run  |pl_unikargo_medallion|dev        |local_run_id_1757302116|7457d987-116c-4557-b3b8-5809e528cc2c|tsk_airports_persist_bronze|SUCCESS|322    |1978             |NULL                                                                            |unikargo_dev.01_bronze.unikargo_airport_bronze    |NULL      |NULL                             |2025-09-08 03:28:37.338412|2025-09-08|\n",
      "|local_run  |pl_unikargo_medallion|dev        |local_run_id_1757302113|23da3c8c-9e40-4d71-a33d-713f1b80eaaf|tsk_flights_add_metadata   |SUCCESS|5819079|2995             |NULL                                                                            |NULL                                              |NULL      |NULL                             |2025-09-08 03:28:34.493636|2025-09-08|\n",
      "|local_run  |pl_unikargo_medallion|dev        |local_run_id_1757302113|683b0afb-70e2-4932-9c65-3c51bf86ab50|tsk_flights_add_metadata   |SUCCESS|322    |245              |NULL                                                                            |NULL                                              |NULL      |NULL                             |2025-09-08 03:28:34.458216|2025-09-08|\n",
      "|local_run  |pl_unikargo_medallion|dev        |local_run_id_1757302112|1c34d355-6e3b-4c50-bca6-d60b932b501b|tsk_flights_read_raw       |SUCCESS|322    |1894             |abfss://medallion@adlsunikarrgodev.dfs.core.windows.net/raw/volumes/airports.csv|NULL                                              |NULL      |NULL                             |2025-09-08 03:28:33.183466|2025-09-08|\n",
      "+-----------+---------------------+-----------+-----------------------+------------------------------------+---------------------------+-------+-------+-----------------+--------------------------------------------------------------------------------+--------------------------------------------------+----------+---------------------------------+--------------------------+----------+\n",
      "only showing top 20 rows\n"
     ]
    }
   ],
   "source": [
    "# --------Uncomment to debug (Read Delta logs and show latest logs)-----------------\n",
    "\n",
    "log_path = get_log_adls_path(log_type, environment=environment) # Path to save logging for tasks\n",
    "logs_df = spark.read.format(\"delta\").load(log_path)\n",
    "logs_df.orderBy(\"timestamp\", ascending=False).show(20, truncate=False)"
   ]
  }
 ],
 "metadata": {
  "kernelspec": {
   "display_name": ".venv_dbc (3.11.3)",
   "language": "python",
   "name": "python3"
  },
  "language_info": {
   "codemirror_mode": {
    "name": "ipython",
    "version": 3
   },
   "file_extension": ".py",
   "mimetype": "text/x-python",
   "name": "python",
   "nbconvert_exporter": "python",
   "pygments_lexer": "ipython3",
   "version": "3.11.3"
  }
 },
 "nbformat": 4,
 "nbformat_minor": 5
}
