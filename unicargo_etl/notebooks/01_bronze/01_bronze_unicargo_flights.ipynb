{
 "cells": [
  {
   "cell_type": "code",
   "execution_count": 1,
   "id": "db37ff9e",
   "metadata": {},
   "outputs": [],
   "source": [
    "from pyspark.sql.types import StructType, StructField, IntegerType, StringType\n",
    "from pyspark.sql.functions import create_map, lit\n"
   ]
  },
  {
   "cell_type": "code",
   "execution_count": null,
   "id": "5bfac6aa",
   "metadata": {},
   "outputs": [],
   "source": [
    "# added for adf\n",
    "\n",
    "dbutils.widgets.text(\"pipeline_id\", \"\")\n",
    "dbutils.widgets.text(\"run_id\", \"\")\n",
    "dbutils.widgets.text(\"task_id\", \"\")\n",
    "dbutils.widgets.text(\"processed_timestamp\", \"\")\n",
    "dbutils.widgets.text(\"catalog\", \"unikargo_dev\")"
   ]
  },
  {
   "cell_type": "code",
   "execution_count": null,
   "id": "65bdaed1",
   "metadata": {},
   "outputs": [],
   "source": [
    "pipeline_id = dbutils.widgets.get(\"pipeline_id\")\n",
    "run_id = dbutils.widgets.get(\"run_id\")\n",
    "task_id = dbutils.widgets.get(\"task_id\")\n",
    "processed_timestamp = dbutils.widgets.get(\"processed_timestamp\")\n",
    "catalog = dbutils.widgets.get(\"catalog\")"
   ]
  },
  {
   "cell_type": "code",
   "execution_count": 2,
   "id": "c9ff25a9",
   "metadata": {},
   "outputs": [],
   "source": [
    "flights_schema = StructType([\n",
    "    StructField(\"year\", IntegerType(), True),\n",
    "    StructField(\"month\", IntegerType(), True),\n",
    "    StructField(\"day\", IntegerType(), True),\n",
    "    StructField(\"day_of_week\", IntegerType(), True),\n",
    "    StructField(\"airline\", StringType(), True),\n",
    "    StructField(\"flight_number\", IntegerType(), True),\n",
    "    StructField(\"tail_number\", StringType(), True),\n",
    "    StructField(\"origin_airport\", StringType(), True),\n",
    "    StructField(\"destination_airport\", StringType(), True),\n",
    "    StructField(\"scheduled_departure\", IntegerType(), True),\n",
    "    StructField(\"departure_time\", IntegerType(), True),\n",
    "    StructField(\"departure_delay\", IntegerType(), True),\n",
    "    StructField(\"taxi_out\", IntegerType(), True),\n",
    "    StructField(\"wheels_off\", IntegerType(), True),\n",
    "    StructField(\"scheduled_time\", IntegerType(), True),\n",
    "    StructField(\"elapsed_time\", IntegerType(), True),\n",
    "    StructField(\"air_time\", IntegerType(), True),\n",
    "    StructField(\"distance\", IntegerType(), True),\n",
    "    StructField(\"wheels_on\", IntegerType(), True),\n",
    "    StructField(\"taxi_in\", IntegerType(), True),\n",
    "    StructField(\"scheduled_arrival\", IntegerType(), True),\n",
    "    StructField(\"arrival_time\", IntegerType(), True),\n",
    "    StructField(\"arrival_delay\", IntegerType(), True),\n",
    "    StructField(\"diverted\", IntegerType(), True),\n",
    "    StructField(\"cancelled\", IntegerType(), True),\n",
    "    StructField(\"cancellation_reason\", StringType(), True),\n",
    "    StructField(\"air_system_delay\", IntegerType(), True),\n",
    "    StructField(\"security_delay\", IntegerType(), True),\n",
    "    StructField(\"airline_delay\", IntegerType(), True),\n",
    "    StructField(\"late_aircraft_delay\", IntegerType(), True),\n",
    "    StructField(\"weather_delay\", IntegerType(), True),\n",
    "])"
   ]
  },
  {
   "cell_type": "code",
   "execution_count": null,
   "id": "e92c9af9",
   "metadata": {},
   "outputs": [],
   "source": [
    "df = (spark.read\n",
    ".schema(flights_schema)\n",
    ".option(\"header\", \"true\") \n",
    "# .csv(f\"/Volumes/{catalog}/00_raw/source_unicargo_data/flights.csv\")\n",
    ".csv(\"abfss://medallion@adlsunikarrgodev.dfs.core.windows.net/raw/volumes/flights.csv\") # added for adf\n",
    "\n",
    ")"
   ]
  },
  {
   "cell_type": "code",
   "execution_count": null,
   "id": "b8091b07",
   "metadata": {},
   "outputs": [],
   "source": [
    "df = df.withColumn(\"metadata\",\n",
    "                   create_map(\n",
    "                       lit(\"pipeline_id\"), lit(pipeline_id),\n",
    "                       lit(\"run_id\"), lit(run_id),\n",
    "                       lit(\"task_id\"), lit(task_id),\n",
    "                       lit(\"processed_timestamp\"), lit(processed_timestamp),\n",
    "                   ))"
   ]
  },
  {
   "cell_type": "code",
   "execution_count": null,
   "id": "877642f6",
   "metadata": {},
   "outputs": [],
   "source": [
    "df.write.\\\n",
    "mode(\"overwrite\").\\\n",
    "option(\"overwriteSchema\", \"true\").\\\n",
    "saveAsTable(f\"`{catalog}`.`01_bronze`.`unikargo_flights_bronze`\")"
   ]
  }
 ],
 "metadata": {
  "kernelspec": {
   "display_name": ".venv_dbc (3.11.3)",
   "language": "python",
   "name": "python3"
  },
  "language_info": {
   "codemirror_mode": {
    "name": "ipython",
    "version": 3
   },
   "file_extension": ".py",
   "mimetype": "text/x-python",
   "name": "python",
   "nbconvert_exporter": "python",
   "pygments_lexer": "ipython3",
   "version": "3.11.3"
  }
 },
 "nbformat": 4,
 "nbformat_minor": 5
}
