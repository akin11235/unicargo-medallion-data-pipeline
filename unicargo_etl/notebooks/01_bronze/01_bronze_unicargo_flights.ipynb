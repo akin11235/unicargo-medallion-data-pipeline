{
 "cells": [
  {
   "cell_type": "code",
   "execution_count": 17,
   "id": "db37ff9e",
   "metadata": {},
   "outputs": [],
   "source": [
    "import os\n",
    "import sys\n",
    "from pyspark.sql.types import StructType, StructField, IntegerType, StringType\n",
    "from pyspark.sql.functions import col\n",
    "\n",
    "current_dir = os.getcwd() # Current working directory\n",
    "project_root = os.path.abspath(os.path.join(current_dir, '..', '..', '..', 'src')) # Go up 3 levels and append 'src'\n",
    "sys.path.append(project_root) # Add src to sys.path\n",
    "\n",
    "from logging_utils import TaskLogger\n",
    "from unikargo_utils import add_pipeline_metadata\n",
    "from config import get_log_adls_path, get_table_config"
   ]
  },
  {
   "cell_type": "code",
   "execution_count": 25,
   "id": "5bfac6aa",
   "metadata": {},
   "outputs": [],
   "source": [
    "# Create widgets (required for ADF → Databricks integration)\n",
    "dbutils.widgets.text(\"pipeline_id\", \"\")\n",
    "dbutils.widgets.text(\"run_id\", \"\")\n",
    "dbutils.widgets.text(\"task_id\", \"\")\n",
    "dbutils.widgets.text(\"processed_timestamp\", \"\")\n",
    "dbutils.widgets.text(\"catalog\", \"unikargo_dev\")\n",
    "\n",
    "# # Extract values from widgets\n",
    "pipeline_id = dbutils.widgets.get(\"pipeline_id\")\n",
    "run_id = dbutils.widgets.get(\"run_id\")\n",
    "task_id = dbutils.widgets.get(\"task_id\")\n",
    "processed_timestamp = dbutils.widgets.get(\"processed_timestamp\")\n",
    "catalog = dbutils.widgets.get(\"catalog\")\n",
    "\n",
    "# Logging parameters for run context\n",
    "pipeline_name = \"pl_unikargo_medallion\"\n",
    "\n",
    "rows_processed = 0\n",
    "log_type =  'task'\n",
    "environment = 'dev'\n",
    "entity=\"airports\"\n",
    "layer=\"bronze\"\n",
    "# .csv(f\"/Volumes/{catalog}/00_raw/source_unicargo_data/flights.csv\")\n",
    "flights_cfg = get_table_config(entity=\"flights\", layer=\"bronze\", environment=\"dev\")\n",
    "# source_path=\"abfss://medallion@adlsunikarrgodev.dfs.core.windows.net/raw/volumes/flights.csv\"\n"
   ]
  },
  {
   "cell_type": "code",
   "execution_count": 19,
   "id": "c9ff25a9",
   "metadata": {},
   "outputs": [],
   "source": [
    "flights_schema = StructType([\n",
    "    StructField(\"year\", IntegerType(), True),\n",
    "    StructField(\"month\", IntegerType(), True),\n",
    "    StructField(\"day\", IntegerType(), True),\n",
    "    StructField(\"day_of_week\", IntegerType(), True),\n",
    "    StructField(\"airline\", StringType(), True),\n",
    "    StructField(\"flight_number\", IntegerType(), True),\n",
    "    StructField(\"tail_number\", StringType(), True),\n",
    "    StructField(\"origin_airport\", StringType(), True),\n",
    "    StructField(\"destination_airport\", StringType(), True),\n",
    "    StructField(\"scheduled_departure\", IntegerType(), True),\n",
    "    StructField(\"departure_time\", IntegerType(), True),\n",
    "    StructField(\"departure_delay\", IntegerType(), True),\n",
    "    StructField(\"taxi_out\", IntegerType(), True),\n",
    "    StructField(\"wheels_off\", IntegerType(), True),\n",
    "    StructField(\"scheduled_time\", IntegerType(), True),\n",
    "    StructField(\"elapsed_time\", IntegerType(), True),\n",
    "    StructField(\"air_time\", IntegerType(), True),\n",
    "    StructField(\"distance\", IntegerType(), True),\n",
    "    StructField(\"wheels_on\", IntegerType(), True),\n",
    "    StructField(\"taxi_in\", IntegerType(), True),\n",
    "    StructField(\"scheduled_arrival\", IntegerType(), True),\n",
    "    StructField(\"arrival_time\", IntegerType(), True),\n",
    "    StructField(\"arrival_delay\", IntegerType(), True),\n",
    "    StructField(\"diverted\", IntegerType(), True),\n",
    "    StructField(\"cancelled\", IntegerType(), True),\n",
    "    StructField(\"cancellation_reason\", StringType(), True),\n",
    "    StructField(\"air_system_delay\", IntegerType(), True),\n",
    "    StructField(\"security_delay\", IntegerType(), True),\n",
    "    StructField(\"airline_delay\", IntegerType(), True),\n",
    "    StructField(\"late_aircraft_delay\", IntegerType(), True),\n",
    "    StructField(\"weather_delay\", IntegerType(), True),\n",
    "])"
   ]
  },
  {
   "cell_type": "code",
   "execution_count": 20,
   "id": "c3025fa8",
   "metadata": {},
   "outputs": [
    {
     "name": "stdout",
     "output_type": "stream",
     "text": [
      "abfss://medallion@adlsunikarrgodev.dfs.core.windows.net/raw/volumes/flights.csv\n"
     ]
    }
   ],
   "source": [
    "print(flights_cfg.raw_path)"
   ]
  },
  {
   "cell_type": "code",
   "execution_count": 21,
   "id": "e92c9af9",
   "metadata": {},
   "outputs": [],
   "source": [
    "# -----------------------------\n",
    "# Read the flights CSV\n",
    "# -----------------------------\n",
    "flights_csv_path = flights_cfg.raw_path\n",
    "operation = \"tsk_flights_read_raw\"\n",
    "\n",
    "with TaskLogger(\n",
    "    operation=operation,\n",
    "    pipeline_name=pipeline_name,\n",
    "    source_path=flights_csv_path,\n",
    "    log_running=False  # keep this False unless you explicitly want a \"RUNNING\" entry\n",
    ") as logger:\n",
    "\n",
    "    flights_df = (spark.read\n",
    "        .schema(flights_schema)\n",
    "        .option(\"header\", \"true\") \n",
    "        .csv(flights_csv_path) \n",
    ")\n",
    "    \n",
    "    rows_processed = flights_df.count()\n",
    "        \n",
    "    # Update metrics before completion\n",
    "    logger.set_metrics(rows=rows_processed)"
   ]
  },
  {
   "cell_type": "code",
   "execution_count": 22,
   "id": "b8091b07",
   "metadata": {},
   "outputs": [],
   "source": [
    "# -----------------------------\n",
    "# --- Task 2: Add metadata to the dataframe \n",
    "# -----------------------------\n",
    "operation=\"tsk_flights_add_metadata\"\n",
    "\n",
    "with TaskLogger(\n",
    "    operation=operation,\n",
    "    pipeline_name=pipeline_name,\n",
    "    log_running=False \n",
    ") as logger:\n",
    "\n",
    "    flights_df_df = add_pipeline_metadata(flights_df, pipeline_id, run_id, task_id)\n",
    "\n",
    "    # Count rows after transformation\n",
    "    rows_processed = flights_df.count()\n",
    "\n",
    "    # Update metrics before completion\n",
    "    logger.set_metrics(rows=rows_processed)"
   ]
  },
  {
   "cell_type": "code",
   "execution_count": 23,
   "id": "877642f6",
   "metadata": {},
   "outputs": [
    {
     "name": "stdout",
     "output_type": "stream",
     "text": [
      "target_path:  unikargo_dev.01_bronze.unikargo_flights_bronze\n"
     ]
    }
   ],
   "source": [
    "# -----------------------------\n",
    "# Write to bronze\n",
    "# -----------------------------\n",
    "target_path = flights_cfg.full_name\n",
    "print(\"target_path: \", target_path)\n",
    "operation = \"tsk_flights_persist_bronze\"\n",
    "\n",
    "\n",
    "with TaskLogger(\n",
    "    operation=operation,\n",
    "    pipeline_name=pipeline_name,\n",
    "    target_path=target_path,\n",
    "    log_running=False\n",
    ") as logger:\n",
    "\n",
    "    # Count rows first\n",
    "    rows_processed = flights_df.count()\n",
    "\n",
    "    flights_df.write.\\\n",
    "    mode(\"overwrite\").\\\n",
    "    option(\"overwriteSchema\", \"true\").\\\n",
    "    saveAsTable(target_path)\n",
    "\n",
    "    # Update metrics before completion\n",
    "    logger.set_metrics(rows=rows_processed)\n"
   ]
  },
  {
   "cell_type": "code",
   "execution_count": 24,
   "id": "5338616f",
   "metadata": {},
   "outputs": [
    {
     "name": "stdout",
     "output_type": "stream",
     "text": [
      "+-----------+---------------------+-----------+-----------------------+------------------------------------+---------------------------+-------+-------+-----------------+--------------------------------------------------------------------------------+----------------------------------------------+----------+-------------+--------------------------+----------+\n",
      "|pipeline_id|pipeline_name        |environment|run_id                 |task_id                             |operation                  |status |rows   |execution_time_ms|source_path                                                                     |target_path                                   |error_type|error_message|timestamp                 |log_date  |\n",
      "+-----------+---------------------+-----------+-----------------------+------------------------------------+---------------------------+-------+-------+-----------------+--------------------------------------------------------------------------------+----------------------------------------------+----------+-------------+--------------------------+----------+\n",
      "|local_run  |pl_unikargo_medallion|dev        |local_run_id_1757302190|9d355b58-98c8-43b1-add0-b031854c0674|tsk_flights_persist_bronze |SUCCESS|5819079|9889             |NULL                                                                            |unikargo_dev.01_bronze.unikargo_flights_bronze|NULL      |NULL         |2025-09-08 03:29:50.901935|2025-09-08|\n",
      "|local_run  |pl_unikargo_medallion|dev        |local_run_id_1757302179|04befb04-bf24-40f5-ad8a-2cd35b4b5df1|tsk_flights_add_metadata   |SUCCESS|5819079|3282             |NULL                                                                            |NULL                                          |NULL      |NULL         |2025-09-08 03:29:40.024522|2025-09-08|\n",
      "|local_run  |pl_unikargo_medallion|dev        |local_run_id_1757302175|197e61a9-fc25-4617-b1dc-b63604724893|tsk_flights_read_raw       |SUCCESS|5819079|2973             |abfss://medallion@adlsunikarrgodev.dfs.core.windows.net/raw/volumes/flights.csv |NULL                                          |NULL      |NULL         |2025-09-08 03:29:35.623096|2025-09-08|\n",
      "|local_run  |pl_unikargo_medallion|dev        |local_run_id_1757302125|bfa7c533-41a9-4ed2-8de4-f1f826b1e619|tsk_flights_persist_bronze |SUCCESS|5819079|10389            |NULL                                                                            |unikargo_dev.01_bronze.unikargo_flights_bronze|NULL      |NULL         |2025-09-08 03:28:46.336986|2025-09-08|\n",
      "|local_run  |pl_unikargo_medallion|dev        |local_run_id_1757302116|7457d987-116c-4557-b3b8-5809e528cc2c|tsk_airports_persist_bronze|SUCCESS|322    |1978             |NULL                                                                            |unikargo_dev.01_bronze.unikargo_airport_bronze|NULL      |NULL         |2025-09-08 03:28:37.338412|2025-09-08|\n",
      "|local_run  |pl_unikargo_medallion|dev        |local_run_id_1757302113|23da3c8c-9e40-4d71-a33d-713f1b80eaaf|tsk_flights_add_metadata   |SUCCESS|5819079|2995             |NULL                                                                            |NULL                                          |NULL      |NULL         |2025-09-08 03:28:34.493636|2025-09-08|\n",
      "|local_run  |pl_unikargo_medallion|dev        |local_run_id_1757302113|683b0afb-70e2-4932-9c65-3c51bf86ab50|tsk_flights_add_metadata   |SUCCESS|322    |245              |NULL                                                                            |NULL                                          |NULL      |NULL         |2025-09-08 03:28:34.458216|2025-09-08|\n",
      "|local_run  |pl_unikargo_medallion|dev        |local_run_id_1757302112|1c34d355-6e3b-4c50-bca6-d60b932b501b|tsk_flights_read_raw       |SUCCESS|322    |1894             |abfss://medallion@adlsunikarrgodev.dfs.core.windows.net/raw/volumes/airports.csv|NULL                                          |NULL      |NULL         |2025-09-08 03:28:33.183466|2025-09-08|\n",
      "|local_run  |pl_unikargo_medallion|dev        |local_run_id_1757302109|00f45e21-f425-4a02-9ebf-d458b916ef68|tsk_flights_read_raw       |SUCCESS|5819079|2148             |abfss://medallion@adlsunikarrgodev.dfs.core.windows.net/raw/volumes/flights.csv |NULL                                          |NULL      |NULL         |2025-09-08 03:28:30.367635|2025-09-08|\n",
      "|local_run  |pl_unikargo_medallion|dev        |local_run_id_1757302108|42059b86-4efd-4f56-9097-3626b9326a6c|tsk_airlines_persist_bronze|SUCCESS|14     |1372             |NULL                                                                            |unikargo_dev.01_bronze.unikargo_airline_bronze|NULL      |NULL         |2025-09-08 03:28:28.80148 |2025-09-08|\n",
      "|local_run  |pl_unikargo_medallion|dev        |local_run_id_1757302105|923afb85-60a4-47f9-9e89-1d945814de49|tsk_airlines_add_metadata  |SUCCESS|14     |284              |NULL                                                                            |NULL                                          |NULL      |NULL         |2025-09-08 03:28:26.482589|2025-09-08|\n",
      "|local_run  |pl_unikargo_medallion|dev        |local_run_id_1757302104|0fd6f810-27fb-458f-a196-b7173bbb3694|tsk_airlines_read_raw      |SUCCESS|14     |723              |abfss://medallion@adlsunikarrgodev.dfs.core.windows.net/raw/volumes/airlines.csv|NULL                                          |NULL      |NULL         |2025-09-08 03:28:25.227076|2025-09-08|\n",
      "|local_run  |pl_unikargo_medallion|dev        |local_run_id_1757302075|d142faec-accd-4afa-be34-b835f482cc25|tsk_flights_persist_bronze |SUCCESS|5819079|11037            |NULL                                                                            |unikargo_dev.01_bronze.unikargo_flights_bronze|NULL      |NULL         |2025-09-08 03:27:55.794321|2025-09-08|\n",
      "|local_run  |pl_unikargo_medallion|dev        |local_run_id_1757302063|a7121626-6ba7-495e-babe-b7a9743679bf|tsk_flights_add_metadata   |SUCCESS|5819079|2524             |NULL                                                                            |NULL                                          |NULL      |NULL         |2025-09-08 03:27:43.777251|2025-09-08|\n",
      "|local_run  |pl_unikargo_medallion|dev        |local_run_id_1757302059|f320a430-9fff-45ba-a7dc-74d8c2ec658f|tsk_flights_read_raw       |SUCCESS|5819079|4207             |abfss://medallion@adlsunikarrgodev.dfs.core.windows.net/raw/volumes/flights.csv |NULL                                          |NULL      |NULL         |2025-09-08 03:27:39.853673|2025-09-08|\n",
      "|local_run  |pl_unikargo_medallion|dev        |local_run_id_1757301982|364895ba-f730-4f3e-9866-80bdbbf27c84|tsk_airports_persist_bronze|SUCCESS|322    |1911             |NULL                                                                            |unikargo_dev.01_bronze.unikargo_airport_bronze|NULL      |NULL         |2025-09-08 03:26:22.702803|2025-09-08|\n",
      "|local_run  |pl_unikargo_medallion|dev        |local_run_id_1757301978|5c07fb42-6ae4-4556-ad7a-b7b68d54b42e|tsk_flights_add_metadata   |SUCCESS|322    |360              |NULL                                                                            |NULL                                          |NULL      |NULL         |2025-09-08 03:26:19.26351 |2025-09-08|\n",
      "|local_run  |pl_unikargo_medallion|dev        |local_run_id_1757301976|4aa2b7b3-e8ad-44a6-98c0-f72941239215|tsk_flights_read_raw       |SUCCESS|322    |953              |abfss://medallion@adlsunikarrgodev.dfs.core.windows.net/raw/volumes/airports.csv|NULL                                          |NULL      |NULL         |2025-09-08 03:26:17.567353|2025-09-08|\n",
      "|local_run  |pl_unikargo_medallion|dev        |local_run_id_1757301910|f564c97b-9912-4bf8-b38a-552511440ed1|tsk_airlines_persist_bronze|SUCCESS|14     |3277             |NULL                                                                            |unikargo_dev.01_bronze.unikargo_airline_bronze|NULL      |NULL         |2025-09-08 03:25:11.602871|2025-09-08|\n",
      "|local_run  |pl_unikargo_medallion|dev        |local_run_id_1757301906|4db0110d-7724-41d4-b06f-d36b96ec4ee0|tsk_airlines_add_metadata  |SUCCESS|14     |343              |NULL                                                                            |NULL                                          |NULL      |NULL         |2025-09-08 03:25:07.140662|2025-09-08|\n",
      "+-----------+---------------------+-----------+-----------------------+------------------------------------+---------------------------+-------+-------+-----------------+--------------------------------------------------------------------------------+----------------------------------------------+----------+-------------+--------------------------+----------+\n",
      "only showing top 20 rows\n"
     ]
    }
   ],
   "source": [
    "# --------Uncomment to debug (Read Delta logs and show latest logs)-----------------\n",
    "\n",
    "log_path = get_log_adls_path(log_type, environment=environment) # Path to save logging for tasks\n",
    "logs_df = spark.read.format(\"delta\").load(log_path)\n",
    "logs_df.orderBy(\"timestamp\", ascending=False).show(20, truncate=False)"
   ]
  }
 ],
 "metadata": {
  "kernelspec": {
   "display_name": ".venv_dbc (3.11.3)",
   "language": "python",
   "name": "python3"
  },
  "language_info": {
   "codemirror_mode": {
    "name": "ipython",
    "version": 3
   },
   "file_extension": ".py",
   "mimetype": "text/x-python",
   "name": "python",
   "nbconvert_exporter": "python",
   "pygments_lexer": "ipython3",
   "version": "3.11.3"
  }
 },
 "nbformat": 4,
 "nbformat_minor": 5
}
