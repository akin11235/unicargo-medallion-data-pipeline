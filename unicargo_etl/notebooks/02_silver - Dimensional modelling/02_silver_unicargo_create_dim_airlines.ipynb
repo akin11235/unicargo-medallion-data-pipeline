{
 "cells": [
  {
   "cell_type": "code",
   "execution_count": 1,
   "id": "bff493e3",
   "metadata": {},
   "outputs": [],
   "source": [
    "# Databricks Notebook: silver_processing.py\n",
    "from pyspark.sql.window import Window\n",
    "from pyspark.sql.functions import col, row_number"
   ]
  },
  {
   "cell_type": "code",
   "execution_count": 2,
   "id": "0d1aab86",
   "metadata": {},
   "outputs": [],
   "source": [
    "# === STEP 1: READ AIRLINES DATA ===\n",
    "airlines_df = spark.read.table(\"unikargo_dev.01_bronze.unikargo_airlines_bronze\")"
   ]
  },
  {
   "cell_type": "code",
   "execution_count": 3,
   "id": "98e8d7eb",
   "metadata": {},
   "outputs": [],
   "source": [
    "dim_airline = airlines_df \\\n",
    "    .filter(col(\"iata_code\").isNotNull()) \\\n",
    "    .dropDuplicates([\"iata_code\"]) \\\n",
    "    .select(\"iata_code\", \"airline\") \\\n",
    "    .withColumn(\"airline_sk\", row_number().over(Window.orderBy(\"iata_code\"))) \\\n",
    "    .select(\"airline_sk\", \"iata_code\", \"airline\")"
   ]
  },
  {
   "cell_type": "code",
   "execution_count": null,
   "id": "aef11616",
   "metadata": {},
   "outputs": [],
   "source": [
    "# Write the Delta table\n",
    "dim_airline.write \\\n",
    "    .format(\"delta\") \\\n",
    "    .mode(\"overwrite\") \\\n",
    "    .option(\"overwriteSchema\", \"true\") \\\n",
    "    .saveAsTable(\"`unikargo_dev`.`02_silver`.`unikargo_dim_airline_silver`\")"
   ]
  }
 ],
 "metadata": {
  "kernelspec": {
   "display_name": ".venv_dbc (3.11.3)",
   "language": "python",
   "name": "python3"
  },
  "language_info": {
   "codemirror_mode": {
    "name": "ipython",
    "version": 3
   },
   "file_extension": ".py",
   "mimetype": "text/x-python",
   "name": "python",
   "nbconvert_exporter": "python",
   "pygments_lexer": "ipython3",
   "version": "3.11.3"
  }
 },
 "nbformat": 4,
 "nbformat_minor": 5
}
