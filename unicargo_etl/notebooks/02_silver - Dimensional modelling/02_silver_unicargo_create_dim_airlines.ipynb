{
 "cells": [
  {
   "cell_type": "code",
   "execution_count": 1,
   "id": "bff493e3",
   "metadata": {},
   "outputs": [
    {
     "name": "stdout",
     "output_type": "stream",
     "text": [
      "Loaded tables config from: C:\\Users\\Dele\\Documents\\D. Professional Registration\\IT\\DATA-EnGR\\00_data_engr_projects\\unicargo\\unicargo_dab\\tables.yaml\n"
     ]
    }
   ],
   "source": [
    "# Databricks Notebook: silver_processing.py\n",
    "import os\n",
    "import sys\n",
    "from pyspark.sql.window import Window\n",
    "from pyspark.sql.functions import col, row_number\n",
    "\n",
    "current_dir = os.getcwd() # Current working directory\n",
    "project_root = os.path.abspath(os.path.join(current_dir, '..', '..', '..', 'src')) # Go up 3 levels and append 'src'\n",
    "sys.path.append(project_root) # Add src to sys.path\n",
    "from logging_utils import TaskLogger\n",
    "from config import get_log_config"
   ]
  },
  {
   "cell_type": "code",
   "execution_count": 2,
   "id": "efb5e7f2",
   "metadata": {},
   "outputs": [],
   "source": [
    "pipeline_name = \"pl_unikargo_medallion\"\n",
    "log_type =  'task'\n",
    "environment = 'dev'"
   ]
  },
  {
   "cell_type": "code",
   "execution_count": 3,
   "id": "0d1aab86",
   "metadata": {},
   "outputs": [],
   "source": [
    "# -----------------------------\n",
    "# === STEP 1: READ AIRLINES DATA ===\n",
    "# -----------------------------\n",
    "\n",
    "source_path = \"unikargo_dev.01_bronze.unikargo_airlines_bronze\"\n",
    "operation = \"tsk_airlines_read_bronze\"\n",
    "\n",
    "with TaskLogger(\n",
    "    operation=operation,\n",
    "    pipeline_name=pipeline_name,\n",
    "    source_path=source_path,\n",
    "    log_running=False  # keep this False unless you explicitly want a \"RUNNING\" entry\n",
    ")as logger:\n",
    "\n",
    "    airlines_df = spark.read.table(source_path)\n",
    "\n",
    "    rows_processed = airlines_df.count()\n",
    "    \n",
    "    # Update metrics before completion\n",
    "    logger.set_metrics(rows=rows_processed)"
   ]
  },
  {
   "cell_type": "code",
   "execution_count": 4,
   "id": "98e8d7eb",
   "metadata": {},
   "outputs": [],
   "source": [
    "# -----------------------------\n",
    "# --- Task 2: Deduplicate & Generate Airline Dimension\n",
    "# -----------------------------\n",
    "\n",
    "operation=\"tsk_airlines_dim_build\"\n",
    "\n",
    "with TaskLogger(\n",
    "    operation=operation,\n",
    "    pipeline_name=pipeline_name,\n",
    "    log_running=False \n",
    ") as logger:\n",
    "    \n",
    "    dim_airline = airlines_df \\\n",
    "        .filter(col(\"iata_code\").isNotNull()) \\\n",
    "        .dropDuplicates([\"iata_code\"]) \\\n",
    "        .select(\"iata_code\", \"airline\") \\\n",
    "        .withColumn(\"airline_sk\", row_number().over(Window.orderBy(\"iata_code\"))) \\\n",
    "        .select(\"airline_sk\", \"iata_code\", \"airline\")\n",
    "    \n",
    "    rows_processed = airlines_df.count()\n",
    "    \n",
    "    # Update metrics before completion\n",
    "    logger.set_metrics(rows=rows_processed)"
   ]
  },
  {
   "cell_type": "code",
   "execution_count": 5,
   "id": "aef11616",
   "metadata": {},
   "outputs": [
    {
     "name": "stderr",
     "output_type": "stream",
     "text": [
      "c:\\Users\\Dele\\Documents\\D. Professional Registration\\IT\\DATA-EnGR\\00_data_engr_projects\\unicargo\\unicargo_dab\\.venv_dbc\\Lib\\site-packages\\pyspark\\sql\\connect\\expressions.py:1017: UserWarning: WARN WindowExpression: No Partition Defined for Window operation! Moving all data to a single partition, this can cause serious performance degradation.\n",
      "  warnings.warn(\n"
     ]
    }
   ],
   "source": [
    "# -----------------------------\n",
    "# Write the Delta table\n",
    "# -----------------------------\n",
    "operation = \"tsk_airlines_persist_silver\"\n",
    "target_path =\"`unikargo_dev`.`02_silver`.`unikargo_dim_airline_silver`\"\n",
    "\n",
    "with TaskLogger(\n",
    "    operation=operation,\n",
    "    pipeline_name=pipeline_name,\n",
    "    log_running=False \n",
    ") as logger:\n",
    "    \n",
    "    # Count rows first\n",
    "    rows_processed = airlines_df.count()\n",
    "\n",
    "    dim_airline.write \\\n",
    "        .format(\"delta\") \\\n",
    "        .mode(\"overwrite\") \\\n",
    "        .option(\"overwriteSchema\", \"true\") \\\n",
    "        .saveAsTable(target_path)\n",
    "    \n",
    "    # Update metrics before completion\n",
    "    logger.set_metrics(rows=rows_processed)"
   ]
  },
  {
   "cell_type": "code",
   "execution_count": 6,
   "id": "c512e575",
   "metadata": {},
   "outputs": [
    {
     "name": "stdout",
     "output_type": "stream",
     "text": [
      "+------------------------------------+---------------------+-----------+-----------------------+------------------------------------+------------------------------+-------+----+-----------------+--------------------------------------------------------------------------------+-----------------------------------------------------+----------+-------------+--------------------------+----------+\n",
      "|pipeline_id                         |pipeline_name        |environment|run_id                 |task_id                             |operation                     |status |rows|execution_time_ms|source_path                                                                     |target_path                                          |error_type|error_message|timestamp                 |log_date  |\n",
      "+------------------------------------+---------------------+-----------+-----------------------+------------------------------------+------------------------------+-------+----+-----------------+--------------------------------------------------------------------------------+-----------------------------------------------------+----------+-------------+--------------------------+----------+\n",
      "|local_run                           |pl_unikargo_medallion|dev        |local_run_id_1757174753|d4554693-82c9-40c7-8d65-caa2d24f171e|tsk_airlines_persist_silver   |SUCCESS|14  |4922             |NULL                                                                            |NULL                                                 |NULL      |NULL         |2025-09-06 16:05:55.338626|2025-09-06|\n",
      "|local_run                           |pl_unikargo_medallion|dev        |local_run_id_1757174747|aa968153-4587-4c3b-be9c-e90cfad24e52|tsk_airlines_dim_build        |SUCCESS|14  |983              |NULL                                                                            |NULL                                                 |NULL      |NULL         |2025-09-06 16:05:48.900252|2025-09-06|\n",
      "|local_run                           |pl_unikargo_medallion|dev        |local_run_id_1757174742|191af562-b00b-4c38-8bbe-68353c02876e|tsk_airlines_read_bronze      |SUCCESS|14  |202464           |unikargo_dev.01_bronze.unikargo_airlines_bronze                                 |NULL                                                 |NULL      |NULL         |2025-09-06 16:05:45.053798|2025-09-06|\n",
      "|local_run                           |pl_unikargo_medallion|dev        |local_run_id_1757166610|a8336a7b-2813-4469-9f35-ce8ea0ddb0a3|tsk_airlines_read_bronze      |SUCCESS|14  |806              |unikargo_dev.01_bronze.unikargo_airlines_bronze                                 |NULL                                                 |NULL      |NULL         |2025-09-06 13:50:12.036769|2025-09-06|\n",
      "|local_pl_id_1757166381              |pl_unikargo_medallion|dev        |local_run_id_1757166381|ada0d66b-730b-49fd-8487-0c0fde014a88|tsk_airlines_read_bronze      |SUCCESS|14  |1089             |unikargo_dev.01_bronze.unikargo_airlines_bronze                                 |NULL                                                 |NULL      |NULL         |2025-09-06 13:46:22.895237|2025-09-06|\n",
      "|local_pl_id_1757166083              |pl_unikargo_medallion|dev        |local_run_id_1757166083|2d26d2f5-3938-4580-b8fd-40d240830201|write to bronze               |SUCCESS|14  |5013             |NULL                                                                            |`unikargo_dev`.`01_bronze`.`unikargo_airlines_bronze`|NULL      |NULL         |2025-09-06 13:41:24.98812 |2025-09-06|\n",
      "|local_pl_id_1757166037              |pl_unikargo_medallion|dev        |local_run_id_1757166037|c1685dbb-4a77-4ef6-98d0-a0b8eb7692b1|tsk_airlines_add_metadata     |SUCCESS|14  |427              |NULL                                                                            |NULL                                                 |NULL      |NULL         |2025-09-06 13:40:39.339207|2025-09-06|\n",
      "|local_pl_id_1757166032              |pl_unikargo_medallion|dev        |local_run_id_1757166032|729c8eb5-65ce-49e7-ae2b-a2920ec42a2f|tsk_airlines_read_raw         |SUCCESS|14  |767              |abfss://medallion@adlsunikarrgodev.dfs.core.windows.net/raw/volumes/airlines.csv|NULL                                                 |NULL      |NULL         |2025-09-06 13:40:33.949592|2025-09-06|\n",
      "|local_pl_id_1757165974              |pl_unikargo_medallion|dev        |local_run_id_1757165974|3a8d0a73-9aa1-4657-b699-060f9fe8d9cc|tsk_airlines_read_raw         |SUCCESS|14  |604              |abfss://medallion@adlsunikarrgodev.dfs.core.windows.net/raw/volumes/airlines.csv|NULL                                                 |NULL      |NULL         |2025-09-06 13:39:36.172685|2025-09-06|\n",
      "|local_pl_id_1757165937              |pl_unikargo_medallion|dev        |local_run_id_1757165937|575e598d-2327-4efc-8c03-a9a8bc6e1d05|tsk_airlines_add_metadata     |SUCCESS|14  |316              |NULL                                                                            |NULL                                                 |NULL      |NULL         |2025-09-06 13:38:59.203429|2025-09-06|\n",
      "|local_pl_id_1757165905              |pl_unikargo_medallion|dev        |local_run_id_1757165905|1c00d62f-c15d-40e1-a398-514f89b119aa|('tsk_airlines_add_metadata',)|SUCCESS|14  |314              |NULL                                                                            |NULL                                                 |NULL      |NULL         |2025-09-06 13:38:26.472577|2025-09-06|\n",
      "|local_pl_id_1757165899              |pl_unikargo_medallion|dev        |local_run_id_1757165899|96b79032-970d-4c88-acd1-8153194c0798|tsk_airlines_read_raw         |SUCCESS|14  |708              |abfss://medallion@adlsunikarrgodev.dfs.core.windows.net/raw/volumes/airlines.csv|NULL                                                 |NULL      |NULL         |2025-09-06 13:38:20.972385|2025-09-06|\n",
      "|local_pl_id_1757165817              |pl_unikargo_medallion|dev        |local_run_id_1757165817|0e9f6b89-ca83-401d-b3cd-823b154dbbf4|('tsk_airlines_add_metadata',)|SUCCESS|14  |305              |NULL                                                                            |NULL                                                 |NULL      |NULL         |2025-09-06 13:36:58.710997|2025-09-06|\n",
      "|local_pl_id_1757165776              |unknown_pipeline     |dev        |local_run_id_1757165776|aae4279d-0971-4393-a390-7dbab33e2910|('tsk_airlines_add_metadata',)|SUCCESS|14  |362              |NULL                                                                            |NULL                                                 |NULL      |NULL         |2025-09-06 13:36:17.935377|2025-09-06|\n",
      "|local_pl_id_1757165661              |pl_unikargo_medallion|dev        |local_run_id_1757165661|69f094c5-ee7f-4ae4-9477-758cc784dcff|tsk_airlines_read_raw         |SUCCESS|14  |1003             |abfss://medallion@adlsunikarrgodev.dfs.core.windows.net/raw/volumes/airlines.csv|NULL                                                 |NULL      |NULL         |2025-09-06 13:34:23.014213|2025-09-06|\n",
      "|local_run_1757165604                |pl_unikargo_medallion|dev        |local_run_1757165604   |50b7b994-c3b4-48fd-a1ef-ab4222e700fa|tsk_airlines_read_raw         |SUCCESS|14  |1133             |abfss://medallion@adlsunikarrgodev.dfs.core.windows.net/raw/volumes/airlines.csv|NULL                                                 |NULL      |NULL         |2025-09-06 13:33:25.683957|2025-09-06|\n",
      "|08e1d413-1f6d-493c-9010-b38fefcad992|pl_unikargo_medallion|dev        |local_run_1757165482   |e1b83153-7e1a-4cde-a9c4-e6eeadbafd37|tsk_airlines_read_raw         |SUCCESS|14  |1231             |abfss://medallion@adlsunikarrgodev.dfs.core.windows.net/raw/volumes/airlines.csv|NULL                                                 |NULL      |NULL         |2025-09-06 13:31:24.359681|2025-09-06|\n",
      "|86dab44e-2098-4917-8ebf-e1d3052fad4f|pl_unikargo_medallion|dev        |local_run_1757165107   |tsk_airlines_read_raw               |read_airlines_csv             |SUCCESS|14  |2237             |abfss://medallion@adlsunikarrgodev.dfs.core.windows.net/raw/volumes/airlines.csv|NULL                                                 |NULL      |NULL         |2025-09-06 13:25:09.338537|2025-09-06|\n",
      "|e0b72447-17b9-4127-a919-fbeb9d9d028c|pl_unikargo_medallion|dev        |local_run_1757165073   |local_task                          |add metadata column           |SUCCESS|14  |307              |NULL                                                                            |NULL                                                 |NULL      |NULL         |2025-09-06 13:24:35.140771|2025-09-06|\n",
      "|c4cb46b9-746c-4ab8-b874-1a053d5ae4a0|pl_unikargo_medallion|dev        |local_run_1757165070   |local_task                          |read_airlines_csv             |SUCCESS|14  |677              |abfss://medallion@adlsunikarrgodev.dfs.core.windows.net/raw/volumes/airlines.csv|NULL                                                 |NULL      |NULL         |2025-09-06 13:24:31.352988|2025-09-06|\n",
      "+------------------------------------+---------------------+-----------+-----------------------+------------------------------------+------------------------------+-------+----+-----------------+--------------------------------------------------------------------------------+-----------------------------------------------------+----------+-------------+--------------------------+----------+\n",
      "only showing top 20 rows\n"
     ]
    }
   ],
   "source": [
    "# --------Uncomment to debug (Read Delta logs and show latest logs)-----------------\n",
    "log_path = get_log_config(log_type, environment=environment) # Path to save logging for tasks\n",
    "\n",
    "logs_df = spark.read.format(\"delta\").load(log_path)\n",
    "logs_df.orderBy(\"timestamp\", ascending=False).show(20, truncate=False)"
   ]
  }
 ],
 "metadata": {
  "kernelspec": {
   "display_name": ".venv_dbc (3.11.3)",
   "language": "python",
   "name": "python3"
  },
  "language_info": {
   "codemirror_mode": {
    "name": "ipython",
    "version": 3
   },
   "file_extension": ".py",
   "mimetype": "text/x-python",
   "name": "python",
   "nbconvert_exporter": "python",
   "pygments_lexer": "ipython3",
   "version": "3.11.3"
  }
 },
 "nbformat": 4,
 "nbformat_minor": 5
}
