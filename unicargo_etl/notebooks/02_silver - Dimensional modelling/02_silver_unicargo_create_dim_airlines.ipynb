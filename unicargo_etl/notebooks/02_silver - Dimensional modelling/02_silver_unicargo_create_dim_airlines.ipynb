{
 "cells": [
  {
   "cell_type": "code",
   "execution_count": 1,
   "id": "bff493e3",
   "metadata": {},
   "outputs": [
    {
     "name": "stdout",
     "output_type": "stream",
     "text": [
      "Loaded environments config from: C:\\Users\\Dele\\Documents\\D. Professional Registration\\IT\\DATA-EnGR\\00_data_engr_projects\\unicargo\\unicargo_dab\\configs\\environments.yaml\n",
      "Loaded tables config from: C:\\Users\\Dele\\Documents\\D. Professional Registration\\IT\\DATA-EnGR\\00_data_engr_projects\\unicargo\\unicargo_dab\\configs\\tables.yaml\n"
     ]
    }
   ],
   "source": [
    "# Databricks Notebook: silver_processing.py\n",
    "import os\n",
    "import sys\n",
    "from pyspark.sql.window import Window\n",
    "from pyspark.sql.functions import col, row_number\n",
    "\n",
    "current_dir = os.getcwd() # Current working directory\n",
    "project_root = os.path.abspath(os.path.join(current_dir, '..', '..', '..', 'src')) # Go up 3 levels and append 'src'\n",
    "sys.path.append(project_root) # Add src to sys.path\n",
    "\n",
    "from logging_utils import TaskLogger\n",
    "from config import get_log_adls_path, get_table_config"
   ]
  },
  {
   "cell_type": "code",
   "execution_count": 2,
   "id": "efb5e7f2",
   "metadata": {},
   "outputs": [],
   "source": [
    "pipeline_name = \"pl_unikargo_medallion\"\n",
    "log_type =  'task'\n",
    "entity=\"airlines\"\n",
    "environment = 'dev'"
   ]
  },
  {
   "cell_type": "code",
   "execution_count": 3,
   "id": "81e69967",
   "metadata": {},
   "outputs": [],
   "source": [
    "\n",
    "\n",
    "# print(source_path)"
   ]
  },
  {
   "cell_type": "code",
   "execution_count": 4,
   "id": "0d1aab86",
   "metadata": {},
   "outputs": [],
   "source": [
    "# -----------------------------\n",
    "# === STEP 1: READ AIRLINES DATA ===\n",
    "# -----------------------------\n",
    "source_layer=\"bronze\"\n",
    "airlines_cfg = get_table_config(entity=entity, layer=source_layer, environment=environment)\n",
    "source_path = airlines_cfg.full_name\n",
    "# source_path = \"unikargo_dev.01_bronze.unikargo_airlines_bronze\"\n",
    "operation = \"tsk_airlines_read_bronze\"\n",
    "\n",
    "with TaskLogger(\n",
    "    operation=operation,\n",
    "    pipeline_name=pipeline_name,\n",
    "    source_path=source_path,\n",
    "    log_running=False  # keep this False unless you explicitly want a \"RUNNING\" entry\n",
    ")as logger:\n",
    "\n",
    "    airlines_df = spark.read.table(source_path)\n",
    "\n",
    "    rows_processed = airlines_df.count()\n",
    "    \n",
    "    # Update metrics before completion\n",
    "    logger.set_metrics(rows=rows_processed)"
   ]
  },
  {
   "cell_type": "code",
   "execution_count": 5,
   "id": "98e8d7eb",
   "metadata": {},
   "outputs": [],
   "source": [
    "# -----------------------------\n",
    "# --- Task 2: Deduplicate & Generate Airline Dimension\n",
    "# -----------------------------\n",
    "\n",
    "operation=\"tsk_airlines_dim_build\"\n",
    "\n",
    "with TaskLogger(\n",
    "    operation=operation,\n",
    "    pipeline_name=pipeline_name,\n",
    "    log_running=False \n",
    ") as logger:\n",
    "    \n",
    "    dim_airline = airlines_df \\\n",
    "        .filter(col(\"iata_code\").isNotNull()) \\\n",
    "        .dropDuplicates([\"iata_code\"]) \\\n",
    "        .select(\"iata_code\", \"airline\") \\\n",
    "        .withColumn(\"airline_sk\", row_number().over(Window.orderBy(\"iata_code\"))) \\\n",
    "        .select(\"airline_sk\", \"iata_code\", \"airline\")\n",
    "    \n",
    "    rows_processed = airlines_df.count()\n",
    "    \n",
    "    # Update metrics before completion\n",
    "    logger.set_metrics(rows=rows_processed)"
   ]
  },
  {
   "cell_type": "code",
   "execution_count": 6,
   "id": "fb33af9e",
   "metadata": {},
   "outputs": [
    {
     "name": "stdout",
     "output_type": "stream",
     "text": [
      "unikargo_dev.02_silver.unikargo_dim_airline_silver\n"
     ]
    }
   ],
   "source": [
    "target_layer=\"silver\"\n",
    "airlines_cfg = get_table_config(entity=entity, layer=target_layer, environment=environment)\n",
    "target_path = airlines_cfg.full_name\n",
    "\n",
    "print(target_path)"
   ]
  },
  {
   "cell_type": "code",
   "execution_count": 7,
   "id": "aef11616",
   "metadata": {},
   "outputs": [
    {
     "name": "stderr",
     "output_type": "stream",
     "text": [
      "c:\\Users\\Dele\\Documents\\D. Professional Registration\\IT\\DATA-EnGR\\00_data_engr_projects\\unicargo\\unicargo_dab\\.venv_dbc\\Lib\\site-packages\\pyspark\\sql\\connect\\expressions.py:1017: UserWarning: WARN WindowExpression: No Partition Defined for Window operation! Moving all data to a single partition, this can cause serious performance degradation.\n",
      "  warnings.warn(\n"
     ]
    }
   ],
   "source": [
    "# -----------------------------\n",
    "# Write the Delta table\n",
    "# -----------------------------\n",
    "target_layer=\"silver\"\n",
    "airlines_cfg = get_table_config(entity=entity, layer=target_layer, environment=environment)\n",
    "target_path = airlines_cfg.full_name\n",
    "\n",
    "operation = \"tsk_airlines_persist_silver\"\n",
    "# target_path =\"`unikargo_dev`.`02_silver`.`unikargo_dim_airline_silver`\"\n",
    "\n",
    "with TaskLogger(\n",
    "    operation=operation,\n",
    "    pipeline_name=pipeline_name,\n",
    "    target_path = target_path,\n",
    "    log_running=False\n",
    ") as logger:\n",
    "    \n",
    "    # Count rows first\n",
    "    rows_processed = airlines_df.count()\n",
    "\n",
    "    dim_airline.write \\\n",
    "        .format(\"delta\") \\\n",
    "        .mode(\"overwrite\") \\\n",
    "        .option(\"overwriteSchema\", \"true\") \\\n",
    "        .saveAsTable(target_path)\n",
    "    \n",
    "    # Update metrics before completion\n",
    "    logger.set_metrics(rows=rows_processed)"
   ]
  },
  {
   "cell_type": "code",
   "execution_count": 8,
   "id": "c512e575",
   "metadata": {},
   "outputs": [
    {
     "name": "stdout",
     "output_type": "stream",
     "text": [
      "+-----------+---------------------+-----------+-----------------------+------------------------------------+---------------------------+-------+-------+-----------------+--------------------------------------------------------------------------------+--------------------------------------------------+----------+---------------------------------+--------------------------+----------+\n",
      "|pipeline_id|pipeline_name        |environment|run_id                 |task_id                             |operation                  |status |rows   |execution_time_ms|source_path                                                                     |target_path                                       |error_type|error_message                    |timestamp                 |log_date  |\n",
      "+-----------+---------------------+-----------+-----------------------+------------------------------------+---------------------------+-------+-------+-----------------+--------------------------------------------------------------------------------+--------------------------------------------------+----------+---------------------------------+--------------------------+----------+\n",
      "|local_run  |pl_unikargo_medallion|dev        |local_run_id_1757303783|6067f623-c7e2-4e37-bd92-fbbbee6500ed|tsk_airlines_persist_silver|SUCCESS|14     |3271             |NULL                                                                            |unikargo_dev.02_silver.unikargo_dim_airline_silver|NULL      |NULL                             |2025-09-08 03:56:24.391621|2025-09-08|\n",
      "|local_run  |pl_unikargo_medallion|dev        |local_run_id_1757303779|650d06bf-eaed-4c8f-a5d6-2c9e04de5055|tsk_airlines_dim_build     |SUCCESS|14     |575              |NULL                                                                            |NULL                                              |NULL      |NULL                             |2025-09-08 03:56:20.124343|2025-09-08|\n",
      "|local_run  |pl_unikargo_medallion|dev        |local_run_id_1757303771|d3edcaa8-50c6-4c09-b29e-dd9b5d3fb197|tsk_airlines_read_bronze   |SUCCESS|14     |815              |unikargo_dev.01_bronze.unikargo_airline_bronze                                  |NULL                                              |NULL      |NULL                             |2025-09-08 03:56:12.567521|2025-09-08|\n",
      "|local_run  |pl_unikargo_medallion|dev        |local_run_id_1757303756|5965dbb1-b8bb-4dc8-b4d8-e963698af94e|tsk_airlines_persist_silver|FAILED |NULL   |0                |NULL                                                                            |unikargo_dev.02_silver.unikargo_dim_airline_silver|NameError |name 'airlines_df' is not defined|2025-09-08 03:55:57.449725|2025-09-08|\n",
      "|local_run  |pl_unikargo_medallion|dev        |local_run_id_1757303480|229c886a-198b-4c95-a364-e8ed5374bfdb|tsk_airlines_dim_build     |SUCCESS|14     |548              |NULL                                                                            |NULL                                              |NULL      |NULL                             |2025-09-08 03:51:21.182705|2025-09-08|\n",
      "|local_run  |pl_unikargo_medallion|dev        |local_run_id_1757303474|7d8ec01b-c0ad-411d-8e45-4608f32544a7|tsk_airlines_read_bronze   |SUCCESS|14     |12586            |unikargo_dev.01_bronze.unikargo_airline_bronze                                  |NULL                                              |NULL      |NULL                             |2025-09-08 03:51:16.779409|2025-09-08|\n",
      "|local_run  |pl_unikargo_medallion|dev        |local_run_id_1757302190|9d355b58-98c8-43b1-add0-b031854c0674|tsk_flights_persist_bronze |SUCCESS|5819079|9889             |NULL                                                                            |unikargo_dev.01_bronze.unikargo_flights_bronze    |NULL      |NULL                             |2025-09-08 03:29:50.901935|2025-09-08|\n",
      "|local_run  |pl_unikargo_medallion|dev        |local_run_id_1757302179|04befb04-bf24-40f5-ad8a-2cd35b4b5df1|tsk_flights_add_metadata   |SUCCESS|5819079|3282             |NULL                                                                            |NULL                                              |NULL      |NULL                             |2025-09-08 03:29:40.024522|2025-09-08|\n",
      "|local_run  |pl_unikargo_medallion|dev        |local_run_id_1757302175|197e61a9-fc25-4617-b1dc-b63604724893|tsk_flights_read_raw       |SUCCESS|5819079|2973             |abfss://medallion@adlsunikarrgodev.dfs.core.windows.net/raw/volumes/flights.csv |NULL                                              |NULL      |NULL                             |2025-09-08 03:29:35.623096|2025-09-08|\n",
      "|local_run  |pl_unikargo_medallion|dev        |local_run_id_1757302125|bfa7c533-41a9-4ed2-8de4-f1f826b1e619|tsk_flights_persist_bronze |SUCCESS|5819079|10389            |NULL                                                                            |unikargo_dev.01_bronze.unikargo_flights_bronze    |NULL      |NULL                             |2025-09-08 03:28:46.336986|2025-09-08|\n",
      "|local_run  |pl_unikargo_medallion|dev        |local_run_id_1757302116|7457d987-116c-4557-b3b8-5809e528cc2c|tsk_airports_persist_bronze|SUCCESS|322    |1978             |NULL                                                                            |unikargo_dev.01_bronze.unikargo_airport_bronze    |NULL      |NULL                             |2025-09-08 03:28:37.338412|2025-09-08|\n",
      "|local_run  |pl_unikargo_medallion|dev        |local_run_id_1757302113|23da3c8c-9e40-4d71-a33d-713f1b80eaaf|tsk_flights_add_metadata   |SUCCESS|5819079|2995             |NULL                                                                            |NULL                                              |NULL      |NULL                             |2025-09-08 03:28:34.493636|2025-09-08|\n",
      "|local_run  |pl_unikargo_medallion|dev        |local_run_id_1757302113|683b0afb-70e2-4932-9c65-3c51bf86ab50|tsk_flights_add_metadata   |SUCCESS|322    |245              |NULL                                                                            |NULL                                              |NULL      |NULL                             |2025-09-08 03:28:34.458216|2025-09-08|\n",
      "|local_run  |pl_unikargo_medallion|dev        |local_run_id_1757302112|1c34d355-6e3b-4c50-bca6-d60b932b501b|tsk_flights_read_raw       |SUCCESS|322    |1894             |abfss://medallion@adlsunikarrgodev.dfs.core.windows.net/raw/volumes/airports.csv|NULL                                              |NULL      |NULL                             |2025-09-08 03:28:33.183466|2025-09-08|\n",
      "|local_run  |pl_unikargo_medallion|dev        |local_run_id_1757302109|00f45e21-f425-4a02-9ebf-d458b916ef68|tsk_flights_read_raw       |SUCCESS|5819079|2148             |abfss://medallion@adlsunikarrgodev.dfs.core.windows.net/raw/volumes/flights.csv |NULL                                              |NULL      |NULL                             |2025-09-08 03:28:30.367635|2025-09-08|\n",
      "|local_run  |pl_unikargo_medallion|dev        |local_run_id_1757302108|42059b86-4efd-4f56-9097-3626b9326a6c|tsk_airlines_persist_bronze|SUCCESS|14     |1372             |NULL                                                                            |unikargo_dev.01_bronze.unikargo_airline_bronze    |NULL      |NULL                             |2025-09-08 03:28:28.80148 |2025-09-08|\n",
      "|local_run  |pl_unikargo_medallion|dev        |local_run_id_1757302105|923afb85-60a4-47f9-9e89-1d945814de49|tsk_airlines_add_metadata  |SUCCESS|14     |284              |NULL                                                                            |NULL                                              |NULL      |NULL                             |2025-09-08 03:28:26.482589|2025-09-08|\n",
      "|local_run  |pl_unikargo_medallion|dev        |local_run_id_1757302104|0fd6f810-27fb-458f-a196-b7173bbb3694|tsk_airlines_read_raw      |SUCCESS|14     |723              |abfss://medallion@adlsunikarrgodev.dfs.core.windows.net/raw/volumes/airlines.csv|NULL                                              |NULL      |NULL                             |2025-09-08 03:28:25.227076|2025-09-08|\n",
      "|local_run  |pl_unikargo_medallion|dev        |local_run_id_1757302075|d142faec-accd-4afa-be34-b835f482cc25|tsk_flights_persist_bronze |SUCCESS|5819079|11037            |NULL                                                                            |unikargo_dev.01_bronze.unikargo_flights_bronze    |NULL      |NULL                             |2025-09-08 03:27:55.794321|2025-09-08|\n",
      "|local_run  |pl_unikargo_medallion|dev        |local_run_id_1757302063|a7121626-6ba7-495e-babe-b7a9743679bf|tsk_flights_add_metadata   |SUCCESS|5819079|2524             |NULL                                                                            |NULL                                              |NULL      |NULL                             |2025-09-08 03:27:43.777251|2025-09-08|\n",
      "+-----------+---------------------+-----------+-----------------------+------------------------------------+---------------------------+-------+-------+-----------------+--------------------------------------------------------------------------------+--------------------------------------------------+----------+---------------------------------+--------------------------+----------+\n",
      "only showing top 20 rows\n"
     ]
    }
   ],
   "source": [
    "# --------Uncomment to debug (Read Delta logs and show latest logs)-----------------\n",
    "log_path = get_log_adls_path(log_type, environment=environment) # Path to save logging for tasks\n",
    "\n",
    "logs_df = spark.read.format(\"delta\").load(log_path)\n",
    "logs_df.orderBy(\"timestamp\", ascending=False).show(20, truncate=False)"
   ]
  }
 ],
 "metadata": {
  "kernelspec": {
   "display_name": ".venv_dbc (3.11.3)",
   "language": "python",
   "name": "python3"
  },
  "language_info": {
   "codemirror_mode": {
    "name": "ipython",
    "version": 3
   },
   "file_extension": ".py",
   "mimetype": "text/x-python",
   "name": "python",
   "nbconvert_exporter": "python",
   "pygments_lexer": "ipython3",
   "version": "3.11.3"
  }
 },
 "nbformat": 4,
 "nbformat_minor": 5
}
