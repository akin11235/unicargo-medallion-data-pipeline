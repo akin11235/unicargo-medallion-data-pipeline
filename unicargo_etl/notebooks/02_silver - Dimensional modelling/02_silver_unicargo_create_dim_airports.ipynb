{
 "cells": [
  {
   "cell_type": "code",
   "execution_count": 1,
   "id": "50ce477c",
   "metadata": {},
   "outputs": [],
   "source": [
    "from pyspark.sql.window import Window\n",
    "from pyspark.sql.functions import col, row_number\n",
    "# from pyspark.sql import functions as F"
   ]
  },
  {
   "cell_type": "code",
   "execution_count": 2,
   "id": "cc0a3d8a",
   "metadata": {},
   "outputs": [],
   "source": [
    "# Read bronze airports table\n",
    "airports_df = spark.read.table(\"unikargo_dev.01_bronze.unikargo_airports_bronze\")"
   ]
  },
  {
   "cell_type": "code",
   "execution_count": 4,
   "id": "84b50d21",
   "metadata": {},
   "outputs": [],
   "source": [
    "# Add surrogate key\n",
    "# sequential surrogate keys (airport_sk) ordered by IATA_CODE\n",
    "\n",
    "# dim_airport = airports_df.withColumn(\"airport_sk\", F.monotonically_increasing_id())\n",
    "\n",
    "dim_airport = airports_df \\\n",
    "    .filter(col(\"iata_code\").isNotNull()) \\\n",
    "    .dropDuplicates([\"iata_code\"]) \\\n",
    "    .withColumn(\"airport_sk\", row_number().over(Window.orderBy(\"iata_code\"))) \\\n",
    "    .select(\n",
    "        \"airport_sk\",\n",
    "        \"iata_code\",\n",
    "        \"airline\",\n",
    "        \"city\",\n",
    "        \"state\",\n",
    "        \"country\",\n",
    "        \"latitude\",\n",
    "        \"longitude\"\n",
    "    )"
   ]
  },
  {
   "cell_type": "code",
   "execution_count": 7,
   "id": "b90647bd",
   "metadata": {},
   "outputs": [],
   "source": [
    "\n",
    "# write dim_airport (dimension table)\n",
    "dim_airport.write \\\n",
    "    .format(\"delta\") \\\n",
    "    .mode(\"overwrite\") \\\n",
    "    .option(\"overwriteSchema\", \"true\") \\\n",
    "    .saveAsTable(\"unikargo_dev.02_silver.unikargo_dim_airport_silver\")"
   ]
  }
 ],
 "metadata": {
  "kernelspec": {
   "display_name": ".venv_dbc (3.11.3)",
   "language": "python",
   "name": "python3"
  },
  "language_info": {
   "codemirror_mode": {
    "name": "ipython",
    "version": 3
   },
   "file_extension": ".py",
   "mimetype": "text/x-python",
   "name": "python",
   "nbconvert_exporter": "python",
   "pygments_lexer": "ipython3",
   "version": "3.11.3"
  }
 },
 "nbformat": 4,
 "nbformat_minor": 5
}
