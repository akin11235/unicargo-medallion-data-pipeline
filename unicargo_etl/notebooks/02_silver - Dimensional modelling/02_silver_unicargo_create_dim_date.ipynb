{
 "cells": [
  {
   "cell_type": "markdown",
   "id": "70cb1a17",
   "metadata": {},
   "source": [
    "A date dimension is not 1-to-1 with fact rows.\n",
    "Instead, you build a master calendar (date dimension) once, and every fact row references the right date from it."
   ]
  },
  {
   "cell_type": "code",
   "execution_count": null,
   "id": "bc3387dd",
   "metadata": {},
   "outputs": [],
   "source": [
    "from datetime import datetime\n",
    "import pandas as pd\n",
    "\n",
    "from pyspark.sql import functions as F\n",
    "from pyspark.sql import Window\n",
    "from pyspark.sql.types import DateType"
   ]
  },
  {
   "cell_type": "code",
   "execution_count": null,
   "id": "49ec9cab",
   "metadata": {},
   "outputs": [],
   "source": [
    "# 1. Generate full date range\n",
    "start_date = datetime(2015, 1, 1) \n",
    "end_date = datetime(2030, 12, 31)\n",
    "date_list = pd.date_range(start=start_date, end=end_date, freq='D')"
   ]
  },
  {
   "cell_type": "code",
   "execution_count": null,
   "id": "727217cf",
   "metadata": {},
   "outputs": [],
   "source": [
    "# flights_df = spark.read.table(\"unicargo_dev.01_bronze.unicargo_flights_bronze\")"
   ]
  },
  {
   "cell_type": "code",
   "execution_count": null,
   "id": "f86024a9",
   "metadata": {},
   "outputs": [],
   "source": [
    "# Create dim_date table from data taken from the flights bronze data\n",
    "\n",
    "# select only date-related fields and drop duplicates\n",
    "# dim_date = (\n",
    "#     flights_df\n",
    "#     .select(\"YEAR\", \"MONTH\", \"DAY\", \"DAY_OF_WEEK\")\n",
    "#     .distinct()\n",
    "#     # create a proper date field\n",
    "#     .withColumn(\n",
    "#         \"full_date\", \n",
    "#         F.to_date(F.concat_ws(\"-\", flights_df.YEAR, flights_df.MONTH, flights_df.DAY))\n",
    "#     )\n",
    "# )\n",
    "\n",
    "# # add surrogate key (date_sk)\n",
    "# dim_date = dim_date.withColumn(\"date_sk\", F.monotonically_increasing_id())"
   ]
  },
  {
   "cell_type": "code",
   "execution_count": null,
   "id": "cdcad667",
   "metadata": {},
   "outputs": [],
   "source": [
    "# 2. Build list of dictionaries for each date\n",
    "date_data = []\n",
    "for i, date in enumerate(date_list, 1):\n",
    "    date_data.append({\n",
    "        'date_sk': i,\n",
    "        \n",
    "        'full_date': date.strftime('%Y-%m-%d'),  # convert to string\n",
    "        'year': date.year,\n",
    "        'month': date.month,\n",
    "        'day': date.day,\n",
    "        'day_of_week': date.weekday() + 1,  # 1=Monday, 7=Sunday\n",
    "        'day_name': date.strftime('%A'),\n",
    "        'month_name': date.strftime('%B'),\n",
    "        'quarter': (date.month - 1) // 3 + 1,\n",
    "        'is_weekend': 1 if date.weekday() >= 5 else 0\n",
    "    })"
   ]
  },
  {
   "cell_type": "code",
   "execution_count": null,
   "id": "178ef893",
   "metadata": {},
   "outputs": [],
   "source": [
    "# 3. Convert to Spark DataFrame\n",
    "dim_date_extended = spark.createDataFrame(date_data)\n",
    "print(\"Schema before casting:\")\n",
    "dim_date_extended.printSchema()"
   ]
  },
  {
   "cell_type": "code",
   "execution_count": null,
   "id": "7094a805",
   "metadata": {},
   "outputs": [],
   "source": [
    "# Cast full_date (currently string) → DateType\n",
    "dim_date_extended = dim_date_extended.withColumn(\"full_date\", F.col(\"full_date\").cast(DateType()))\n",
    "print(\"\\nSchema after casting:\")\n",
    "dim_date_extended.printSchema()\n",
    "\n",
    "print(\"\\nSample data:\")\n",
    "dim_date_extended.show(5)\n",
    "\n",
    "# Verify the date range now covers your flight data\n",
    "print(\"\\nNew date range:\")\n",
    "dim_date_extended.select(F.min(\"full_date\"), F.max(\"full_date\")).show()"
   ]
  },
  {
   "cell_type": "code",
   "execution_count": null,
   "id": "9c3ea48d",
   "metadata": {},
   "outputs": [],
   "source": [
    "# Write dim_date (dimension table)\n",
    "print(\"Saving date dimension...\")\n",
    "dim_date_extended.write \\\n",
    "    .mode(\"overwrite\") \\\n",
    "    .option(\"overwriteSchema\", \"true\") \\\n",
    "    .saveAsTable(\"unikargo_dev.02_silver.unikargo_dim_date_silver\")"
   ]
  },
  {
   "cell_type": "code",
   "execution_count": null,
   "id": "f1bc3d8c",
   "metadata": {},
   "outputs": [],
   "source": [
    "# Check the saved table\n",
    "saved_dim_date = spark.table(\"unikargo_dev.02_silver.unikargo_dim_date_silver\")\n",
    "print(\"Saved table count:\", saved_dim_date.count())\n",
    "saved_dim_date.select(F.min(\"full_date\"), F.max(\"full_date\")).show()"
   ]
  }
 ],
 "metadata": {
  "kernelspec": {
   "display_name": ".venv_dbc (3.11.3)",
   "language": "python",
   "name": "python3"
  },
  "language_info": {
   "codemirror_mode": {
    "name": "ipython",
    "version": 3
   },
   "file_extension": ".py",
   "mimetype": "text/x-python",
   "name": "python",
   "nbconvert_exporter": "python",
   "pygments_lexer": "ipython3",
   "version": "3.11.3"
  }
 },
 "nbformat": 4,
 "nbformat_minor": 5
}
