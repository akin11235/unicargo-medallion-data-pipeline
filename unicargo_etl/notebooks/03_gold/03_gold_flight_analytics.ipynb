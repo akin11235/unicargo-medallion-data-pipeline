{
 "cells": [
  {
   "cell_type": "code",
   "execution_count": null,
   "id": "18ac6506",
   "metadata": {},
   "outputs": [],
   "source": [
    "import os\n",
    "import sys\n",
    "from pathlib import Path\n",
    "from pyspark.sql import functions as F\n",
    "from pyspark.sql.types import *\n",
    "from pyspark.sql.window import Window"
   ]
  },
  {
   "cell_type": "code",
   "execution_count": null,
   "id": "694a0b38",
   "metadata": {},
   "outputs": [],
   "source": [
    "\n",
    "# sys.path.append('../../../src')\n",
    "\n",
    "# Current working directory\n",
    "current_dir = os.getcwd()\n",
    "# Go up 3 levels and append 'src'\n",
    "project_root = os.path.abspath(os.path.join(current_dir, '..', '..', '..', 'src'))\n",
    "# Add src to sys.path\n",
    "sys.path.append(project_root)\n",
    "\n",
    "from config import get_table_config, get_cleaning_config, get_streaming_config, ENVIRONMENTS\n",
    "\n",
    "from io_utils.write_to_table_utils import save_to_table, save_to_bronze, save_to_silver, save_to_gold"
   ]
  },
  {
   "cell_type": "code",
   "execution_count": null,
   "id": "fa457441",
   "metadata": {},
   "outputs": [],
   "source": [
    "# # env = \"dev\"\n",
    "# # layer = \"bronze\"\n",
    "\n",
    "# # table_cfg = get_table_config(entity=\"airlines\", layer=layer, environment=env)\n",
    "# # # table_cfg.full_name -> \"store1_prod.gold.dimestore_gold\"\n",
    "\n",
    "# # print(table_cfg)\n",
    "# # print(table_cfg.full_name)\n",
    "\n",
    "# bronze_airline = get_table_config(entity=\"airlines\", layer=\"bronze\", environment=\"dev\")\n",
    "# print(bronze_airline.full_name)\n",
    "\n",
    "# # Silver example: Flights in staging\n",
    "# silver_flights = get_table_config(entity=\"flights\", layer=\"silver\", environment=\"staging\")\n",
    "# print(silver_flights.full_name)\n",
    "# # -> unikargo_staging.02_silver.unikargo_flights_silver\n",
    "\n",
    "# # Gold example: Daily flight summary in prod\n",
    "# gold_summary = get_table_config(\n",
    "#     entity=\"flights\",  \n",
    "#     layer=\"gold\",\n",
    "#     environment=\"dev\",\n",
    "#     table_key=\"daily_summary\"\n",
    "# )\n",
    "# print(gold_summary.full_name)"
   ]
  },
  {
   "cell_type": "code",
   "execution_count": null,
   "id": "c09bf315",
   "metadata": {},
   "outputs": [],
   "source": [
    "print(\"Reading fact_flights bronze data...\")\n",
    "\n",
    "fact_flight_silver_df = spark.read.table(\"unikargo_dev.02_silver.unikargo_fact_flight_silver\")\n",
    "\n",
    "print(f\"Silver fact_flights count: {fact_flight_silver_df.count():,}\")"
   ]
  },
  {
   "cell_type": "code",
   "execution_count": null,
   "id": "1120c4d4",
   "metadata": {},
   "outputs": [],
   "source": [
    "print(\"Reading silver dimension tables...\")\n",
    "\n",
    "dim_date_silver_df = spark.read.table(\"unikargo_dev.02_silver.unikargo_dim_date_silver\")\n",
    "dim_airline_silver_df = spark.read.table(\"unikargo_dev.02_silver.unikargo_dim_airline_silver\")\n",
    "dim_airport_silver_df = spark.read.table(\"unikargo_dev.02_silver.unikargo_dim_airport_silver\")\n",
    "\n",
    "print(f\"Dimensions loaded - Airlines: {dim_airline_silver_df.count()}, \"\n",
    "      f\"Airports: {dim_airport_silver_df.count()}, \"\n",
    "      f\"Dates: {dim_date_silver_df.count()}\")"
   ]
  },
  {
   "cell_type": "code",
   "execution_count": null,
   "id": "eeca7eb6",
   "metadata": {},
   "outputs": [],
   "source": [
    "# Top 10 busiest routes across all airlines\n",
    "top_10_busiest_routes = fact_flight_silver_df \\\n",
    "    .groupBy(\"origin_airport_sk\", \"destination_airport_sk\") \\\n",
    "    .agg(\n",
    "        F.count(\"*\").alias(\"total_flights\"),\n",
    "        F.countDistinct(\"airline_sk\").alias(\"airlines_serving\"),\n",
    "        F.countDistinct(\"tail_number\").alias(\"unique_aircraft\"),\n",
    "        F.avg(\"departure_delay\").alias(\"avg_departure_delay\"),\n",
    "        F.avg(\"arrival_delay\").alias(\"avg_arrival_delay\")\n",
    "    ) \\\n",
    "    .join(dim_airport_silver_df.alias(\"origin_apt\"), \n",
    "          F.col(\"origin_airport_sk\") == F.col(\"origin_apt.airport_sk\")) \\\n",
    "    .join(dim_airport_silver_df.alias(\"dest_apt\"), \n",
    "          F.col(\"destination_airport_sk\") == F.col(\"dest_apt.airport_sk\")) \\\n",
    "    .select(\n",
    "        F.col(\"origin_apt.iata_code\").alias(\"origin_code\"),\n",
    "        F.col(\"origin_apt.city\").alias(\"origin_city\"),\n",
    "        F.col(\"origin_apt.state\").alias(\"origin_state\"),\n",
    "        F.col(\"dest_apt.iata_code\").alias(\"dest_code\"),\n",
    "        F.col(\"dest_apt.city\").alias(\"dest_city\"),\n",
    "        F.col(\"dest_apt.state\").alias(\"dest_state\"),\n",
    "        \"total_flights\",\n",
    "        \"airlines_serving\",\n",
    "        \"unique_aircraft\",\n",
    "        \"avg_departure_delay\",\n",
    "        \"avg_arrival_delay\"\n",
    "    ) \\\n",
    "    .orderBy(F.col(\"total_flights\").desc()) \\\n",
    "    .limit(10)\n",
    "\n",
    "    # Save to Gold layer\n",
    "# top_10_busiest_routes.write.mode(\"overwrite\").saveAsTable(\"gold.top_10_busiest_routes\")"
   ]
  },
  {
   "cell_type": "code",
   "execution_count": null,
   "id": "845b0857",
   "metadata": {},
   "outputs": [],
   "source": [
    "save_to_table(\n",
    "    top_10_busiest_routes,\n",
    "    entity=\"flights\",\n",
    "    layer=\"gold\",\n",
    "    environment=\"dev\",\n",
    "    table_key=\"top_10_busiest_routes\",\n",
    "    mode=\"append\",\n",
    "    overwrite_schema=False\n",
    ")"
   ]
  },
  {
   "cell_type": "code",
   "execution_count": null,
   "id": "96c544d6",
   "metadata": {},
   "outputs": [],
   "source": [
    "# Calculate cancellation rate per airline\n",
    "cancellation_rates_airline = fact_flight_silver_df \\\n",
    "    .join(dim_airline_silver_df, \"airline_sk\") \\\n",
    "    .groupBy(\"airline\", \"iata_code\") \\\n",
    "    .agg(\n",
    "        F.count(\"*\").alias(\"total_flights\"),\n",
    "        F.sum(F.when(F.col(\"cancelled\") == 1, 1).otherwise(0)).alias(\"cancelled_flights\")\n",
    "    ) \\\n",
    "    .withColumn(\"cancellation_rate_pct\", \n",
    "                (F.col(\"cancelled_flights\") / F.col(\"total_flights\") * 100)) \\\n",
    "    .orderBy(F.col(\"cancellation_rate_pct\").desc())\n",
    "\n",
    "# Save to Gold layer\n",
    "# cancellation_rates_airline.write.mode(\"overwrite\").saveAsTable(\"gold.airline_cancellation_rates\")\n"
   ]
  },
  {
   "cell_type": "code",
   "execution_count": null,
   "id": "e48e2c61",
   "metadata": {},
   "outputs": [],
   "source": [
    "save_to_table(\n",
    "    cancellation_rates_airline,\n",
    "    entity=\"airlines\",\n",
    "    layer=\"gold\",\n",
    "    environment=\"dev\",\n",
    "    table_key=\"cancellation_rates\",\n",
    "    mode=\"append\",\n",
    "    overwrite_schema=False\n",
    ")"
   ]
  },
  {
   "cell_type": "code",
   "execution_count": null,
   "id": "1c11574e",
   "metadata": {},
   "outputs": [],
   "source": [
    "save_to_gold(\n",
    "    cancellation_rates_airline, \n",
    "    entity=\"airlines\",\n",
    "    table_key=\"cancellation_rates\",   # table_key\n",
    "    environment=\"dev\",\n",
    "    mode=\"append\",\n",
    "    overwrite_schema=False\n",
    ")"
   ]
  },
  {
   "cell_type": "code",
   "execution_count": null,
   "id": "e3811485",
   "metadata": {},
   "outputs": [],
   "source": [
    "# Average departure delay per airline per month\n",
    "avg_delay_by_airline_month = fact_flight_silver_df \\\n",
    "    .join(dim_airline_silver_df, \"airline_sk\") \\\n",
    "    .join(dim_date_silver_df, \"date_sk\") \\\n",
    "    .groupBy(\"airline\", \"year\", \"month\") \\\n",
    "    .agg(\n",
    "        F.avg(\"departure_delay\").alias(\"avg_departure_delay\"),\n",
    "        F.avg(\"arrival_delay\").alias(\"avg_arrival_delay\"),\n",
    "        F.count(\"*\").alias(\"total_flights\")\n",
    "    ) \\\n",
    "    .orderBy(\"airline\", \"year\", \"month\")\n",
    "\n",
    "# Save to Gold layer\n",
    "# avg_delay_by_airline_month.write.mode(\"overwrite\").saveAsTable(\"gold.avg_delay_by_airline_month\")\n"
   ]
  },
  {
   "cell_type": "code",
   "execution_count": null,
   "id": "75cf8c8d",
   "metadata": {},
   "outputs": [],
   "source": [
    "save_to_table(\n",
    "    avg_delay_by_airline_month,\n",
    "    entity=\"airlines\",\n",
    "    layer=\"gold\",\n",
    "    environment=\"dev\",\n",
    "    table_key=\"avg_delay_by_month\",\n",
    "    mode=\"append\",\n",
    "    overwrite_schema=False\n",
    ")"
   ]
  }
 ],
 "metadata": {
  "kernelspec": {
   "display_name": ".venv_dbc (3.11.3)",
   "language": "python",
   "name": "python3"
  },
  "language_info": {
   "codemirror_mode": {
    "name": "ipython",
    "version": 3
   },
   "file_extension": ".py",
   "mimetype": "text/x-python",
   "name": "python",
   "nbconvert_exporter": "python",
   "pygments_lexer": "ipython3",
   "version": "3.11.3"
  }
 },
 "nbformat": 4,
 "nbformat_minor": 5
}
