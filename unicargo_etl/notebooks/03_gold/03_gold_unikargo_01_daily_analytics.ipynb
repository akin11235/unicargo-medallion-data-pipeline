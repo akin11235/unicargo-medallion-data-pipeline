{
 "cells": [
  {
   "cell_type": "code",
   "execution_count": 1,
   "id": "e2a6dc17",
   "metadata": {},
   "outputs": [],
   "source": [
    "from pyspark.sql import functions as F\n",
    "from pyspark.sql.types import *\n",
    "from pyspark.sql.window import Window\n"
   ]
  },
  {
   "cell_type": "code",
   "execution_count": 2,
   "id": "98b2ff71",
   "metadata": {},
   "outputs": [],
   "source": [
    "# =============================================================================\n",
    "# DAILY ANALYTICS\n",
    "# ============================================================================="
   ]
  },
  {
   "cell_type": "code",
   "execution_count": 2,
   "id": "06861234",
   "metadata": {},
   "outputs": [
    {
     "name": "stdout",
     "output_type": "stream",
     "text": [
      "Reading fact_flights bronze data...\n",
      "Silver fact_flights count: 5,328,614\n"
     ]
    }
   ],
   "source": [
    "print(\"Reading fact_flights bronze data...\")\n",
    "\n",
    "fact_flight_silver_df = spark.read.table(\"unikargo_dev.02_silver.unikargo_fact_flight_silver\")\n",
    "\n",
    "print(f\"Silver fact_flights count: {fact_flight_silver_df.count():,}\")"
   ]
  },
  {
   "cell_type": "code",
   "execution_count": 3,
   "id": "bebcfbd1",
   "metadata": {},
   "outputs": [
    {
     "name": "stdout",
     "output_type": "stream",
     "text": [
      "Reading silver dimension tables...\n",
      "Dimensions loaded - Airlines: 14, Airports: 322, Dates: 5844\n"
     ]
    }
   ],
   "source": [
    "print(\"Reading silver dimension tables...\")\n",
    "\n",
    "dim_date_silver_df = spark.read.table(\"unikargo_dev.02_silver.unikargo_dim_date_silver\")\n",
    "dim_airline_silver_df = spark.read.table(\"unikargo_dev.02_silver.unikargo_dim_airline_silver\")\n",
    "dim_airport_silver_df = spark.read.table(\"unikargo_dev.02_silver.unikargo_dim_airport_silver\")\n",
    "\n",
    "print(f\"Dimensions loaded - Airlines: {dim_airline_silver_df.count()}, \"\n",
    "      f\"Airports: {dim_airport_silver_df.count()}, \"\n",
    "      f\"Dates: {dim_date_silver_df.count()}\")"
   ]
  },
  {
   "cell_type": "code",
   "execution_count": 5,
   "id": "93a54aca",
   "metadata": {},
   "outputs": [],
   "source": [
    "# Daily flight summary with dimensional joins\n",
    "daily_summary = fact_flight_silver_df \\\n",
    "    .join(dim_date_silver_df, \"date_sk\") \\\n",
    "    .join(dim_airline_silver_df, \"airline_sk\") \\\n",
    "    .groupBy(\"full_date\", \"airline\") \\\n",
    "    .agg(\n",
    "        F.count(\"*\").alias(\"total_flights\"),\n",
    "        F.avg(\"departure_delay\").alias(\"avg_departure_delay\"),\n",
    "        F.avg(\"arrival_delay\").alias(\"avg_arrival_delay\"),\n",
    "        F.sum(F.when(F.col(\"cancelled\") == 1, 1).otherwise(0)).alias(\"cancelled_flights\"),\n",
    "        F.sum(F.when(F.col(\"diverted\") == 1, 1).otherwise(0)).alias(\"diverted_flights\"),\n",
    "        F.sum(F.when(F.col(\"departure_delay\") > 15, 1).otherwise(0)).alias(\"delayed_flights\"),\n",
    "        (F.sum(F.when(F.col(\"departure_delay\") > 15, 1).otherwise(0)) / F.count(\"*\") * 100).alias(\"delay_rate_pct\")\n",
    "    )\n"
   ]
  },
  {
   "cell_type": "code",
   "execution_count": 6,
   "id": "0ee73a26",
   "metadata": {},
   "outputs": [
    {
     "name": "stdout",
     "output_type": "stream",
     "text": [
      "+----------+--------------------+-------------+--------------------+------------------+-----------------+----------------+---------------+------------------+\n",
      "| full_date|             airline|total_flights| avg_departure_delay| avg_arrival_delay|cancelled_flights|diverted_flights|delayed_flights|    delay_rate_pct|\n",
      "+----------+--------------------+-------------+--------------------+------------------+-----------------+----------------+---------------+------------------+\n",
      "|2015-03-14|Hawaiian Airlines...|          196|-0.03571428571428571|  5.11734693877551|                0|               0|              6| 3.061224489795918|\n",
      "|2015-03-26|Delta Air Lines Inc.|         2492|  11.134430176565008| 5.879871434310968|                0|               3|            453| 18.17817014446228|\n",
      "|2015-12-28|      Virgin America|          192|  16.389473684210525| 8.521052631578947|                2|               0|             46|23.958333333333336|\n",
      "|2015-07-07|American Airlines...|         2674|  10.982317531978932| 6.586817325800377|               18|               1|            539|20.157068062827225|\n",
      "|2015-01-31|Delta Air Lines Inc.|         1464|  1.9023224043715847|-9.623545516769337|                0|               3|             90| 6.147540983606557|\n",
      "+----------+--------------------+-------------+--------------------+------------------+-----------------+----------------+---------------+------------------+\n",
      "only showing top 5 rows\n"
     ]
    }
   ],
   "source": [
    "daily_summary.show(5)"
   ]
  },
  {
   "cell_type": "code",
   "execution_count": 7,
   "id": "81e5c7dc",
   "metadata": {},
   "outputs": [],
   "source": [
    "# Weekly aggregation\n",
    "weekly_summary = fact_flight_silver_df \\\n",
    "    .join(dim_date_silver_df, \"date_sk\") \\\n",
    "    .join(dim_airline_silver_df, \"airline_sk\") \\\n",
    "    .groupBy(\"year\", F.weekofyear(\"full_date\").alias(\"week_of_year\"), \"airline\") \\\n",
    "    .agg(\n",
    "        F.count(\"*\").alias(\"total_flights\"),\n",
    "        F.avg(\"departure_delay\").alias(\"avg_departure_delay\"),\n",
    "        F.sum(F.when(F.col(\"cancelled\") == 1, 1).otherwise(0)).alias(\"cancelled_flights\"),\n",
    "        F.max(\"departure_delay\").alias(\"max_departure_delay\"),\n",
    "        F.min(\"departure_delay\").alias(\"min_departure_delay\"),\n",
    "        F.stddev(\"departure_delay\").alias(\"delay_std_dev\")\n",
    "    )"
   ]
  },
  {
   "cell_type": "code",
   "execution_count": 8,
   "id": "ac34f620",
   "metadata": {},
   "outputs": [
    {
     "name": "stdout",
     "output_type": "stream",
     "text": [
      "+----+------------+--------------------+-------------+-------------------+-----------------+-------------------+-------------------+------------------+\n",
      "|year|week_of_year|             airline|total_flights|avg_departure_delay|cancelled_flights|max_departure_delay|min_departure_delay|     delay_std_dev|\n",
      "+----+------------+--------------------+-------------+-------------------+-----------------+-------------------+-------------------+------------------+\n",
      "|2015|          27|United Air Lines ...|         9881| 15.764276160098776|              173|              676.0|              -21.0| 40.62202474634887|\n",
      "|2015|          50|    Spirit Air Lines|         2344| 6.5708172871202395|                7|              723.0|              -35.0| 34.97189753477474|\n",
      "|2015|          23|Hawaiian Airlines...|         1544|-2.3860103626943006|                0|              197.0|              -16.0|11.986056324919012|\n",
      "|2015|          31|American Airlines...|        18465| 12.067821619849164|              187|             1878.0|              -19.0| 44.97583766084317|\n",
      "|2015|          32|     JetBlue Airways|         5387| 15.625631431244154|               42|              459.0|              -18.0|38.002043280665816|\n",
      "+----+------------+--------------------+-------------+-------------------+-----------------+-------------------+-------------------+------------------+\n",
      "only showing top 5 rows\n"
     ]
    }
   ],
   "source": [
    "weekly_summary.show(5)"
   ]
  },
  {
   "cell_type": "code",
   "execution_count": 9,
   "id": "2619f459",
   "metadata": {},
   "outputs": [],
   "source": [
    "# Monthly trends\n",
    "monthly_trends = fact_flight_silver_df \\\n",
    "    .join(dim_date_silver_df, \"date_sk\") \\\n",
    "    .join(dim_airline_silver_df, \"airline_sk\") \\\n",
    "    .groupBy(\"year\", \"month\", \"airline\") \\\n",
    "    .agg(\n",
    "        F.count(\"*\").alias(\"total_flights\"),\n",
    "        F.avg(\"departure_delay\").alias(\"avg_departure_delay\"),\n",
    "        F.sum(F.when(F.col(\"cancelled\") == 1, 1).otherwise(0)).alias(\"cancelled_flights\"),\n",
    "        F.sum(\"elapsed_time\").alias(\"total_flight_time\"),\n",
    "        F.avg(\"elapsed_time\").alias(\"avg_flight_time\")\n",
    "    )"
   ]
  },
  {
   "cell_type": "code",
   "execution_count": 10,
   "id": "a69d9afb",
   "metadata": {},
   "outputs": [
    {
     "name": "stdout",
     "output_type": "stream",
     "text": [
      "+----+-----+--------------------+-------------+-------------------+-----------------+-----------------+------------------+\n",
      "|year|month|             airline|total_flights|avg_departure_delay|cancelled_flights|total_flight_time|   avg_flight_time|\n",
      "+----+-----+--------------------+-------------+-------------------+-----------------+-----------------+------------------+\n",
      "|2015|    1|Frontier Airlines...|         6828| 17.970195729537366|               89|        1033523.0|153.47831897831898|\n",
      "|2015|    4|Atlantic Southeas...|        49295|  6.795554545642339|              929|        4738564.0|  98.4452569909004|\n",
      "|2015|   12|Atlantic Southeas...|        44140|  9.979379027533685|             1517|        4046762.0| 95.37501767617252|\n",
      "|2015|    9|American Eagle Ai...|        21202|  4.605790432365065|              368|        1835243.0|   88.237078705707|\n",
      "|2015|    3|Skywest Airlines ...|        50078|  5.847798463058957|              544|        4894297.0| 99.00469303125315|\n",
      "+----+-----+--------------------+-------------+-------------------+-----------------+-----------------+------------------+\n",
      "only showing top 5 rows\n"
     ]
    }
   ],
   "source": [
    "monthly_trends.show(5)"
   ]
  },
  {
   "cell_type": "code",
   "execution_count": 12,
   "id": "18fc61cf",
   "metadata": {},
   "outputs": [],
   "source": [
    "# =============================================================================\n",
    "# SAVE TO GOLD LAYER TABLES\n",
    "# =============================================================================\n",
    "\n",
    "# Write results to Delta tables in Gold layer\n",
    "daily_summary.write.mode(\"overwrite\").saveAsTable(\"unikargo_dev.03_gold.daily_flight_summary\")"
   ]
  }
 ],
 "metadata": {
  "kernelspec": {
   "display_name": ".venv_dbc (3.11.3)",
   "language": "python",
   "name": "python3"
  },
  "language_info": {
   "codemirror_mode": {
    "name": "ipython",
    "version": 3
   },
   "file_extension": ".py",
   "mimetype": "text/x-python",
   "name": "python",
   "nbconvert_exporter": "python",
   "pygments_lexer": "ipython3",
   "version": "3.11.3"
  }
 },
 "nbformat": 4,
 "nbformat_minor": 5
}
