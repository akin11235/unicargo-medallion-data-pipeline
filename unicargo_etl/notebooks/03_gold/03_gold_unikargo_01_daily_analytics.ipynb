{
 "cells": [
  {
   "cell_type": "code",
   "execution_count": null,
   "id": "e2a6dc17",
   "metadata": {},
   "outputs": [],
   "source": [
    "from pyspark.sql import functions as F\n",
    "from pyspark.sql.types import *\n",
    "from pyspark.sql.window import Window\n"
   ]
  },
  {
   "cell_type": "code",
   "execution_count": null,
   "id": "98b2ff71",
   "metadata": {},
   "outputs": [],
   "source": [
    "# =============================================================================\n",
    "# DAILY ANALYTICS\n",
    "# ============================================================================="
   ]
  },
  {
   "cell_type": "code",
   "execution_count": null,
   "id": "06861234",
   "metadata": {},
   "outputs": [],
   "source": [
    "print(\"Reading fact_flights bronze data...\")\n",
    "\n",
    "fact_flight_silver_df = spark.read.table(\"unikargo_dev.02_silver.unikargo_fact_flight_silver\")\n",
    "\n",
    "print(f\"Silver fact_flights count: {fact_flight_silver_df.count():,}\")"
   ]
  },
  {
   "cell_type": "code",
   "execution_count": null,
   "id": "bebcfbd1",
   "metadata": {},
   "outputs": [],
   "source": [
    "print(\"Reading silver dimension tables...\")\n",
    "\n",
    "dim_date_silver_df = spark.read.table(\"unikargo_dev.02_silver.unikargo_dim_date_silver\")\n",
    "dim_airline_silver_df = spark.read.table(\"unikargo_dev.02_silver.unikargo_dim_airline_silver\")\n",
    "dim_airport_silver_df = spark.read.table(\"unikargo_dev.02_silver.unikargo_dim_airport_silver\")\n",
    "\n",
    "print(f\"Dimensions loaded - Airlines: {dim_airline_silver_df.count()}, \"\n",
    "      f\"Airports: {dim_airport_silver_df.count()}, \"\n",
    "      f\"Dates: {dim_date_silver_df.count()}\")"
   ]
  },
  {
   "cell_type": "code",
   "execution_count": null,
   "id": "93a54aca",
   "metadata": {},
   "outputs": [],
   "source": [
    "# Daily flight summary with dimensional joins\n",
    "daily_summary = fact_flight_silver_df \\\n",
    "    .join(dim_date_silver_df, \"date_sk\") \\\n",
    "    .join(dim_airline_silver_df, \"airline_sk\") \\\n",
    "    .groupBy(\"full_date\", \"airline\") \\\n",
    "    .agg(\n",
    "        F.count(\"*\").alias(\"total_flights\"),\n",
    "        F.avg(\"departure_delay\").alias(\"avg_departure_delay\"),\n",
    "        F.avg(\"arrival_delay\").alias(\"avg_arrival_delay\"),\n",
    "        F.sum(F.when(F.col(\"cancelled\") == 1, 1).otherwise(0)).alias(\"cancelled_flights\"),\n",
    "        F.sum(F.when(F.col(\"diverted\") == 1, 1).otherwise(0)).alias(\"diverted_flights\"),\n",
    "        F.sum(F.when(F.col(\"departure_delay\") > 15, 1).otherwise(0)).alias(\"delayed_flights\"),\n",
    "        (F.sum(F.when(F.col(\"departure_delay\") > 15, 1).otherwise(0)) / F.count(\"*\") * 100).alias(\"delay_rate_pct\")\n",
    "    )\n"
   ]
  },
  {
   "cell_type": "code",
   "execution_count": null,
   "id": "0ee73a26",
   "metadata": {},
   "outputs": [],
   "source": [
    "daily_summary.show(5)"
   ]
  },
  {
   "cell_type": "code",
   "execution_count": null,
   "id": "81e5c7dc",
   "metadata": {},
   "outputs": [],
   "source": [
    "# Weekly aggregation\n",
    "weekly_summary = fact_flight_silver_df \\\n",
    "    .join(dim_date_silver_df, \"date_sk\") \\\n",
    "    .join(dim_airline_silver_df, \"airline_sk\") \\\n",
    "    .groupBy(\"year\", F.weekofyear(\"full_date\").alias(\"week_of_year\"), \"airline\") \\\n",
    "    .agg(\n",
    "        F.count(\"*\").alias(\"total_flights\"),\n",
    "        F.avg(\"departure_delay\").alias(\"avg_departure_delay\"),\n",
    "        F.sum(F.when(F.col(\"cancelled\") == 1, 1).otherwise(0)).alias(\"cancelled_flights\"),\n",
    "        F.max(\"departure_delay\").alias(\"max_departure_delay\"),\n",
    "        F.min(\"departure_delay\").alias(\"min_departure_delay\"),\n",
    "        F.stddev(\"departure_delay\").alias(\"delay_std_dev\")\n",
    "    )"
   ]
  },
  {
   "cell_type": "code",
   "execution_count": null,
   "id": "ac34f620",
   "metadata": {},
   "outputs": [],
   "source": [
    "weekly_summary.show(5)"
   ]
  },
  {
   "cell_type": "code",
   "execution_count": null,
   "id": "2619f459",
   "metadata": {},
   "outputs": [],
   "source": [
    "# Monthly trends\n",
    "monthly_trends = fact_flight_silver_df \\\n",
    "    .join(dim_date_silver_df, \"date_sk\") \\\n",
    "    .join(dim_airline_silver_df, \"airline_sk\") \\\n",
    "    .groupBy(\"year\", \"month\", \"airline\") \\\n",
    "    .agg(\n",
    "        F.count(\"*\").alias(\"total_flights\"),\n",
    "        F.avg(\"departure_delay\").alias(\"avg_departure_delay\"),\n",
    "        F.sum(F.when(F.col(\"cancelled\") == 1, 1).otherwise(0)).alias(\"cancelled_flights\"),\n",
    "        F.sum(\"elapsed_time\").alias(\"total_flight_time\"),\n",
    "        F.avg(\"elapsed_time\").alias(\"avg_flight_time\")\n",
    "    )"
   ]
  },
  {
   "cell_type": "code",
   "execution_count": null,
   "id": "a69d9afb",
   "metadata": {},
   "outputs": [],
   "source": [
    "monthly_trends.show(5)"
   ]
  },
  {
   "cell_type": "code",
   "execution_count": null,
   "id": "18fc61cf",
   "metadata": {},
   "outputs": [],
   "source": [
    "# =============================================================================\n",
    "# SAVE TO GOLD LAYER TABLES\n",
    "# =============================================================================\n",
    "\n",
    "# Write results to Delta tables in Gold layer\n",
    "daily_summary.write.mode(\"overwrite\").saveAsTable(\"unikargo_dev.03_gold.daily_flight_summary\")"
   ]
  }
 ],
 "metadata": {
  "kernelspec": {
   "display_name": ".venv_dbc (3.11.3)",
   "language": "python",
   "name": "python3"
  },
  "language_info": {
   "codemirror_mode": {
    "name": "ipython",
    "version": 3
   },
   "file_extension": ".py",
   "mimetype": "text/x-python",
   "name": "python",
   "nbconvert_exporter": "python",
   "pygments_lexer": "ipython3",
   "version": "3.11.3"
  }
 },
 "nbformat": 4,
 "nbformat_minor": 5
}
