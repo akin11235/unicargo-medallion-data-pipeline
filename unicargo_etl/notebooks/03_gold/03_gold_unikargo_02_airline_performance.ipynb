{
 "cells": [
  {
   "cell_type": "code",
   "execution_count": 2,
   "id": "e2a6dc17",
   "metadata": {},
   "outputs": [],
   "source": [
    "from pyspark.sql import functions as F\n",
    "from pyspark.sql.types import *\n",
    "from pyspark.sql.window import Window\n"
   ]
  },
  {
   "cell_type": "code",
   "execution_count": 3,
   "id": "98b2ff71",
   "metadata": {},
   "outputs": [],
   "source": [
    "# =============================================================================\n",
    "# DAILY ANALYTICS\n",
    "# ============================================================================="
   ]
  },
  {
   "cell_type": "code",
   "execution_count": 4,
   "id": "06861234",
   "metadata": {},
   "outputs": [
    {
     "name": "stdout",
     "output_type": "stream",
     "text": [
      "Reading fact_flights bronze data...\n",
      "Silver fact_flights count: 5,328,614\n"
     ]
    }
   ],
   "source": [
    "print(\"Reading fact_flights bronze data...\")\n",
    "\n",
    "fact_flight_silver_df = spark.read.table(\"unikargo_dev.02_silver.unikargo_fact_flight_silver\")\n",
    "\n",
    "print(f\"Silver fact_flights count: {fact_flight_silver_df.count():,}\")"
   ]
  },
  {
   "cell_type": "code",
   "execution_count": 5,
   "id": "bebcfbd1",
   "metadata": {},
   "outputs": [
    {
     "name": "stdout",
     "output_type": "stream",
     "text": [
      "Reading silver dimension tables...\n",
      "Dimensions loaded - Airlines: 14, Airports: 322, Dates: 5844\n"
     ]
    }
   ],
   "source": [
    "print(\"Reading silver dimension tables...\")\n",
    "\n",
    "dim_date_silver_df = spark.read.table(\"unikargo_dev.02_silver.unikargo_dim_date_silver\")\n",
    "dim_airline_silver_df = spark.read.table(\"unikargo_dev.02_silver.unikargo_dim_airline_silver\")\n",
    "dim_airport_silver_df = spark.read.table(\"unikargo_dev.02_silver.unikargo_dim_airport_silver\")\n",
    "\n",
    "print(f\"Dimensions loaded - Airlines: {dim_airline_silver_df.count()}, \"\n",
    "      f\"Airports: {dim_airport_silver_df.count()}, \"\n",
    "      f\"Dates: {dim_date_silver_df.count()}\")"
   ]
  },
  {
   "cell_type": "code",
   "execution_count": 6,
   "id": "93a54aca",
   "metadata": {},
   "outputs": [],
   "source": [
    "# Airline performance ranking\n",
    "airline_performance = fact_flight_silver_df \\\n",
    "    .join(dim_airline_silver_df, \"airline_sk\") \\\n",
    "    .groupBy(\"airline\", \"iata_code\") \\\n",
    "    .agg(\n",
    "        F.count(\"*\").alias(\"total_flights\"),\n",
    "        F.avg(\"departure_delay\").alias(\"avg_departure_delay\"),\n",
    "        F.avg(\"arrival_delay\").alias(\"avg_arrival_delay\"),\n",
    "        (F.sum(F.when(F.col(\"cancelled\") == 1, 1).otherwise(0)) / F.count(\"*\") * 100).alias(\"cancellation_rate\"),\n",
    "        (F.sum(F.when(F.col(\"departure_delay\") > 15, 1).otherwise(0)) / F.count(\"*\") * 100).alias(\"delay_rate\"),\n",
    "        F.avg(\"distance\").alias(\"avg_distance\"),\n",
    "        F.sum(\"distance\").alias(\"total_distance\"),\n",
    "        F.avg(\"air_time\").alias(\"avg_air_time\"),\n",
    "        F.avg(\"taxi_out\").alias(\"avg_taxi_out_time\"),\n",
    "        F.avg(\"taxi_in\").alias(\"avg_taxi_in_time\")\n",
    "    ) \\\n",
    "    .orderBy(F.col(\"delay_rate\").asc())"
   ]
  },
  {
   "cell_type": "code",
   "execution_count": 7,
   "id": "0ee73a26",
   "metadata": {},
   "outputs": [
    {
     "name": "stdout",
     "output_type": "stream",
     "text": [
      "+--------------------+---------+-------------+-------------------+-------------------+-------------------+------------------+------------------+--------------+------------------+------------------+------------------+\n",
      "|             airline|iata_code|total_flights|avg_departure_delay|  avg_arrival_delay|  cancellation_rate|        delay_rate|      avg_distance|total_distance|      avg_air_time| avg_taxi_out_time|  avg_taxi_in_time|\n",
      "+--------------------+---------+-------------+-------------------+-------------------+-------------------+------------------+------------------+--------------+------------------+------------------+------------------+\n",
      "|Hawaiian Airlines...|       HA|        70018| 0.5145326788499792|  2.161955789865765| 0.2270844639949727| 6.962495358336428| 632.7308692050616|    4.430255E7| 84.93013194275318|10.964430385182428|6.8563943250633494|\n",
      "|Alaska Airlines Inc.|       AS|       157981| 1.9567405129638689|-0.7932488913808043| 0.4025800570954735|10.568359486267335|1197.2195010792436|  1.89137934E8|157.85804577195574|15.081774914056592| 6.362397022806069|\n",
      "|Delta Air Lines Inc.|       DL|       799791|   7.76028227503225| 0.6795613150476594|0.47549922417231505|13.971900158916517| 854.5431143886341|  6.83455892E8|115.83288953685273|17.693000076630952| 7.210555809640601|\n",
      "|     US Airways Inc.|       US|       198572| 6.1435659583647935|  3.707350751459382| 2.0435912414640534|14.119311886872268|  911.927215317366|  1.81083211E8|125.82331301619361|19.009704944998457| 7.632325715343632|\n",
      "|Skywest Airlines ...|       OO|       539543|  8.181272726244536|  6.221461748995885| 1.8013392815771867|16.346055828729128| 496.3053695442254|  2.67778088E8| 75.66275367859996|18.139271882846295| 6.936971091365189|\n",
      "+--------------------+---------+-------------+-------------------+-------------------+-------------------+------------------+------------------+--------------+------------------+------------------+------------------+\n",
      "only showing top 5 rows\n"
     ]
    }
   ],
   "source": [
    "airline_performance.show(5)"
   ]
  },
  {
   "cell_type": "code",
   "execution_count": 12,
   "id": "e3343eb4",
   "metadata": {},
   "outputs": [
    {
     "name": "stdout",
     "output_type": "stream",
     "text": [
      "Fact schema:\n",
      "root\n",
      " |-- flight_sk: long (nullable = true)\n",
      " |-- date_sk: long (nullable = true)\n",
      " |-- airline_sk: integer (nullable = true)\n",
      " |-- origin_airport_sk: integer (nullable = true)\n",
      " |-- destination_airport_sk: integer (nullable = true)\n",
      " |-- flight_number: integer (nullable = true)\n",
      " |-- tail_number: string (nullable = true)\n",
      " |-- day_of_week: long (nullable = true)\n",
      " |-- day_name: string (nullable = true)\n",
      " |-- scheduled_departure: integer (nullable = true)\n",
      " |-- departure_time: integer (nullable = true)\n",
      " |-- departure_delay: double (nullable = true)\n",
      " |-- taxi_out: double (nullable = true)\n",
      " |-- wheels_off: integer (nullable = true)\n",
      " |-- scheduled_time: double (nullable = true)\n",
      " |-- elapsed_time: double (nullable = true)\n",
      " |-- air_time: double (nullable = true)\n",
      " |-- distance: double (nullable = true)\n",
      " |-- wheels_on: integer (nullable = true)\n",
      " |-- taxi_in: double (nullable = true)\n",
      " |-- scheduled_arrival: integer (nullable = true)\n",
      " |-- arrival_time: integer (nullable = true)\n",
      " |-- arrival_delay: double (nullable = true)\n",
      " |-- diverted: integer (nullable = true)\n",
      " |-- cancelled: integer (nullable = true)\n",
      "\n",
      "Date dim schema:\n",
      "root\n",
      " |-- date_sk: long (nullable = true)\n",
      " |-- day: long (nullable = true)\n",
      " |-- day_name: string (nullable = true)\n",
      " |-- day_of_week: long (nullable = true)\n",
      " |-- full_date: date (nullable = true)\n",
      " |-- is_weekend: long (nullable = true)\n",
      " |-- month: long (nullable = true)\n",
      " |-- month_name: string (nullable = true)\n",
      " |-- quarter: long (nullable = true)\n",
      " |-- year: long (nullable = true)\n",
      "\n",
      "Airline dim schema:\n",
      "root\n",
      " |-- airline_sk: integer (nullable = true)\n",
      " |-- iata_code: string (nullable = true)\n",
      " |-- airline: string (nullable = true)\n",
      "\n"
     ]
    }
   ],
   "source": [
    "print(\"Fact schema:\")\n",
    "fact_flight_silver_df.printSchema()\n",
    "\n",
    "print(\"Date dim schema:\")\n",
    "dim_date_silver_df.printSchema()\n",
    "\n",
    "print(\"Airline dim schema:\")\n",
    "dim_airline_silver_df.printSchema()\n"
   ]
  },
  {
   "cell_type": "code",
   "execution_count": 17,
   "id": "81e5c7dc",
   "metadata": {},
   "outputs": [],
   "source": [
    "# Airline punctuality by day of week\n",
    "airline_dow_performance = fact_flight_silver_df \\\n",
    "    .join(dim_date_silver_df.alias(\"dd\"), \"date_sk\") \\\n",
    "    .join(dim_airline_silver_df.alias(\"da\"), \"airline_sk\") \\\n",
    "    .groupBy(\"da.airline\", \"dd.day_of_week\", \"dd.day_name\") \\\n",
    "    .agg(\n",
    "        F.count(\"*\").alias(\"flights\"),\n",
    "        F.avg(\"departure_delay\").alias(\"avg_delay\"),\n",
    "        (F.sum(F.when(F.col(\"departure_delay\") <= 15, 1).otherwise(0)) / F.count(\"*\") * 100).alias(\"on_time_rate\")\n",
    "    ) \\\n",
    "    .orderBy(\"da.airline\", \"dd.day_of_week\")"
   ]
  },
  {
   "cell_type": "code",
   "execution_count": 18,
   "id": "ac34f620",
   "metadata": {},
   "outputs": [
    {
     "name": "stdout",
     "output_type": "stream",
     "text": [
      "+--------------------+-----------+---------+-------+------------------+-----------------+\n",
      "|             airline|day_of_week| day_name|flights|         avg_delay|     on_time_rate|\n",
      "+--------------------+-----------+---------+-------+------------------+-----------------+\n",
      "|Alaska Airlines Inc.|          1|   Monday|  23155| 2.687475597587957|88.16670265601381|\n",
      "|Alaska Airlines Inc.|          2|  Tuesday|  22335| 0.963160968596972|90.60219386612938|\n",
      "|Alaska Airlines Inc.|          3|Wednesday|  22524| 0.655126379494482|90.72988811933938|\n",
      "|Alaska Airlines Inc.|          4| Thursday|  23072|2.2582680591818973|88.74826629680999|\n",
      "|Alaska Airlines Inc.|          5|   Friday|  22738| 3.058589783213387|87.63743513061834|\n",
      "+--------------------+-----------+---------+-------+------------------+-----------------+\n",
      "only showing top 5 rows\n"
     ]
    }
   ],
   "source": [
    "airline_dow_performance.show(5)"
   ]
  },
  {
   "cell_type": "code",
   "execution_count": 19,
   "id": "943b4567",
   "metadata": {},
   "outputs": [],
   "source": [
    "# =============================================================================\n",
    "# SAVE TO GOLD LAYER TABLES\n",
    "# =============================================================================\n",
    "\n",
    "# Write results to Delta tables in Gold layer\n",
    "airline_performance.write.mode(\"overwrite\").saveAsTable(\"unikargo_dev.03_gold.airline_performance\")"
   ]
  }
 ],
 "metadata": {
  "kernelspec": {
   "display_name": ".venv_dbc (3.11.3)",
   "language": "python",
   "name": "python3"
  },
  "language_info": {
   "codemirror_mode": {
    "name": "ipython",
    "version": 3
   },
   "file_extension": ".py",
   "mimetype": "text/x-python",
   "name": "python",
   "nbconvert_exporter": "python",
   "pygments_lexer": "ipython3",
   "version": "3.11.3"
  }
 },
 "nbformat": 4,
 "nbformat_minor": 5
}
