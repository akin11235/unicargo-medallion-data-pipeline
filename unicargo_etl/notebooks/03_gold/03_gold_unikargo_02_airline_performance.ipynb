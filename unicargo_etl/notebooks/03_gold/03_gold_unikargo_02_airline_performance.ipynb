{
 "cells": [
  {
   "cell_type": "code",
   "execution_count": null,
   "id": "e2a6dc17",
   "metadata": {},
   "outputs": [],
   "source": [
    "from pyspark.sql import functions as F\n",
    "from pyspark.sql.types import *\n",
    "from pyspark.sql.window import Window\n"
   ]
  },
  {
   "cell_type": "code",
   "execution_count": null,
   "id": "98b2ff71",
   "metadata": {},
   "outputs": [],
   "source": [
    "# =============================================================================\n",
    "# DAILY ANALYTICS\n",
    "# ============================================================================="
   ]
  },
  {
   "cell_type": "code",
   "execution_count": null,
   "id": "06861234",
   "metadata": {},
   "outputs": [],
   "source": [
    "print(\"Reading fact_flights bronze data...\")\n",
    "\n",
    "fact_flight_silver_df = spark.read.table(\"unikargo_dev.02_silver.unikargo_fact_flight_silver\")\n",
    "\n",
    "print(f\"Silver fact_flights count: {fact_flight_silver_df.count():,}\")"
   ]
  },
  {
   "cell_type": "code",
   "execution_count": null,
   "id": "bebcfbd1",
   "metadata": {},
   "outputs": [],
   "source": [
    "print(\"Reading silver dimension tables...\")\n",
    "\n",
    "dim_date_silver_df = spark.read.table(\"unikargo_dev.02_silver.unikargo_dim_date_silver\")\n",
    "dim_airline_silver_df = spark.read.table(\"unikargo_dev.02_silver.unikargo_dim_airline_silver\")\n",
    "dim_airport_silver_df = spark.read.table(\"unikargo_dev.02_silver.unikargo_dim_airport_silver\")\n",
    "\n",
    "print(f\"Dimensions loaded - Airlines: {dim_airline_silver_df.count()}, \"\n",
    "      f\"Airports: {dim_airport_silver_df.count()}, \"\n",
    "      f\"Dates: {dim_date_silver_df.count()}\")"
   ]
  },
  {
   "cell_type": "code",
   "execution_count": null,
   "id": "93a54aca",
   "metadata": {},
   "outputs": [],
   "source": [
    "# Airline performance ranking\n",
    "airline_performance = fact_flight_silver_df \\\n",
    "    .join(dim_airline_silver_df, \"airline_sk\") \\\n",
    "    .groupBy(\"airline\", \"iata_code\") \\\n",
    "    .agg(\n",
    "        F.count(\"*\").alias(\"total_flights\"),\n",
    "        F.avg(\"departure_delay\").alias(\"avg_departure_delay\"),\n",
    "        F.avg(\"arrival_delay\").alias(\"avg_arrival_delay\"),\n",
    "        (F.sum(F.when(F.col(\"cancelled\") == 1, 1).otherwise(0)) / F.count(\"*\") * 100).alias(\"cancellation_rate\"),\n",
    "        (F.sum(F.when(F.col(\"departure_delay\") > 15, 1).otherwise(0)) / F.count(\"*\") * 100).alias(\"delay_rate\"),\n",
    "        F.avg(\"distance\").alias(\"avg_distance\"),\n",
    "        F.sum(\"distance\").alias(\"total_distance\"),\n",
    "        F.avg(\"air_time\").alias(\"avg_air_time\"),\n",
    "        F.avg(\"taxi_out\").alias(\"avg_taxi_out_time\"),\n",
    "        F.avg(\"taxi_in\").alias(\"avg_taxi_in_time\")\n",
    "    ) \\\n",
    "    .orderBy(F.col(\"delay_rate\").asc())"
   ]
  },
  {
   "cell_type": "code",
   "execution_count": null,
   "id": "0ee73a26",
   "metadata": {},
   "outputs": [],
   "source": [
    "airline_performance.show(5)"
   ]
  },
  {
   "cell_type": "code",
   "execution_count": null,
   "id": "e3343eb4",
   "metadata": {},
   "outputs": [],
   "source": [
    "print(\"Fact schema:\")\n",
    "fact_flight_silver_df.printSchema()\n",
    "\n",
    "print(\"Date dim schema:\")\n",
    "dim_date_silver_df.printSchema()\n",
    "\n",
    "print(\"Airline dim schema:\")\n",
    "dim_airline_silver_df.printSchema()\n"
   ]
  },
  {
   "cell_type": "code",
   "execution_count": null,
   "id": "81e5c7dc",
   "metadata": {},
   "outputs": [],
   "source": [
    "# Airline punctuality by day of week\n",
    "airline_dow_performance = fact_flight_silver_df \\\n",
    "    .join(dim_date_silver_df.alias(\"dd\"), \"date_sk\") \\\n",
    "    .join(dim_airline_silver_df.alias(\"da\"), \"airline_sk\") \\\n",
    "    .groupBy(\"da.airline\", \"dd.day_of_week\", \"dd.day_name\") \\\n",
    "    .agg(\n",
    "        F.count(\"*\").alias(\"flights\"),\n",
    "        F.avg(\"departure_delay\").alias(\"avg_delay\"),\n",
    "        (F.sum(F.when(F.col(\"departure_delay\") <= 15, 1).otherwise(0)) / F.count(\"*\") * 100).alias(\"on_time_rate\")\n",
    "    ) \\\n",
    "    .orderBy(\"da.airline\", \"dd.day_of_week\")"
   ]
  },
  {
   "cell_type": "code",
   "execution_count": null,
   "id": "ac34f620",
   "metadata": {},
   "outputs": [],
   "source": [
    "airline_dow_performance.show(5)"
   ]
  },
  {
   "cell_type": "code",
   "execution_count": null,
   "id": "943b4567",
   "metadata": {},
   "outputs": [],
   "source": [
    "# =============================================================================\n",
    "# SAVE TO GOLD LAYER TABLES\n",
    "# =============================================================================\n",
    "\n",
    "# Write results to Delta tables in Gold layer\n",
    "airline_performance.write.mode(\"overwrite\").saveAsTable(\"unikargo_dev.03_gold.airline_performance\")"
   ]
  }
 ],
 "metadata": {
  "kernelspec": {
   "display_name": ".venv_dbc (3.11.3)",
   "language": "python",
   "name": "python3"
  },
  "language_info": {
   "codemirror_mode": {
    "name": "ipython",
    "version": 3
   },
   "file_extension": ".py",
   "mimetype": "text/x-python",
   "name": "python",
   "nbconvert_exporter": "python",
   "pygments_lexer": "ipython3",
   "version": "3.11.3"
  }
 },
 "nbformat": 4,
 "nbformat_minor": 5
}
