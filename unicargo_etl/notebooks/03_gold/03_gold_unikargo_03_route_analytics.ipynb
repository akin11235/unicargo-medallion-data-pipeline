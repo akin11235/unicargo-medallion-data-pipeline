{
 "cells": [
  {
   "cell_type": "code",
   "execution_count": null,
   "id": "e2a6dc17",
   "metadata": {},
   "outputs": [],
   "source": [
    "from pyspark.sql import functions as F\n",
    "from pyspark.sql.types import *\n",
    "from pyspark.sql.window import Window\n"
   ]
  },
  {
   "cell_type": "code",
   "execution_count": null,
   "id": "98b2ff71",
   "metadata": {},
   "outputs": [],
   "source": [
    "# =============================================================================\n",
    "# ROUTE ANALYTICS\n",
    "# ============================================================================="
   ]
  },
  {
   "cell_type": "code",
   "execution_count": null,
   "id": "06861234",
   "metadata": {},
   "outputs": [],
   "source": [
    "print(\"Reading fact_flights bronze data...\")\n",
    "\n",
    "fact_flight_silver_df = spark.read.table(\"unikargo_dev.02_silver.unikargo_fact_flight_silver\")\n",
    "\n",
    "print(f\"Silver fact_flights count: {fact_flight_silver_df.count():,}\")"
   ]
  },
  {
   "cell_type": "code",
   "execution_count": null,
   "id": "bebcfbd1",
   "metadata": {},
   "outputs": [],
   "source": [
    "print(\"Reading silver dimension tables...\")\n",
    "\n",
    "dim_date_silver_df = spark.read.table(\"unikargo_dev.02_silver.unikargo_dim_date_silver\")\n",
    "dim_airline_silver_df = spark.read.table(\"unikargo_dev.02_silver.unikargo_dim_airline_silver\")\n",
    "dim_airport_silver_df = spark.read.table(\"unikargo_dev.02_silver.unikargo_dim_airport_silver\")\n",
    "\n",
    "print(f\"Dimensions loaded - Airlines: {dim_airline_silver_df.count()}, \"\n",
    "      f\"Airports: {dim_airport_silver_df.count()}, \"\n",
    "      f\"Dates: {dim_date_silver_df.count()}\")"
   ]
  },
  {
   "cell_type": "code",
   "execution_count": null,
   "id": "93a54aca",
   "metadata": {},
   "outputs": [],
   "source": [
    "# Route performance analysis (assuming you have airport dimension tables)\n",
    "route_analysis = fact_flight_silver_df \\\n",
    "    .join(dim_airline_silver_df, \"airline_sk\") \\\n",
    "    .groupBy(\"origin_airport_sk\", \"destination_airport_sk\", \"airline\") \\\n",
    "    .agg(\n",
    "        F.count(\"*\").alias(\"total_flights\"),\n",
    "        F.avg(\"departure_delay\").alias(\"avg_departure_delay\"),\n",
    "        F.avg(\"arrival_delay\").alias(\"avg_arrival_delay\"),\n",
    "        F.avg(\"elapsed_time\").alias(\"avg_flight_time\"),\n",
    "        F.avg(\"air_time\").alias(\"avg_air_time\"),\n",
    "        F.avg(\"distance\").alias(\"avg_distance\"),\n",
    "        F.sum(F.when(F.col(\"cancelled\") == 1, 1).otherwise(0)).alias(\"cancelled_flights\"),\n",
    "        F.countDistinct(\"tail_number\").alias(\"aircraft_count\")\n",
    "    ) \\\n",
    "    .filter(F.col(\"total_flights\") >= 100) \\\n",
    "    .orderBy(F.col(\"total_flights\").desc())"
   ]
  },
  {
   "cell_type": "code",
   "execution_count": null,
   "id": "0ee73a26",
   "metadata": {},
   "outputs": [],
   "source": [
    "route_analysis.show(5)"
   ]
  },
  {
   "cell_type": "code",
   "execution_count": null,
   "id": "81e5c7dc",
   "metadata": {},
   "outputs": [],
   "source": [
    "# Busiest routes with airport names\n",
    "busiest_routes = fact_flight_silver_df \\\n",
    "    .groupBy(\"origin_airport_sk\", \"destination_airport_sk\") \\\n",
    "    .agg(\n",
    "        F.count(\"*\").alias(\"total_flights\"),\n",
    "        F.countDistinct(\"airline_sk\").alias(\"airlines_serving\"),\n",
    "        F.avg(\"distance\").alias(\"distance\"),\n",
    "        F.avg(\"departure_delay\").alias(\"avg_delay\"),\n",
    "        F.countDistinct(\"tail_number\").alias(\"unique_aircraft\")\n",
    "    ) \\\n",
    "    .join(dim_airport_silver_df.alias(\"origin_apt\"), \n",
    "          F.col(\"origin_airport_sk\") == F.col(\"origin_apt.airport_sk\")) \\\n",
    "    .join(dim_airport_silver_df.alias(\"dest_apt\"), \n",
    "          F.col(\"destination_airport_sk\") == F.col(\"dest_apt.airport_sk\")) \\\n",
    "    .select(\n",
    "        \"origin_airport_sk\",\n",
    "        \"destination_airport_sk\", \n",
    "        F.col(\"origin_apt.iata_code\").alias(\"origin_code\"),\n",
    "        F.col(\"origin_apt.city\").alias(\"origin_city\"),\n",
    "        F.col(\"origin_apt.state\").alias(\"origin_state\"),\n",
    "        F.col(\"dest_apt.iata_code\").alias(\"dest_code\"),\n",
    "        F.col(\"dest_apt.city\").alias(\"dest_city\"),\n",
    "        F.col(\"dest_apt.state\").alias(\"dest_state\"),\n",
    "        \"total_flights\",\n",
    "        \"airlines_serving\",\n",
    "        \"distance\",\n",
    "        \"avg_delay\",\n",
    "        \"unique_aircraft\"\n",
    "    ) \\\n",
    "    .orderBy(F.col(\"total_flights\").desc()) \\\n",
    "    .limit(50)"
   ]
  },
  {
   "cell_type": "code",
   "execution_count": null,
   "id": "ac34f620",
   "metadata": {},
   "outputs": [],
   "source": [
    "busiest_routes.show(10)"
   ]
  },
  {
   "cell_type": "code",
   "execution_count": null,
   "id": "7ac4e0e1",
   "metadata": {},
   "outputs": [],
   "source": [
    "route_analysis.write.mode(\"overwrite\").saveAsTable(\"unikargo_dev.03_gold.route_analysis\")"
   ]
  },
  {
   "cell_type": "code",
   "execution_count": null,
   "id": "33d59319",
   "metadata": {},
   "outputs": [],
   "source": [
    "busiest_routes.write.mode(\"overwrite\").option(\"overwriteSchema\", \"true\").saveAsTable(\"unikargo_dev.03_gold.busiest_routes\")"
   ]
  }
 ],
 "metadata": {
  "kernelspec": {
   "display_name": ".venv_dbc (3.11.3)",
   "language": "python",
   "name": "python3"
  },
  "language_info": {
   "codemirror_mode": {
    "name": "ipython",
    "version": 3
   },
   "file_extension": ".py",
   "mimetype": "text/x-python",
   "name": "python",
   "nbconvert_exporter": "python",
   "pygments_lexer": "ipython3",
   "version": "3.11.3"
  }
 },
 "nbformat": 4,
 "nbformat_minor": 5
}
