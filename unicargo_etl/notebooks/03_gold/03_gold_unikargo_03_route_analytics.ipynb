{
 "cells": [
  {
   "cell_type": "code",
   "execution_count": 1,
   "id": "e2a6dc17",
   "metadata": {},
   "outputs": [],
   "source": [
    "from pyspark.sql import functions as F\n",
    "from pyspark.sql.types import *\n",
    "from pyspark.sql.window import Window\n"
   ]
  },
  {
   "cell_type": "code",
   "execution_count": 2,
   "id": "98b2ff71",
   "metadata": {},
   "outputs": [],
   "source": [
    "# =============================================================================\n",
    "# ROUTE ANALYTICS\n",
    "# ============================================================================="
   ]
  },
  {
   "cell_type": "code",
   "execution_count": 3,
   "id": "06861234",
   "metadata": {},
   "outputs": [
    {
     "name": "stdout",
     "output_type": "stream",
     "text": [
      "Reading fact_flights bronze data...\n"
     ]
    },
    {
     "name": "stdout",
     "output_type": "stream",
     "text": [
      "Silver fact_flights count: 5,328,614\n"
     ]
    }
   ],
   "source": [
    "print(\"Reading fact_flights bronze data...\")\n",
    "\n",
    "fact_flight_silver_df = spark.read.table(\"unikargo_dev.02_silver.unikargo_fact_flight_silver\")\n",
    "\n",
    "print(f\"Silver fact_flights count: {fact_flight_silver_df.count():,}\")"
   ]
  },
  {
   "cell_type": "code",
   "execution_count": 4,
   "id": "bebcfbd1",
   "metadata": {},
   "outputs": [
    {
     "name": "stdout",
     "output_type": "stream",
     "text": [
      "Reading silver dimension tables...\n",
      "Dimensions loaded - Airlines: 14, Airports: 322, Dates: 5844\n"
     ]
    }
   ],
   "source": [
    "print(\"Reading silver dimension tables...\")\n",
    "\n",
    "dim_date_silver_df = spark.read.table(\"unikargo_dev.02_silver.unikargo_dim_date_silver\")\n",
    "dim_airline_silver_df = spark.read.table(\"unikargo_dev.02_silver.unikargo_dim_airline_silver\")\n",
    "dim_airport_silver_df = spark.read.table(\"unikargo_dev.02_silver.unikargo_dim_airport_silver\")\n",
    "\n",
    "print(f\"Dimensions loaded - Airlines: {dim_airline_silver_df.count()}, \"\n",
    "      f\"Airports: {dim_airport_silver_df.count()}, \"\n",
    "      f\"Dates: {dim_date_silver_df.count()}\")"
   ]
  },
  {
   "cell_type": "code",
   "execution_count": 5,
   "id": "93a54aca",
   "metadata": {},
   "outputs": [],
   "source": [
    "# Route performance analysis (assuming you have airport dimension tables)\n",
    "route_analysis = fact_flight_silver_df \\\n",
    "    .join(dim_airline_silver_df, \"airline_sk\") \\\n",
    "    .groupBy(\"origin_airport_sk\", \"destination_airport_sk\", \"airline\") \\\n",
    "    .agg(\n",
    "        F.count(\"*\").alias(\"total_flights\"),\n",
    "        F.avg(\"departure_delay\").alias(\"avg_departure_delay\"),\n",
    "        F.avg(\"arrival_delay\").alias(\"avg_arrival_delay\"),\n",
    "        F.avg(\"elapsed_time\").alias(\"avg_flight_time\"),\n",
    "        F.avg(\"air_time\").alias(\"avg_air_time\"),\n",
    "        F.avg(\"distance\").alias(\"avg_distance\"),\n",
    "        F.sum(F.when(F.col(\"cancelled\") == 1, 1).otherwise(0)).alias(\"cancelled_flights\"),\n",
    "        F.countDistinct(\"tail_number\").alias(\"aircraft_count\")\n",
    "    ) \\\n",
    "    .filter(F.col(\"total_flights\") >= 100) \\\n",
    "    .orderBy(F.col(\"total_flights\").desc())"
   ]
  },
  {
   "cell_type": "code",
   "execution_count": 6,
   "id": "0ee73a26",
   "metadata": {},
   "outputs": [
    {
     "name": "stdout",
     "output_type": "stream",
     "text": [
      "+-----------------+----------------------+--------------------+-------------+--------------------+------------------+------------------+------------------+------------+-----------------+--------------+\n",
      "|origin_airport_sk|destination_airport_sk|             airline|total_flights| avg_departure_delay| avg_arrival_delay|   avg_flight_time|      avg_air_time|avg_distance|cancelled_flights|aircraft_count|\n",
      "+-----------------+----------------------+--------------------+-------------+--------------------+------------------+------------------+------------------+------------+-----------------+--------------+\n",
      "|              224|                   142|Hawaiian Airlines...|         8313|  1.1248791102514506|3.5942186744073537| 38.04390420899855|23.325955491049832|       100.0|               44|            28|\n",
      "|              142|                   224|Hawaiian Airlines...|         8282| -0.6181245456748243|1.6138733931603202| 40.46665049721077|21.652801358234296|       100.0|               28|            27|\n",
      "|              142|                   171|Hawaiian Airlines...|         6390| -1.1121378230227095|0.6559021790249255|46.082771594293774|  28.3364163662016|       163.0|                7|            18|\n",
      "|              171|                   142|Hawaiian Airlines...|         6347|-0.43247512241352076|1.9582806573957017| 46.19642857142857| 29.87025916561315|       163.0|               18|            18|\n",
      "|              144|                    82|Southwest Airline...|         6296|  11.112919132149901| 9.773933102652826|58.022408963585434| 42.57241720217499|       239.0|              217|           646|\n",
      "+-----------------+----------------------+--------------------+-------------+--------------------+------------------+------------------+------------------+------------+-----------------+--------------+\n",
      "only showing top 5 rows\n"
     ]
    }
   ],
   "source": [
    "route_analysis.show(5)"
   ]
  },
  {
   "cell_type": "code",
   "execution_count": 14,
   "id": "81e5c7dc",
   "metadata": {},
   "outputs": [],
   "source": [
    "# Busiest routes with airport names\n",
    "busiest_routes = fact_flight_silver_df \\\n",
    "    .groupBy(\"origin_airport_sk\", \"destination_airport_sk\") \\\n",
    "    .agg(\n",
    "        F.count(\"*\").alias(\"total_flights\"),\n",
    "        F.countDistinct(\"airline_sk\").alias(\"airlines_serving\"),\n",
    "        F.avg(\"distance\").alias(\"distance\"),\n",
    "        F.avg(\"departure_delay\").alias(\"avg_delay\"),\n",
    "        F.countDistinct(\"tail_number\").alias(\"unique_aircraft\")\n",
    "    ) \\\n",
    "    .join(dim_airport_silver_df.alias(\"origin_apt\"), \n",
    "          F.col(\"origin_airport_sk\") == F.col(\"origin_apt.airport_sk\")) \\\n",
    "    .join(dim_airport_silver_df.alias(\"dest_apt\"), \n",
    "          F.col(\"destination_airport_sk\") == F.col(\"dest_apt.airport_sk\")) \\\n",
    "    .select(\n",
    "        \"origin_airport_sk\",\n",
    "        \"destination_airport_sk\", \n",
    "        F.col(\"origin_apt.iata_code\").alias(\"origin_code\"),\n",
    "        F.col(\"origin_apt.city\").alias(\"origin_city\"),\n",
    "        F.col(\"origin_apt.state\").alias(\"origin_state\"),\n",
    "        F.col(\"dest_apt.iata_code\").alias(\"dest_code\"),\n",
    "        F.col(\"dest_apt.city\").alias(\"dest_city\"),\n",
    "        F.col(\"dest_apt.state\").alias(\"dest_state\"),\n",
    "        \"total_flights\",\n",
    "        \"airlines_serving\",\n",
    "        \"distance\",\n",
    "        \"avg_delay\",\n",
    "        \"unique_aircraft\"\n",
    "    ) \\\n",
    "    .orderBy(F.col(\"total_flights\").desc()) \\\n",
    "    .limit(50)"
   ]
  },
  {
   "cell_type": "code",
   "execution_count": null,
   "id": "ac34f620",
   "metadata": {},
   "outputs": [
    {
     "name": "stdout",
     "output_type": "stream",
     "text": [
      "+-----------------+----------------------+-----------+-------------+------------+---------+-------------+----------+-------------+----------------+--------+------------------+---------------+\n",
      "|origin_airport_sk|destination_airport_sk|origin_code|  origin_city|origin_state|dest_code|    dest_city|dest_state|total_flights|airlines_serving|distance|         avg_delay|unique_aircraft|\n",
      "+-----------------+----------------------+-----------+-------------+------------+---------+-------------+----------+-------------+----------------+--------+------------------+---------------+\n",
      "|              279|                   177|        SFO|San Francisco|          CA|      LAX|  Los Angeles|        CA|        13678|               6|   337.0|12.633720494567253|           1319|\n",
      "|              177|                   279|        LAX|  Los Angeles|          CA|      SFO|San Francisco|        CA|        13455|               6|   337.0|14.064186613813082|           1332|\n",
      "|              177|                   167|        LAX|  Los Angeles|          CA|      JFK|     New York|        NY|        11838|               5|  2475.0|10.589311671654553|            183|\n",
      "|              167|                   177|        JFK|     New York|          NY|      LAX|  Los Angeles|        CA|        11720|               5|  2475.0| 7.983255653374763|            182|\n",
      "|              175|                   177|        LAS|    Las Vegas|          NV|      LAX|  Los Angeles|        CA|         9695|               7|   236.0|11.342290931728574|           1880|\n",
      "+-----------------+----------------------+-----------+-------------+------------+---------+-------------+----------+-------------+----------------+--------+------------------+---------------+\n",
      "only showing top 5 rows\n"
     ]
    }
   ],
   "source": [
    "busiest_routes.show(10)"
   ]
  },
  {
   "cell_type": "code",
   "execution_count": 16,
   "id": "7ac4e0e1",
   "metadata": {},
   "outputs": [],
   "source": [
    "route_analysis.write.mode(\"overwrite\").saveAsTable(\"unikargo_dev.03_gold.route_analysis\")"
   ]
  },
  {
   "cell_type": "code",
   "execution_count": 18,
   "id": "33d59319",
   "metadata": {},
   "outputs": [],
   "source": [
    "busiest_routes.write.mode(\"overwrite\").option(\"overwriteSchema\", \"true\").saveAsTable(\"unikargo_dev.03_gold.busiest_routes\")"
   ]
  }
 ],
 "metadata": {
  "kernelspec": {
   "display_name": ".venv_dbc (3.11.3)",
   "language": "python",
   "name": "python3"
  },
  "language_info": {
   "codemirror_mode": {
    "name": "ipython",
    "version": 3
   },
   "file_extension": ".py",
   "mimetype": "text/x-python",
   "name": "python",
   "nbconvert_exporter": "python",
   "pygments_lexer": "ipython3",
   "version": "3.11.3"
  }
 },
 "nbformat": 4,
 "nbformat_minor": 5
}
