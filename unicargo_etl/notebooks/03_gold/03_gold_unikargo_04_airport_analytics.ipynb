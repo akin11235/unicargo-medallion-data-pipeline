{
 "cells": [
  {
   "cell_type": "code",
   "execution_count": null,
   "id": "e2a6dc17",
   "metadata": {},
   "outputs": [],
   "source": [
    "from pyspark.sql import functions as F\n",
    "from pyspark.sql.types import *\n",
    "from pyspark.sql.window import Window\n"
   ]
  },
  {
   "cell_type": "code",
   "execution_count": null,
   "id": "98b2ff71",
   "metadata": {},
   "outputs": [],
   "source": [
    "# =============================================================================\n",
    "# AIRPORT ANALYTICS\n",
    "# ============================================================================="
   ]
  },
  {
   "cell_type": "code",
   "execution_count": null,
   "id": "06861234",
   "metadata": {},
   "outputs": [],
   "source": [
    "print(\"Reading fact_flights bronze data...\")\n",
    "\n",
    "fact_flight_silver_df = spark.read.table(\"unikargo_dev.02_silver.unikargo_fact_flight_silver\")\n",
    "\n",
    "print(f\"Silver fact_flights count: {fact_flight_silver_df.count():,}\")"
   ]
  },
  {
   "cell_type": "code",
   "execution_count": null,
   "id": "bebcfbd1",
   "metadata": {},
   "outputs": [],
   "source": [
    "print(\"Reading silver dimension tables...\")\n",
    "\n",
    "dim_date_silver_df = spark.read.table(\"unikargo_dev.02_silver.unikargo_dim_date_silver\")\n",
    "dim_airline_silver_df = spark.read.table(\"unikargo_dev.02_silver.unikargo_dim_airline_silver\")\n",
    "dim_airport_silver_df = spark.read.table(\"unikargo_dev.02_silver.unikargo_dim_airport_silver\")\n",
    "\n",
    "print(f\"Dimensions loaded - Airlines: {dim_airline_silver_df.count()}, \"\n",
    "      f\"Airports: {dim_airport_silver_df.count()}, \"\n",
    "      f\"Dates: {dim_date_silver_df.count()}\")"
   ]
  },
  {
   "cell_type": "code",
   "execution_count": null,
   "id": "93a54aca",
   "metadata": {},
   "outputs": [],
   "source": [
    "# Airport performance as origin\n",
    "origin_airport_stats = fact_flight_silver_df \\\n",
    "    .groupBy(\"origin_airport_sk\") \\\n",
    "    .agg(\n",
    "        F.count(\"*\").alias(\"departing_flights\"),\n",
    "        F.avg(\"departure_delay\").alias(\"avg_departure_delay\"),\n",
    "        F.sum(F.when(F.col(\"cancelled\") == 1, 1).otherwise(0)).alias(\"cancelled_departures\"),\n",
    "        F.countDistinct(\"airline_sk\").alias(\"airlines_operating\"),\n",
    "        F.countDistinct(\"destination_airport_sk\").alias(\"destinations_served\"),\n",
    "        F.avg(\"taxi_out\").alias(\"avg_taxi_out_time\")\n",
    "    ) \\\n",
    "    .orderBy(F.col(\"departing_flights\").desc())"
   ]
  },
  {
   "cell_type": "code",
   "execution_count": null,
   "id": "0ee73a26",
   "metadata": {},
   "outputs": [],
   "source": [
    "origin_airport_stats.show(5)"
   ]
  },
  {
   "cell_type": "code",
   "execution_count": null,
   "id": "81e5c7dc",
   "metadata": {},
   "outputs": [],
   "source": [
    "# Airport performance as destination\n",
    "dest_airport_stats = fact_flight_silver_df \\\n",
    "    .groupBy(\"destination_airport_sk\") \\\n",
    "    .agg(\n",
    "        F.count(\"*\").alias(\"arriving_flights\"),\n",
    "        F.avg(\"arrival_delay\").alias(\"avg_arrival_delay\"),\n",
    "        F.sum(F.when(F.col(\"diverted\") == 1, 1).otherwise(0)).alias(\"diverted_arrivals\"),\n",
    "        F.countDistinct(\"airline_sk\").alias(\"airlines_serving\"),\n",
    "        F.countDistinct(\"origin_airport_sk\").alias(\"origins_served\"),\n",
    "        F.avg(\"taxi_in\").alias(\"avg_taxi_in_time\")\n",
    "    ) \\\n",
    "    .orderBy(F.col(\"arriving_flights\").desc())"
   ]
  },
  {
   "cell_type": "code",
   "execution_count": null,
   "id": "ac34f620",
   "metadata": {},
   "outputs": [],
   "source": [
    "dest_airport_stats.show(5)"
   ]
  },
  {
   "cell_type": "code",
   "execution_count": null,
   "id": "c32851d8",
   "metadata": {},
   "outputs": [],
   "source": [
    "origin_airport_stats.write.mode(\"overwrite\").option(\"overwriteSchema\", \"true\").saveAsTable(\"unikargo_dev.03_gold.origin_airport_performance\")\n",
    "dest_airport_stats.write.mode(\"overwrite\").option(\"overwriteSchema\", \"true\").saveAsTable(\"unikargo_dev.03_gold.destination_airport_performance\")\n",
    "\n"
   ]
  }
 ],
 "metadata": {
  "kernelspec": {
   "display_name": ".venv_dbc (3.11.3)",
   "language": "python",
   "name": "python3"
  },
  "language_info": {
   "codemirror_mode": {
    "name": "ipython",
    "version": 3
   },
   "file_extension": ".py",
   "mimetype": "text/x-python",
   "name": "python",
   "nbconvert_exporter": "python",
   "pygments_lexer": "ipython3",
   "version": "3.11.3"
  }
 },
 "nbformat": 4,
 "nbformat_minor": 5
}
