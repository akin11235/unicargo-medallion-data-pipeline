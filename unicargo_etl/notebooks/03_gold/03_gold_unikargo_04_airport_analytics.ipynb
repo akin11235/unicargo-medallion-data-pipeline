{
 "cells": [
  {
   "cell_type": "code",
   "execution_count": 1,
   "id": "e2a6dc17",
   "metadata": {},
   "outputs": [],
   "source": [
    "from pyspark.sql import functions as F\n",
    "from pyspark.sql.types import *\n",
    "from pyspark.sql.window import Window\n"
   ]
  },
  {
   "cell_type": "code",
   "execution_count": 2,
   "id": "98b2ff71",
   "metadata": {},
   "outputs": [],
   "source": [
    "# =============================================================================\n",
    "# AIRPORT ANALYTICS\n",
    "# ============================================================================="
   ]
  },
  {
   "cell_type": "code",
   "execution_count": 3,
   "id": "06861234",
   "metadata": {},
   "outputs": [
    {
     "name": "stdout",
     "output_type": "stream",
     "text": [
      "Reading fact_flights bronze data...\n",
      "Silver fact_flights count: 5,328,614\n"
     ]
    }
   ],
   "source": [
    "print(\"Reading fact_flights bronze data...\")\n",
    "\n",
    "fact_flight_silver_df = spark.read.table(\"unikargo_dev.02_silver.unikargo_fact_flight_silver\")\n",
    "\n",
    "print(f\"Silver fact_flights count: {fact_flight_silver_df.count():,}\")"
   ]
  },
  {
   "cell_type": "code",
   "execution_count": 4,
   "id": "bebcfbd1",
   "metadata": {},
   "outputs": [
    {
     "name": "stdout",
     "output_type": "stream",
     "text": [
      "Reading silver dimension tables...\n",
      "Dimensions loaded - Airlines: 14, Airports: 322, Dates: 5844\n"
     ]
    }
   ],
   "source": [
    "print(\"Reading silver dimension tables...\")\n",
    "\n",
    "dim_date_silver_df = spark.read.table(\"unikargo_dev.02_silver.unikargo_dim_date_silver\")\n",
    "dim_airline_silver_df = spark.read.table(\"unikargo_dev.02_silver.unikargo_dim_airline_silver\")\n",
    "dim_airport_silver_df = spark.read.table(\"unikargo_dev.02_silver.unikargo_dim_airport_silver\")\n",
    "\n",
    "print(f\"Dimensions loaded - Airlines: {dim_airline_silver_df.count()}, \"\n",
    "      f\"Airports: {dim_airport_silver_df.count()}, \"\n",
    "      f\"Dates: {dim_date_silver_df.count()}\")"
   ]
  },
  {
   "cell_type": "code",
   "execution_count": 5,
   "id": "93a54aca",
   "metadata": {},
   "outputs": [],
   "source": [
    "# Airport performance as origin\n",
    "origin_airport_stats = fact_flight_silver_df \\\n",
    "    .groupBy(\"origin_airport_sk\") \\\n",
    "    .agg(\n",
    "        F.count(\"*\").alias(\"departing_flights\"),\n",
    "        F.avg(\"departure_delay\").alias(\"avg_departure_delay\"),\n",
    "        F.sum(F.when(F.col(\"cancelled\") == 1, 1).otherwise(0)).alias(\"cancelled_departures\"),\n",
    "        F.countDistinct(\"airline_sk\").alias(\"airlines_operating\"),\n",
    "        F.countDistinct(\"destination_airport_sk\").alias(\"destinations_served\"),\n",
    "        F.avg(\"taxi_out\").alias(\"avg_taxi_out_time\")\n",
    "    ) \\\n",
    "    .orderBy(F.col(\"departing_flights\").desc())"
   ]
  },
  {
   "cell_type": "code",
   "execution_count": 6,
   "id": "0ee73a26",
   "metadata": {},
   "outputs": [
    {
     "name": "stdout",
     "output_type": "stream",
     "text": [
      "+-----------------+-----------------+-------------------+--------------------+------------------+-------------------+------------------+\n",
      "|origin_airport_sk|departing_flights|avg_departure_delay|cancelled_departures|airlines_operating|destinations_served| avg_taxi_out_time|\n",
      "+-----------------+-----------------+-------------------+--------------------+------------------+-------------------+------------------+\n",
      "|               21|           346756|  9.340850871027516|                2555|                11|                169|17.407978712587983|\n",
      "|              229|           285659| 14.146377495685135|                8541|                12|                162|19.544395861292696|\n",
      "|               87|           239473|  11.53237434711876|                6253|                11|                148|17.242819485223205|\n",
      "|               86|           195785| 11.829765387572301|                2121|                11|                139|15.972182935012647|\n",
      "|              177|           194435| 10.661810884438621|                2163|                13|                 80|   16.946994831047|\n",
      "+-----------------+-----------------+-------------------+--------------------+------------------+-------------------+------------------+\n",
      "only showing top 5 rows\n"
     ]
    }
   ],
   "source": [
    "origin_airport_stats.show(5)"
   ]
  },
  {
   "cell_type": "code",
   "execution_count": 7,
   "id": "81e5c7dc",
   "metadata": {},
   "outputs": [],
   "source": [
    "# Airport performance as destination\n",
    "dest_airport_stats = fact_flight_silver_df \\\n",
    "    .groupBy(\"destination_airport_sk\") \\\n",
    "    .agg(\n",
    "        F.count(\"*\").alias(\"arriving_flights\"),\n",
    "        F.avg(\"arrival_delay\").alias(\"avg_arrival_delay\"),\n",
    "        F.sum(F.when(F.col(\"diverted\") == 1, 1).otherwise(0)).alias(\"diverted_arrivals\"),\n",
    "        F.countDistinct(\"airline_sk\").alias(\"airlines_serving\"),\n",
    "        F.countDistinct(\"origin_airport_sk\").alias(\"origins_served\"),\n",
    "        F.avg(\"taxi_in\").alias(\"avg_taxi_in_time\")\n",
    "    ) \\\n",
    "    .orderBy(F.col(\"arriving_flights\").desc())"
   ]
  },
  {
   "cell_type": "code",
   "execution_count": 8,
   "id": "ac34f620",
   "metadata": {},
   "outputs": [
    {
     "name": "stdout",
     "output_type": "stream",
     "text": [
      "+----------------------+----------------+------------------+-----------------+----------------+--------------+------------------+\n",
      "|destination_airport_sk|arriving_flights| avg_arrival_delay|diverted_arrivals|airlines_serving|origins_served|  avg_taxi_in_time|\n",
      "+----------------------+----------------+------------------+-----------------+----------------+--------------+------------------+\n",
      "|                    21|          346790|2.2250067791569355|             1112|              11|           169| 8.795473768962239|\n",
      "|                   229|          285206| 7.217953236560507|              768|              12|           162|13.207200284183589|\n",
      "|                    87|          239535| 5.868136563135204|             1069|              11|           149|11.562569561125697|\n",
      "|                    86|          195976| 5.083611398963731|              667|              11|           140| 8.423960539228345|\n",
      "|                   177|          194198| 6.125287638209834|              299|              13|            81|11.721747784267649|\n",
      "+----------------------+----------------+------------------+-----------------+----------------+--------------+------------------+\n",
      "only showing top 5 rows\n"
     ]
    }
   ],
   "source": [
    "dest_airport_stats.show(5)"
   ]
  },
  {
   "cell_type": "code",
   "execution_count": 13,
   "id": "c32851d8",
   "metadata": {},
   "outputs": [],
   "source": [
    "origin_airport_stats.write.mode(\"overwrite\").option(\"overwriteSchema\", \"true\").saveAsTable(\"unikargo_dev.03_gold.origin_airport_performance\")\n",
    "dest_airport_stats.write.mode(\"overwrite\").option(\"overwriteSchema\", \"true\").saveAsTable(\"unikargo_dev.03_gold.destination_airport_performance\")\n",
    "\n"
   ]
  }
 ],
 "metadata": {
  "kernelspec": {
   "display_name": ".venv_dbc (3.11.3)",
   "language": "python",
   "name": "python3"
  },
  "language_info": {
   "codemirror_mode": {
    "name": "ipython",
    "version": 3
   },
   "file_extension": ".py",
   "mimetype": "text/x-python",
   "name": "python",
   "nbconvert_exporter": "python",
   "pygments_lexer": "ipython3",
   "version": "3.11.3"
  }
 },
 "nbformat": 4,
 "nbformat_minor": 5
}
