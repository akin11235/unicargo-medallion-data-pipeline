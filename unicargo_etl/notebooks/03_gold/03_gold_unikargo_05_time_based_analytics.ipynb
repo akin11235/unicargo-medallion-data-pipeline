{
 "cells": [
  {
   "cell_type": "code",
   "execution_count": 1,
   "id": "e2a6dc17",
   "metadata": {},
   "outputs": [],
   "source": [
    "from pyspark.sql import functions as F\n",
    "from pyspark.sql.types import *\n",
    "from pyspark.sql.window import Window\n"
   ]
  },
  {
   "cell_type": "code",
   "execution_count": 2,
   "id": "98b2ff71",
   "metadata": {},
   "outputs": [],
   "source": [
    "# =============================================================================\n",
    "# TIME-BASED ANALYTICS\n",
    "# ============================================================================="
   ]
  },
  {
   "cell_type": "code",
   "execution_count": 3,
   "id": "06861234",
   "metadata": {},
   "outputs": [
    {
     "name": "stdout",
     "output_type": "stream",
     "text": [
      "Reading fact_flights bronze data...\n",
      "Silver fact_flights count: 5,328,614\n"
     ]
    }
   ],
   "source": [
    "print(\"Reading fact_flights bronze data...\")\n",
    "\n",
    "fact_flight_silver_df = spark.read.table(\"unikargo_dev.02_silver.unikargo_fact_flight_silver\")\n",
    "\n",
    "print(f\"Silver fact_flights count: {fact_flight_silver_df.count():,}\")"
   ]
  },
  {
   "cell_type": "code",
   "execution_count": 4,
   "id": "bebcfbd1",
   "metadata": {},
   "outputs": [
    {
     "name": "stdout",
     "output_type": "stream",
     "text": [
      "Reading silver dimension tables...\n",
      "Dimensions loaded - Airlines: 14, Airports: 322, Dates: 5844\n"
     ]
    }
   ],
   "source": [
    "print(\"Reading silver dimension tables...\")\n",
    "\n",
    "dim_date_silver_df = spark.read.table(\"unikargo_dev.02_silver.unikargo_dim_date_silver\")\n",
    "dim_airline_silver_df = spark.read.table(\"unikargo_dev.02_silver.unikargo_dim_airline_silver\")\n",
    "dim_airport_silver_df = spark.read.table(\"unikargo_dev.02_silver.unikargo_dim_airport_silver\")\n",
    "\n",
    "print(f\"Dimensions loaded - Airlines: {dim_airline_silver_df.count()}, \"\n",
    "      f\"Airports: {dim_airport_silver_df.count()}, \"\n",
    "      f\"Dates: {dim_date_silver_df.count()}\")"
   ]
  },
  {
   "cell_type": "code",
   "execution_count": 5,
   "id": "93a54aca",
   "metadata": {},
   "outputs": [],
   "source": [
    "# Seasonal analysis\n",
    "seasonal_analysis = fact_flight_silver_df \\\n",
    "    .join(dim_date_silver_df, \"date_sk\") \\\n",
    "    .withColumn(\"season\", \n",
    "        F.when(F.col(\"month\").isin([12, 1, 2]), \"Winter\")\n",
    "         .when(F.col(\"month\").isin([3, 4, 5]), \"Spring\")\n",
    "         .when(F.col(\"month\").isin([6, 7, 8]), \"Summer\")\n",
    "         .otherwise(\"Fall\")) \\\n",
    "    .groupBy(\"year\", \"season\") \\\n",
    "    .agg(\n",
    "        F.count(\"*\").alias(\"total_flights\"),\n",
    "        F.avg(\"departure_delay\").alias(\"avg_departure_delay\"),\n",
    "        F.sum(F.when(F.col(\"cancelled\") == 1, 1).otherwise(0)).alias(\"cancelled_flights\"),\n",
    "        F.avg(\"distance\").alias(\"avg_distance\"),\n",
    "        F.avg(\"air_time\").alias(\"avg_air_time\")\n",
    "    ) \\\n",
    "    .orderBy(\"year\", \n",
    "        F.when(F.col(\"season\") == \"Winter\", 1)\n",
    "         .when(F.col(\"season\") == \"Spring\", 2)\n",
    "         .when(F.col(\"season\") == \"Summer\", 3)\n",
    "         .otherwise(4))"
   ]
  },
  {
   "cell_type": "code",
   "execution_count": 6,
   "id": "0ee73a26",
   "metadata": {},
   "outputs": [
    {
     "name": "stdout",
     "output_type": "stream",
     "text": [
      "+----+------+-------------+-------------------+-----------------+-----------------+------------------+\n",
      "|year|season|total_flights|avg_departure_delay|cancelled_flights|     avg_distance|      avg_air_time|\n",
      "+----+------+-------------+-------------------+-----------------+-----------------+------------------+\n",
      "|2015|Winter|      1377481| 11.119387559122082|            40527|813.9649955244391|113.76376882236487|\n",
      "|2015|Spring|      1485386|   8.95191314116608|            21191|818.2512451308953| 113.7264232812713|\n",
      "|2015|Summer|      1533658| 11.748672457778913|            18940|836.5790000117366|114.06254541359908|\n",
      "|2015|  Fall|       932089|  5.881324041510771|             6664|817.4366278327499|112.33122045854616|\n",
      "+----+------+-------------+-------------------+-----------------+-----------------+------------------+\n",
      "\n"
     ]
    }
   ],
   "source": [
    "seasonal_analysis.show(5)"
   ]
  },
  {
   "cell_type": "code",
   "execution_count": 7,
   "id": "81e5c7dc",
   "metadata": {},
   "outputs": [],
   "source": [
    "# Weekend vs Weekday analysis\n",
    "weekend_analysis = fact_flight_silver_df \\\n",
    "    .join(dim_date_silver_df, \"date_sk\") \\\n",
    "    .join(dim_airline_silver_df, \"airline_sk\") \\\n",
    "    .groupBy(\"airline\", \"is_weekend\") \\\n",
    "    .agg(\n",
    "        F.count(\"*\").alias(\"total_flights\"),\n",
    "        F.avg(\"departure_delay\").alias(\"avg_departure_delay\"),\n",
    "        F.avg(\"arrival_delay\").alias(\"avg_arrival_delay\"),\n",
    "        F.sum(F.when(F.col(\"cancelled\") == 1, 1).otherwise(0)).alias(\"cancelled_flights\")\n",
    "    ) \\\n",
    "    .withColumn(\"weekend_flag\", F.when(F.col(\"is_weekend\") == 1, \"Weekend\").otherwise(\"Weekday\")) \\\n",
    "    .orderBy(\"airline\", \"is_weekend\")"
   ]
  },
  {
   "cell_type": "code",
   "execution_count": 8,
   "id": "ac34f620",
   "metadata": {},
   "outputs": [
    {
     "name": "stdout",
     "output_type": "stream",
     "text": [
      "+--------------------+----------+-------------+-------------------+-------------------+-----------------+------------+\n",
      "|             airline|is_weekend|total_flights|avg_departure_delay|  avg_arrival_delay|cancelled_flights|weekend_flag|\n",
      "+--------------------+----------+-------------+-------------------+-------------------+-----------------+------------+\n",
      "|Alaska Airlines Inc.|         0|       113824| 1.9334896967666275|-0.5900646382117056|              452|     Weekday|\n",
      "|Alaska Airlines Inc.|         1|        44157|   2.01668636900973|  -1.31713823214245|              184|     Weekend|\n",
      "|American Airlines...|         0|       472865|  9.220642682725517|   4.18132893210736|             6762|     Weekday|\n",
      "|American Airlines...|         1|       174722|  9.622323178128207|  3.272022394265569|             3404|     Weekend|\n",
      "|American Eagle Ai...|         0|       202064|  11.07501577714843|  7.959833671548501|            10812|     Weekday|\n",
      "+--------------------+----------+-------------+-------------------+-------------------+-----------------+------------+\n",
      "only showing top 5 rows\n"
     ]
    }
   ],
   "source": [
    "weekend_analysis.show(5)"
   ]
  },
  {
   "cell_type": "code",
   "execution_count": 9,
   "id": "1c7c2f24",
   "metadata": {},
   "outputs": [],
   "source": [
    "# Quarter analysis\n",
    "quarterly_analysis = fact_flight_silver_df \\\n",
    "    .join(dim_date_silver_df, \"date_sk\") \\\n",
    "    .join(dim_airline_silver_df, \"airline_sk\") \\\n",
    "    .groupBy(\"year\", \"quarter\", \"airline\") \\\n",
    "    .agg(\n",
    "        F.count(\"*\").alias(\"total_flights\"),\n",
    "        F.avg(\"departure_delay\").alias(\"avg_departure_delay\"),\n",
    "        F.sum(F.when(F.col(\"cancelled\") == 1, 1).otherwise(0)).alias(\"cancelled_flights\"),\n",
    "        F.avg(\"distance\").alias(\"avg_distance\")\n",
    "    ) \\\n",
    "    .orderBy(\"year\", \"quarter\", \"airline\")"
   ]
  },
  {
   "cell_type": "code",
   "execution_count": 10,
   "id": "d3c5babd",
   "metadata": {},
   "outputs": [
    {
     "name": "stdout",
     "output_type": "stream",
     "text": [
      "+----+-------+--------------------+-------------+-------------------+-----------------+------------------+\n",
      "|year|quarter|             airline|total_flights|avg_departure_delay|cancelled_flights|      avg_distance|\n",
      "+----+-------+--------------------+-------------+-------------------+-----------------+------------------+\n",
      "|2015|      1|Alaska Airlines Inc.|        39727|  2.991827543455709|              216|1192.7543987716163|\n",
      "|2015|      1|American Airlines...|       129648| 10.665006366264404|             4866|1078.6269591509317|\n",
      "|2015|      1|American Eagle Ai...|        84986| 15.556966627710686|             8206| 433.1925964276469|\n",
      "|2015|      1|Atlantic Southeas...|       149253|   9.87544007293639|             6839| 465.4183232497839|\n",
      "|2015|      1|Delta Air Lines Inc.|       199349|   8.75566987751945|             2895| 855.6799081008684|\n",
      "+----+-------+--------------------+-------------+-------------------+-----------------+------------------+\n",
      "only showing top 5 rows\n"
     ]
    }
   ],
   "source": [
    "quarterly_analysis.show(5)"
   ]
  },
  {
   "cell_type": "code",
   "execution_count": 11,
   "id": "131d4343",
   "metadata": {},
   "outputs": [],
   "source": [
    "seasonal_analysis.write.mode(\"overwrite\").saveAsTable(\"unikargo_dev.03_gold.seasonal_flight_trends\")\n"
   ]
  },
  {
   "cell_type": "code",
   "execution_count": 12,
   "id": "e1927b8b",
   "metadata": {},
   "outputs": [],
   "source": [
    "weekend_analysis.write.mode(\"overwrite\").saveAsTable(\"unikargo_dev.03_gold.weekend_vs_weekday_performance\")\n"
   ]
  }
 ],
 "metadata": {
  "kernelspec": {
   "display_name": ".venv_dbc (3.11.3)",
   "language": "python",
   "name": "python3"
  },
  "language_info": {
   "codemirror_mode": {
    "name": "ipython",
    "version": 3
   },
   "file_extension": ".py",
   "mimetype": "text/x-python",
   "name": "python",
   "nbconvert_exporter": "python",
   "pygments_lexer": "ipython3",
   "version": "3.11.3"
  }
 },
 "nbformat": 4,
 "nbformat_minor": 5
}
