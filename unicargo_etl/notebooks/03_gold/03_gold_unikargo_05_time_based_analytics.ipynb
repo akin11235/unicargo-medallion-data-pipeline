{
 "cells": [
  {
   "cell_type": "code",
   "execution_count": null,
   "id": "e2a6dc17",
   "metadata": {},
   "outputs": [],
   "source": [
    "from pyspark.sql import functions as F\n",
    "from pyspark.sql.types import *\n",
    "from pyspark.sql.window import Window\n"
   ]
  },
  {
   "cell_type": "code",
   "execution_count": null,
   "id": "98b2ff71",
   "metadata": {},
   "outputs": [],
   "source": [
    "# =============================================================================\n",
    "# TIME-BASED ANALYTICS\n",
    "# ============================================================================="
   ]
  },
  {
   "cell_type": "code",
   "execution_count": null,
   "id": "06861234",
   "metadata": {},
   "outputs": [],
   "source": [
    "print(\"Reading fact_flights bronze data...\")\n",
    "\n",
    "fact_flight_silver_df = spark.read.table(\"unikargo_dev.02_silver.unikargo_fact_flight_silver\")\n",
    "\n",
    "print(f\"Silver fact_flights count: {fact_flight_silver_df.count():,}\")"
   ]
  },
  {
   "cell_type": "code",
   "execution_count": null,
   "id": "bebcfbd1",
   "metadata": {},
   "outputs": [],
   "source": [
    "print(\"Reading silver dimension tables...\")\n",
    "\n",
    "dim_date_silver_df = spark.read.table(\"unikargo_dev.02_silver.unikargo_dim_date_silver\")\n",
    "dim_airline_silver_df = spark.read.table(\"unikargo_dev.02_silver.unikargo_dim_airline_silver\")\n",
    "dim_airport_silver_df = spark.read.table(\"unikargo_dev.02_silver.unikargo_dim_airport_silver\")\n",
    "\n",
    "print(f\"Dimensions loaded - Airlines: {dim_airline_silver_df.count()}, \"\n",
    "      f\"Airports: {dim_airport_silver_df.count()}, \"\n",
    "      f\"Dates: {dim_date_silver_df.count()}\")"
   ]
  },
  {
   "cell_type": "code",
   "execution_count": null,
   "id": "93a54aca",
   "metadata": {},
   "outputs": [],
   "source": [
    "# Seasonal analysis\n",
    "seasonal_analysis = fact_flight_silver_df \\\n",
    "    .join(dim_date_silver_df, \"date_sk\") \\\n",
    "    .withColumn(\"season\", \n",
    "        F.when(F.col(\"month\").isin([12, 1, 2]), \"Winter\")\n",
    "         .when(F.col(\"month\").isin([3, 4, 5]), \"Spring\")\n",
    "         .when(F.col(\"month\").isin([6, 7, 8]), \"Summer\")\n",
    "         .otherwise(\"Fall\")) \\\n",
    "    .groupBy(\"year\", \"season\") \\\n",
    "    .agg(\n",
    "        F.count(\"*\").alias(\"total_flights\"),\n",
    "        F.avg(\"departure_delay\").alias(\"avg_departure_delay\"),\n",
    "        F.sum(F.when(F.col(\"cancelled\") == 1, 1).otherwise(0)).alias(\"cancelled_flights\"),\n",
    "        F.avg(\"distance\").alias(\"avg_distance\"),\n",
    "        F.avg(\"air_time\").alias(\"avg_air_time\")\n",
    "    ) \\\n",
    "    .orderBy(\"year\", \n",
    "        F.when(F.col(\"season\") == \"Winter\", 1)\n",
    "         .when(F.col(\"season\") == \"Spring\", 2)\n",
    "         .when(F.col(\"season\") == \"Summer\", 3)\n",
    "         .otherwise(4))"
   ]
  },
  {
   "cell_type": "code",
   "execution_count": null,
   "id": "0ee73a26",
   "metadata": {},
   "outputs": [],
   "source": [
    "seasonal_analysis.show(5)"
   ]
  },
  {
   "cell_type": "code",
   "execution_count": null,
   "id": "81e5c7dc",
   "metadata": {},
   "outputs": [],
   "source": [
    "# Weekend vs Weekday analysis\n",
    "weekend_analysis = fact_flight_silver_df \\\n",
    "    .join(dim_date_silver_df, \"date_sk\") \\\n",
    "    .join(dim_airline_silver_df, \"airline_sk\") \\\n",
    "    .groupBy(\"airline\", \"is_weekend\") \\\n",
    "    .agg(\n",
    "        F.count(\"*\").alias(\"total_flights\"),\n",
    "        F.avg(\"departure_delay\").alias(\"avg_departure_delay\"),\n",
    "        F.avg(\"arrival_delay\").alias(\"avg_arrival_delay\"),\n",
    "        F.sum(F.when(F.col(\"cancelled\") == 1, 1).otherwise(0)).alias(\"cancelled_flights\")\n",
    "    ) \\\n",
    "    .withColumn(\"weekend_flag\", F.when(F.col(\"is_weekend\") == 1, \"Weekend\").otherwise(\"Weekday\")) \\\n",
    "    .orderBy(\"airline\", \"is_weekend\")"
   ]
  },
  {
   "cell_type": "code",
   "execution_count": null,
   "id": "ac34f620",
   "metadata": {},
   "outputs": [],
   "source": [
    "weekend_analysis.show(5)"
   ]
  },
  {
   "cell_type": "code",
   "execution_count": null,
   "id": "1c7c2f24",
   "metadata": {},
   "outputs": [],
   "source": [
    "# Quarter analysis\n",
    "quarterly_analysis = fact_flight_silver_df \\\n",
    "    .join(dim_date_silver_df, \"date_sk\") \\\n",
    "    .join(dim_airline_silver_df, \"airline_sk\") \\\n",
    "    .groupBy(\"year\", \"quarter\", \"airline\") \\\n",
    "    .agg(\n",
    "        F.count(\"*\").alias(\"total_flights\"),\n",
    "        F.avg(\"departure_delay\").alias(\"avg_departure_delay\"),\n",
    "        F.sum(F.when(F.col(\"cancelled\") == 1, 1).otherwise(0)).alias(\"cancelled_flights\"),\n",
    "        F.avg(\"distance\").alias(\"avg_distance\")\n",
    "    ) \\\n",
    "    .orderBy(\"year\", \"quarter\", \"airline\")"
   ]
  },
  {
   "cell_type": "code",
   "execution_count": null,
   "id": "d3c5babd",
   "metadata": {},
   "outputs": [],
   "source": [
    "quarterly_analysis.show(5)"
   ]
  },
  {
   "cell_type": "code",
   "execution_count": null,
   "id": "131d4343",
   "metadata": {},
   "outputs": [],
   "source": [
    "seasonal_analysis.write.mode(\"overwrite\").saveAsTable(\"unikargo_dev.03_gold.seasonal_flight_trends\")\n"
   ]
  },
  {
   "cell_type": "code",
   "execution_count": null,
   "id": "e1927b8b",
   "metadata": {},
   "outputs": [],
   "source": [
    "weekend_analysis.write.mode(\"overwrite\").saveAsTable(\"unikargo_dev.03_gold.weekend_vs_weekday_performance\")\n"
   ]
  }
 ],
 "metadata": {
  "kernelspec": {
   "display_name": ".venv_dbc (3.11.3)",
   "language": "python",
   "name": "python3"
  },
  "language_info": {
   "codemirror_mode": {
    "name": "ipython",
    "version": 3
   },
   "file_extension": ".py",
   "mimetype": "text/x-python",
   "name": "python",
   "nbconvert_exporter": "python",
   "pygments_lexer": "ipython3",
   "version": "3.11.3"
  }
 },
 "nbformat": 4,
 "nbformat_minor": 5
}
