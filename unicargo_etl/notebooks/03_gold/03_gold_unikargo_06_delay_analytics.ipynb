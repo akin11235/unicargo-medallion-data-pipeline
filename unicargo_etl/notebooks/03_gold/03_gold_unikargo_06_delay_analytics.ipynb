{
 "cells": [
  {
   "cell_type": "code",
   "execution_count": null,
   "id": "e2a6dc17",
   "metadata": {},
   "outputs": [],
   "source": [
    "from pyspark.sql import functions as F\n",
    "from pyspark.sql.types import *\n",
    "from pyspark.sql.window import Window\n"
   ]
  },
  {
   "cell_type": "code",
   "execution_count": null,
   "id": "98b2ff71",
   "metadata": {},
   "outputs": [],
   "source": [
    "# =============================================================================\n",
    "# TIME-BASED ANALYTICS\n",
    "# ============================================================================="
   ]
  },
  {
   "cell_type": "code",
   "execution_count": null,
   "id": "06861234",
   "metadata": {},
   "outputs": [],
   "source": [
    "print(\"Reading fact_flights bronze data...\")\n",
    "\n",
    "fact_flight_silver_df = spark.read.table(\"unikargo_dev.02_silver.unikargo_fact_flight_silver\")\n",
    "\n",
    "print(f\"Silver fact_flights count: {fact_flight_silver_df.count():,}\")"
   ]
  },
  {
   "cell_type": "code",
   "execution_count": null,
   "id": "bebcfbd1",
   "metadata": {},
   "outputs": [],
   "source": [
    "print(\"Reading silver dimension tables...\")\n",
    "\n",
    "dim_date_silver_df = spark.read.table(\"unikargo_dev.02_silver.unikargo_dim_date_silver\")\n",
    "dim_airline_silver_df = spark.read.table(\"unikargo_dev.02_silver.unikargo_dim_airline_silver\")\n",
    "dim_airport_silver_df = spark.read.table(\"unikargo_dev.02_silver.unikargo_dim_airport_silver\")\n",
    "\n",
    "print(f\"Dimensions loaded - Airlines: {dim_airline_silver_df.count()}, \"\n",
    "      f\"Airports: {dim_airport_silver_df.count()}, \"\n",
    "      f\"Dates: {dim_date_silver_df.count()}\")"
   ]
  },
  {
   "cell_type": "code",
   "execution_count": null,
   "id": "93a54aca",
   "metadata": {},
   "outputs": [],
   "source": [
    "# Delay distribution analysis\n",
    "delay_distribution = fact_flight_silver_df \\\n",
    "    .withColumn(\"delay_category\",\n",
    "        F.when(F.col(\"departure_delay\") <= 0, \"Early/On-time\")\n",
    "         .when(F.col(\"departure_delay\") <= 15, \"Slight Delay (1-15 min)\")\n",
    "         .when(F.col(\"departure_delay\") <= 60, \"Moderate Delay (16-60 min)\")\n",
    "         .when(F.col(\"departure_delay\") <= 180, \"Significant Delay (1-3 hours)\")\n",
    "         .otherwise(\"Major Delay (3+ hours)\")) \\\n",
    "    .groupBy(\"delay_category\") \\\n",
    "    .agg(\n",
    "        F.count(\"*\").alias(\"flight_count\"),\n",
    "        F.avg(\"departure_delay\").alias(\"avg_delay_in_category\"),\n",
    "        F.avg(\"arrival_delay\").alias(\"avg_arrival_delay_in_category\")\n",
    "    ) \\\n",
    "    .withColumn(\"percentage\", F.col(\"flight_count\") / F.sum(\"flight_count\").over(Window.partitionBy()) * 100) \\\n",
    "    .orderBy(\"avg_delay_in_category\")"
   ]
  },
  {
   "cell_type": "code",
   "execution_count": null,
   "id": "0ee73a26",
   "metadata": {},
   "outputs": [],
   "source": [
    "delay_distribution.show(5)"
   ]
  },
  {
   "cell_type": "code",
   "execution_count": null,
   "id": "81e5c7dc",
   "metadata": {},
   "outputs": [],
   "source": [
    "# Flight time efficiency analysis\n",
    "flight_efficiency = fact_flight_silver_df \\\n",
    "    .join(dim_airline_silver_df, \"airline_sk\") \\\n",
    "    .withColumn(\"scheduled_vs_actual\", F.col(\"elapsed_time\") - F.col(\"scheduled_time\")) \\\n",
    "    .groupBy(\"airline\") \\\n",
    "    .agg(\n",
    "        F.count(\"*\").alias(\"total_flights\"),\n",
    "        F.avg(\"scheduled_time\").alias(\"avg_scheduled_time\"),\n",
    "        F.avg(\"elapsed_time\").alias(\"avg_actual_time\"),\n",
    "        F.avg(\"scheduled_vs_actual\").alias(\"avg_time_difference\"),\n",
    "        F.avg(\"air_time\").alias(\"avg_air_time\"),\n",
    "        F.avg(F.col(\"taxi_out\") + F.col(\"taxi_in\")).alias(\"avg_ground_time\")\n",
    "    ) \\\n",
    "    .orderBy(F.col(\"avg_time_difference\").asc())"
   ]
  },
  {
   "cell_type": "code",
   "execution_count": null,
   "id": "ac34f620",
   "metadata": {},
   "outputs": [],
   "source": [
    "flight_efficiency.show(5)"
   ]
  },
  {
   "cell_type": "code",
   "execution_count": null,
   "id": "0aeceb07",
   "metadata": {},
   "outputs": [],
   "source": [
    "delay_distribution.write.mode(\"overwrite\").saveAsTable(\"unikargo_dev.03_gold.delay_distribution\")\n"
   ]
  }
 ],
 "metadata": {
  "kernelspec": {
   "display_name": ".venv_dbc (3.11.3)",
   "language": "python",
   "name": "python3"
  },
  "language_info": {
   "codemirror_mode": {
    "name": "ipython",
    "version": 3
   },
   "file_extension": ".py",
   "mimetype": "text/x-python",
   "name": "python",
   "nbconvert_exporter": "python",
   "pygments_lexer": "ipython3",
   "version": "3.11.3"
  }
 },
 "nbformat": 4,
 "nbformat_minor": 5
}
