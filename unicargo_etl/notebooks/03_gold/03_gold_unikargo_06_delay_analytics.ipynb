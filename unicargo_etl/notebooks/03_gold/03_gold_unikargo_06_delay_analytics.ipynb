{
 "cells": [
  {
   "cell_type": "code",
   "execution_count": 1,
   "id": "e2a6dc17",
   "metadata": {},
   "outputs": [],
   "source": [
    "from pyspark.sql import functions as F\n",
    "from pyspark.sql.types import *\n",
    "from pyspark.sql.window import Window\n"
   ]
  },
  {
   "cell_type": "code",
   "execution_count": 2,
   "id": "98b2ff71",
   "metadata": {},
   "outputs": [],
   "source": [
    "# =============================================================================\n",
    "# TIME-BASED ANALYTICS\n",
    "# ============================================================================="
   ]
  },
  {
   "cell_type": "code",
   "execution_count": 3,
   "id": "06861234",
   "metadata": {},
   "outputs": [
    {
     "name": "stdout",
     "output_type": "stream",
     "text": [
      "Reading fact_flights bronze data...\n"
     ]
    },
    {
     "name": "stdout",
     "output_type": "stream",
     "text": [
      "Silver fact_flights count: 5,328,614\n"
     ]
    }
   ],
   "source": [
    "print(\"Reading fact_flights bronze data...\")\n",
    "\n",
    "fact_flight_silver_df = spark.read.table(\"unikargo_dev.02_silver.unikargo_fact_flight_silver\")\n",
    "\n",
    "print(f\"Silver fact_flights count: {fact_flight_silver_df.count():,}\")"
   ]
  },
  {
   "cell_type": "code",
   "execution_count": 4,
   "id": "bebcfbd1",
   "metadata": {},
   "outputs": [
    {
     "name": "stdout",
     "output_type": "stream",
     "text": [
      "Reading silver dimension tables...\n",
      "Dimensions loaded - Airlines: 14, Airports: 322, Dates: 5844\n"
     ]
    }
   ],
   "source": [
    "print(\"Reading silver dimension tables...\")\n",
    "\n",
    "dim_date_silver_df = spark.read.table(\"unikargo_dev.02_silver.unikargo_dim_date_silver\")\n",
    "dim_airline_silver_df = spark.read.table(\"unikargo_dev.02_silver.unikargo_dim_airline_silver\")\n",
    "dim_airport_silver_df = spark.read.table(\"unikargo_dev.02_silver.unikargo_dim_airport_silver\")\n",
    "\n",
    "print(f\"Dimensions loaded - Airlines: {dim_airline_silver_df.count()}, \"\n",
    "      f\"Airports: {dim_airport_silver_df.count()}, \"\n",
    "      f\"Dates: {dim_date_silver_df.count()}\")"
   ]
  },
  {
   "cell_type": "code",
   "execution_count": 5,
   "id": "93a54aca",
   "metadata": {},
   "outputs": [],
   "source": [
    "# Delay distribution analysis\n",
    "delay_distribution = fact_flight_silver_df \\\n",
    "    .withColumn(\"delay_category\",\n",
    "        F.when(F.col(\"departure_delay\") <= 0, \"Early/On-time\")\n",
    "         .when(F.col(\"departure_delay\") <= 15, \"Slight Delay (1-15 min)\")\n",
    "         .when(F.col(\"departure_delay\") <= 60, \"Moderate Delay (16-60 min)\")\n",
    "         .when(F.col(\"departure_delay\") <= 180, \"Significant Delay (1-3 hours)\")\n",
    "         .otherwise(\"Major Delay (3+ hours)\")) \\\n",
    "    .groupBy(\"delay_category\") \\\n",
    "    .agg(\n",
    "        F.count(\"*\").alias(\"flight_count\"),\n",
    "        F.avg(\"departure_delay\").alias(\"avg_delay_in_category\"),\n",
    "        F.avg(\"arrival_delay\").alias(\"avg_arrival_delay_in_category\")\n",
    "    ) \\\n",
    "    .withColumn(\"percentage\", F.col(\"flight_count\") / F.sum(\"flight_count\").over(Window.partitionBy()) * 100) \\\n",
    "    .orderBy(\"avg_delay_in_category\")"
   ]
  },
  {
   "cell_type": "code",
   "execution_count": 6,
   "id": "0ee73a26",
   "metadata": {},
   "outputs": [
    {
     "name": "stderr",
     "output_type": "stream",
     "text": [
      "c:\\Users\\Dele\\Documents\\D. Professional Registration\\IT\\DATA-EnGR\\00_data_engr_projects\\unicargo\\unicargo_dab\\.venv_dbc\\Lib\\site-packages\\pyspark\\sql\\connect\\expressions.py:1017: UserWarning: WARN WindowExpression: No Partition Defined for Window operation! Moving all data to a single partition, this can cause serious performance degradation.\n",
      "  warnings.warn(\n"
     ]
    },
    {
     "name": "stdout",
     "output_type": "stream",
     "text": [
      "+--------------------+------------+---------------------+-----------------------------+------------------+\n",
      "|      delay_category|flight_count|avg_delay_in_category|avg_arrival_delay_in_category|        percentage|\n",
      "+--------------------+------------+---------------------+-----------------------------+------------------+\n",
      "|       Early/On-time|     3266273|    -4.36440432260255|           -9.195461431094994| 61.29685880793767|\n",
      "|Slight Delay (1-1...|     1018823|    6.245125993425747|           1.1655487153325934|19.119849927204335|\n",
      "|Moderate Delay (1...|      652603|   31.643231796360116|           26.782795029716333|12.247143441052401|\n",
      "|Significant Delay...|      261630|    99.53188090050836|             95.8505288504208| 4.909907154092978|\n",
      "|Major Delay (3+ h...|      129285|    273.1717094148364|           269.51206673506715| 2.426240669712612|\n",
      "+--------------------+------------+---------------------+-----------------------------+------------------+\n",
      "\n"
     ]
    }
   ],
   "source": [
    "delay_distribution.show(5)"
   ]
  },
  {
   "cell_type": "code",
   "execution_count": 7,
   "id": "81e5c7dc",
   "metadata": {},
   "outputs": [],
   "source": [
    "# Flight time efficiency analysis\n",
    "flight_efficiency = fact_flight_silver_df \\\n",
    "    .join(dim_airline_silver_df, \"airline_sk\") \\\n",
    "    .withColumn(\"scheduled_vs_actual\", F.col(\"elapsed_time\") - F.col(\"scheduled_time\")) \\\n",
    "    .groupBy(\"airline\") \\\n",
    "    .agg(\n",
    "        F.count(\"*\").alias(\"total_flights\"),\n",
    "        F.avg(\"scheduled_time\").alias(\"avg_scheduled_time\"),\n",
    "        F.avg(\"elapsed_time\").alias(\"avg_actual_time\"),\n",
    "        F.avg(\"scheduled_vs_actual\").alias(\"avg_time_difference\"),\n",
    "        F.avg(\"air_time\").alias(\"avg_air_time\"),\n",
    "        F.avg(F.col(\"taxi_out\") + F.col(\"taxi_in\")).alias(\"avg_ground_time\")\n",
    "    ) \\\n",
    "    .orderBy(F.col(\"avg_time_difference\").asc())"
   ]
  },
  {
   "cell_type": "code",
   "execution_count": 8,
   "id": "ac34f620",
   "metadata": {},
   "outputs": [
    {
     "name": "stdout",
     "output_type": "stream",
     "text": [
      "+--------------------+-------------+------------------+------------------+-------------------+------------------+------------------+\n",
      "|             airline|total_flights|avg_scheduled_time|   avg_actual_time|avg_time_difference|      avg_air_time|   avg_ground_time|\n",
      "+--------------------+-------------+------------------+------------------+-------------------+------------------+------------------+\n",
      "|United Air Lines ...|       469400|200.14680017043034|191.33184237259866| -8.813115833569793|165.37974661609675| 25.96204572320153|\n",
      "|Delta Air Lines Inc.|       799791|147.78246066784948|140.72518233425617| -7.024457277821633|115.83288953685273| 24.90344070241392|\n",
      "|Southwest Airline...|      1157134|127.38634851279109|121.39206572765828|-6.0901005226898715|103.27516999062514|18.127171273527427|\n",
      "|American Airlines...|       647587|172.23672340550382| 167.0195695516911|  -5.31458573638385|140.38007827191228|26.656652030494293|\n",
      "|     JetBlue Airways|       244555| 172.4577334341968| 167.7255222585597| -4.787475805913369|143.69200093439233|24.047589128191472|\n",
      "+--------------------+-------------+------------------+------------------+-------------------+------------------+------------------+\n",
      "only showing top 5 rows\n"
     ]
    }
   ],
   "source": [
    "flight_efficiency.show(5)"
   ]
  },
  {
   "cell_type": "code",
   "execution_count": 9,
   "id": "0aeceb07",
   "metadata": {},
   "outputs": [],
   "source": [
    "delay_distribution.write.mode(\"overwrite\").saveAsTable(\"unikargo_dev.03_gold.delay_distribution\")\n"
   ]
  }
 ],
 "metadata": {
  "kernelspec": {
   "display_name": ".venv_dbc (3.11.3)",
   "language": "python",
   "name": "python3"
  },
  "language_info": {
   "codemirror_mode": {
    "name": "ipython",
    "version": 3
   },
   "file_extension": ".py",
   "mimetype": "text/x-python",
   "name": "python",
   "nbconvert_exporter": "python",
   "pygments_lexer": "ipython3",
   "version": "3.11.3"
  }
 },
 "nbformat": 4,
 "nbformat_minor": 5
}
