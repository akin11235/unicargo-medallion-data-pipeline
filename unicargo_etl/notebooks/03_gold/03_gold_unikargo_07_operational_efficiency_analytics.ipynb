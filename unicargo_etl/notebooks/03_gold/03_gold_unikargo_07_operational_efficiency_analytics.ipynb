{
 "cells": [
  {
   "cell_type": "code",
   "execution_count": 1,
   "id": "e2a6dc17",
   "metadata": {},
   "outputs": [],
   "source": [
    "from pyspark.sql import functions as F\n",
    "from pyspark.sql.types import *\n",
    "from pyspark.sql.window import Window\n"
   ]
  },
  {
   "cell_type": "code",
   "execution_count": 2,
   "id": "98b2ff71",
   "metadata": {},
   "outputs": [],
   "source": [
    "# =============================================================================\n",
    "# OPERATIONAL EFFICIENCY METRICS\n",
    "# ============================================================================="
   ]
  },
  {
   "cell_type": "code",
   "execution_count": 3,
   "id": "06861234",
   "metadata": {},
   "outputs": [
    {
     "name": "stdout",
     "output_type": "stream",
     "text": [
      "Reading fact_flights bronze data...\n",
      "Silver fact_flights count: 5,328,614\n"
     ]
    }
   ],
   "source": [
    "print(\"Reading fact_flights bronze data...\")\n",
    "\n",
    "fact_flight_silver_df = spark.read.table(\"unikargo_dev.02_silver.unikargo_fact_flight_silver\")\n",
    "\n",
    "print(f\"Silver fact_flights count: {fact_flight_silver_df.count():,}\")"
   ]
  },
  {
   "cell_type": "code",
   "execution_count": 4,
   "id": "bebcfbd1",
   "metadata": {},
   "outputs": [
    {
     "name": "stdout",
     "output_type": "stream",
     "text": [
      "Reading silver dimension tables...\n",
      "Dimensions loaded - Airlines: 14, Airports: 322, Dates: 5844\n"
     ]
    }
   ],
   "source": [
    "print(\"Reading silver dimension tables...\")\n",
    "\n",
    "dim_date_silver_df = spark.read.table(\"unikargo_dev.02_silver.unikargo_dim_date_silver\")\n",
    "dim_airline_silver_df = spark.read.table(\"unikargo_dev.02_silver.unikargo_dim_airline_silver\")\n",
    "dim_airport_silver_df = spark.read.table(\"unikargo_dev.02_silver.unikargo_dim_airport_silver\")\n",
    "\n",
    "print(f\"Dimensions loaded - Airlines: {dim_airline_silver_df.count()}, \"\n",
    "      f\"Airports: {dim_airport_silver_df.count()}, \"\n",
    "      f\"Dates: {dim_date_silver_df.count()}\")"
   ]
  },
  {
   "cell_type": "code",
   "execution_count": 5,
   "id": "93a54aca",
   "metadata": {},
   "outputs": [],
   "source": [
    "# Aircraft utilization (flights per aircraft per day)\n",
    "aircraft_utilization = fact_flight_silver_df \\\n",
    "    .join(dim_date_silver_df, \"date_sk\") \\\n",
    "    .join(dim_airline_silver_df, \"airline_sk\") \\\n",
    "    .groupBy(\"full_date\", \"airline\", \"tail_number\") \\\n",
    "    .agg(F.count(\"*\").alias(\"flights_per_day\")) \\\n",
    "    .groupBy(\"airline\") \\\n",
    "    .agg(\n",
    "        F.avg(\"flights_per_day\").alias(\"avg_flights_per_aircraft_per_day\"),\n",
    "        F.max(\"flights_per_day\").alias(\"max_flights_per_aircraft_per_day\"),\n",
    "        F.countDistinct(\"tail_number\").alias(\"fleet_size\")\n",
    "    )"
   ]
  },
  {
   "cell_type": "code",
   "execution_count": 6,
   "id": "0ee73a26",
   "metadata": {},
   "outputs": [
    {
     "name": "stdout",
     "output_type": "stream",
     "text": [
      "+--------------------+--------------------------------+--------------------------------+----------+\n",
      "|             airline|avg_flights_per_aircraft_per_day|max_flights_per_aircraft_per_day|fleet_size|\n",
      "+--------------------+--------------------------------+--------------------------------+----------+\n",
      "|     US Airways Inc.|               3.810192647171694|                             399|       351|\n",
      "|Frontier Airlines...|              4.6689873775966495|                              31|        62|\n",
      "|United Air Lines ...|               2.980639180101979|                             434|       721|\n",
      "|American Airlines...|               3.300495899780336|                             364|      1044|\n",
      "|Alaska Airlines Inc.|              3.6855476495975736|                              11|       147|\n",
      "+--------------------+--------------------------------+--------------------------------+----------+\n",
      "only showing top 5 rows\n"
     ]
    }
   ],
   "source": [
    "aircraft_utilization.show(5)"
   ]
  },
  {
   "cell_type": "code",
   "execution_count": 7,
   "id": "81e5c7dc",
   "metadata": {},
   "outputs": [],
   "source": [
    "# On-time performance trends with rolling averages\n",
    "window_spec = Window.partitionBy(\"airline\").orderBy(\"full_date\").rowsBetween(-6, 0)\n",
    "\n",
    "otp_trends = fact_flight_silver_df \\\n",
    "    .join(dim_date_silver_df, \"date_sk\") \\\n",
    "    .join(dim_airline_silver_df, \"airline_sk\") \\\n",
    "    .groupBy(\"full_date\", \"airline\") \\\n",
    "    .agg(\n",
    "        F.count(\"*\").alias(\"daily_flights\"),\n",
    "        (F.sum(F.when(F.col(\"departure_delay\") <= 15, 1).otherwise(0)) / F.count(\"*\") * 100).alias(\"daily_otp\")\n",
    "    ) \\\n",
    "    .withColumn(\"rolling_7day_otp\", F.avg(\"daily_otp\").over(window_spec)) \\\n",
    "    .orderBy(\"airline\", \"full_date\")"
   ]
  },
  {
   "cell_type": "code",
   "execution_count": 8,
   "id": "ac34f620",
   "metadata": {},
   "outputs": [
    {
     "name": "stdout",
     "output_type": "stream",
     "text": [
      "+----------+--------------------+-------------+-----------------+-----------------+\n",
      "| full_date|             airline|daily_flights|        daily_otp| rolling_7day_otp|\n",
      "+----------+--------------------+-------------+-----------------+-----------------+\n",
      "|2015-01-01|Alaska Airlines Inc.|          440|90.68181818181819|90.68181818181819|\n",
      "|2015-01-02|Alaska Airlines Inc.|          477|83.01886792452831|86.85034305317325|\n",
      "|2015-01-03|Alaska Airlines Inc.|          449|79.73273942093542|84.47780850909398|\n",
      "|2015-01-04|Alaska Airlines Inc.|          458|77.29257641921397|82.68150048662397|\n",
      "|2015-01-05|Alaska Airlines Inc.|          433|83.60277136258661|82.86575466181651|\n",
      "+----------+--------------------+-------------+-----------------+-----------------+\n",
      "only showing top 5 rows\n"
     ]
    }
   ],
   "source": [
    "otp_trends.show(5)"
   ]
  },
  {
   "cell_type": "code",
   "execution_count": 9,
   "id": "ccaae5dd",
   "metadata": {},
   "outputs": [],
   "source": [
    "# Flight number performance\n",
    "flight_number_performance = fact_flight_silver_df \\\n",
    "    .join(dim_airline_silver_df, \"airline_sk\") \\\n",
    "    .groupBy(\"airline\", \"flight_number\") \\\n",
    "    .agg(\n",
    "        F.count(\"*\").alias(\"total_flights\"),\n",
    "        F.avg(\"departure_delay\").alias(\"avg_departure_delay\"),\n",
    "        F.avg(\"arrival_delay\").alias(\"avg_arrival_delay\"),\n",
    "        F.sum(F.when(F.col(\"cancelled\") == 1, 1).otherwise(0)).alias(\"cancelled_flights\"),\n",
    "        F.avg(\"distance\").alias(\"avg_distance\"),\n",
    "        F.countDistinct(\"tail_number\").alias(\"aircraft_used\")\n",
    "    ) \\\n",
    "    .filter(F.col(\"total_flights\") >= 50) \\\n",
    "    .orderBy(\"airline\", F.col(\"avg_departure_delay\").desc())"
   ]
  },
  {
   "cell_type": "code",
   "execution_count": 10,
   "id": "8dede70f",
   "metadata": {},
   "outputs": [
    {
     "name": "stdout",
     "output_type": "stream",
     "text": [
      "+--------------------+-------------+-------------+-------------------+------------------+-----------------+-----------------+-------------+\n",
      "|             airline|flight_number|total_flights|avg_departure_delay| avg_arrival_delay|cancelled_flights|     avg_distance|aircraft_used|\n",
      "+--------------------+-------------+-------------+-------------------+------------------+-----------------+-----------------+-------------+\n",
      "|Alaska Airlines Inc.|          380|           56| 21.660714285714285|12.854545454545455|                0|            550.0|           25|\n",
      "|Alaska Airlines Inc.|          305|          273| 19.877777777777776|15.192592592592593|                3|            679.0|           79|\n",
      "|Alaska Airlines Inc.|          341|          132| 19.015151515151516| 20.21969696969697|                0|            550.0|           29|\n",
      "|Alaska Airlines Inc.|          223|          334| 17.221556886227546|15.859281437125748|                0|650.8053892215569|           72|\n",
      "|Alaska Airlines Inc.|          650|           66|  16.37878787878788|18.348484848484848|                0|           1107.0|           30|\n",
      "+--------------------+-------------+-------------+-------------------+------------------+-----------------+-----------------+-------------+\n",
      "only showing top 5 rows\n"
     ]
    }
   ],
   "source": [
    "flight_number_performance.show(5)"
   ]
  },
  {
   "cell_type": "code",
   "execution_count": 11,
   "id": "84cc0dbb",
   "metadata": {},
   "outputs": [],
   "source": [
    "# Distance vs delay correlation\n",
    "distance_delay_analysis = fact_flight_silver_df \\\n",
    "    .withColumn(\"distance_category\",\n",
    "        F.when(F.col(\"distance\") <= 500, \"Short Haul (<500mi)\")\n",
    "         .when(F.col(\"distance\") <= 1500, \"Medium Haul (500-1500mi)\")\n",
    "         .otherwise(\"Long Haul (>1500mi)\")) \\\n",
    "    .groupBy(\"distance_category\") \\\n",
    "    .agg(\n",
    "        F.count(\"*\").alias(\"flight_count\"),\n",
    "        F.avg(\"distance\").alias(\"avg_distance\"),\n",
    "        F.avg(\"departure_delay\").alias(\"avg_departure_delay\"),\n",
    "        F.avg(\"arrival_delay\").alias(\"avg_arrival_delay\"),\n",
    "        F.avg(\"air_time\").alias(\"avg_air_time\"),\n",
    "        F.sum(F.when(F.col(\"cancelled\") == 1, 1).otherwise(0)).alias(\"cancelled_flights\")\n",
    "    ) \\\n",
    "    .orderBy(\"avg_distance\")"
   ]
  },
  {
   "cell_type": "code",
   "execution_count": 12,
   "id": "304f3fda",
   "metadata": {},
   "outputs": [
    {
     "name": "stdout",
     "output_type": "stream",
     "text": [
      "+--------------------+------------+------------------+-------------------+------------------+------------------+-----------------+\n",
      "|   distance_category|flight_count|      avg_distance|avg_departure_delay| avg_arrival_delay|      avg_air_time|cancelled_flights|\n",
      "+--------------------+------------+------------------+-------------------+------------------+------------------+-----------------+\n",
      "| Short Haul (<500mi)|     1952115|304.66427643863193|  8.503665444938841| 5.584784577252948| 51.79815138449535|            41566|\n",
      "|Medium Haul (500-...|     2658222| 868.9030814582078| 10.429913547682359|5.0919199000858155|119.82947353500062|            39694|\n",
      "| Long Haul (>1500mi)|      718277|2056.4671206233807| 10.750416122829916|2.2365826743466624| 256.6975444965746|             6062|\n",
      "+--------------------+------------+------------------+-------------------+------------------+------------------+-----------------+\n",
      "\n"
     ]
    }
   ],
   "source": [
    "distance_delay_analysis.show(5)"
   ]
  },
  {
   "cell_type": "code",
   "execution_count": 13,
   "id": "ef544b13",
   "metadata": {},
   "outputs": [],
   "source": [
    "# =============================================================================\n",
    "# SAVE TO GOLD LAYER TABLES\n",
    "# ============================================================================="
   ]
  },
  {
   "cell_type": "code",
   "execution_count": 14,
   "id": "65eacd93",
   "metadata": {},
   "outputs": [],
   "source": [
    "aircraft_utilization.write.mode(\"overwrite\").saveAsTable(\"unikargo_dev.03_gold.aircraft_utilization\")\n"
   ]
  }
 ],
 "metadata": {
  "kernelspec": {
   "display_name": ".venv_dbc (3.11.3)",
   "language": "python",
   "name": "python3"
  },
  "language_info": {
   "codemirror_mode": {
    "name": "ipython",
    "version": 3
   },
   "file_extension": ".py",
   "mimetype": "text/x-python",
   "name": "python",
   "nbconvert_exporter": "python",
   "pygments_lexer": "ipython3",
   "version": "3.11.3"
  }
 },
 "nbformat": 4,
 "nbformat_minor": 5
}
