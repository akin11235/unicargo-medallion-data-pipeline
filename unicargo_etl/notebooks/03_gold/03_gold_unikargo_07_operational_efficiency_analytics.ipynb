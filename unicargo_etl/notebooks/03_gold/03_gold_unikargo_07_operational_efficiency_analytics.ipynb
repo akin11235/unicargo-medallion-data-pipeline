{
 "cells": [
  {
   "cell_type": "code",
   "execution_count": null,
   "id": "e2a6dc17",
   "metadata": {},
   "outputs": [],
   "source": [
    "from pyspark.sql import functions as F\n",
    "from pyspark.sql.types import *\n",
    "from pyspark.sql.window import Window\n"
   ]
  },
  {
   "cell_type": "code",
   "execution_count": null,
   "id": "98b2ff71",
   "metadata": {},
   "outputs": [],
   "source": [
    "# =============================================================================\n",
    "# OPERATIONAL EFFICIENCY METRICS\n",
    "# ============================================================================="
   ]
  },
  {
   "cell_type": "code",
   "execution_count": null,
   "id": "06861234",
   "metadata": {},
   "outputs": [],
   "source": [
    "print(\"Reading fact_flights bronze data...\")\n",
    "\n",
    "fact_flight_silver_df = spark.read.table(\"unikargo_dev.02_silver.unikargo_fact_flight_silver\")\n",
    "\n",
    "print(f\"Silver fact_flights count: {fact_flight_silver_df.count():,}\")"
   ]
  },
  {
   "cell_type": "code",
   "execution_count": null,
   "id": "bebcfbd1",
   "metadata": {},
   "outputs": [],
   "source": [
    "print(\"Reading silver dimension tables...\")\n",
    "\n",
    "dim_date_silver_df = spark.read.table(\"unikargo_dev.02_silver.unikargo_dim_date_silver\")\n",
    "dim_airline_silver_df = spark.read.table(\"unikargo_dev.02_silver.unikargo_dim_airline_silver\")\n",
    "dim_airport_silver_df = spark.read.table(\"unikargo_dev.02_silver.unikargo_dim_airport_silver\")\n",
    "\n",
    "print(f\"Dimensions loaded - Airlines: {dim_airline_silver_df.count()}, \"\n",
    "      f\"Airports: {dim_airport_silver_df.count()}, \"\n",
    "      f\"Dates: {dim_date_silver_df.count()}\")"
   ]
  },
  {
   "cell_type": "code",
   "execution_count": null,
   "id": "93a54aca",
   "metadata": {},
   "outputs": [],
   "source": [
    "# Aircraft utilization (flights per aircraft per day)\n",
    "aircraft_utilization = fact_flight_silver_df \\\n",
    "    .join(dim_date_silver_df, \"date_sk\") \\\n",
    "    .join(dim_airline_silver_df, \"airline_sk\") \\\n",
    "    .groupBy(\"full_date\", \"airline\", \"tail_number\") \\\n",
    "    .agg(F.count(\"*\").alias(\"flights_per_day\")) \\\n",
    "    .groupBy(\"airline\") \\\n",
    "    .agg(\n",
    "        F.avg(\"flights_per_day\").alias(\"avg_flights_per_aircraft_per_day\"),\n",
    "        F.max(\"flights_per_day\").alias(\"max_flights_per_aircraft_per_day\"),\n",
    "        F.countDistinct(\"tail_number\").alias(\"fleet_size\")\n",
    "    )"
   ]
  },
  {
   "cell_type": "code",
   "execution_count": null,
   "id": "0ee73a26",
   "metadata": {},
   "outputs": [],
   "source": [
    "aircraft_utilization.show(5)"
   ]
  },
  {
   "cell_type": "code",
   "execution_count": null,
   "id": "81e5c7dc",
   "metadata": {},
   "outputs": [],
   "source": [
    "# On-time performance trends with rolling averages\n",
    "window_spec = Window.partitionBy(\"airline\").orderBy(\"full_date\").rowsBetween(-6, 0)\n",
    "\n",
    "otp_trends = fact_flight_silver_df \\\n",
    "    .join(dim_date_silver_df, \"date_sk\") \\\n",
    "    .join(dim_airline_silver_df, \"airline_sk\") \\\n",
    "    .groupBy(\"full_date\", \"airline\") \\\n",
    "    .agg(\n",
    "        F.count(\"*\").alias(\"daily_flights\"),\n",
    "        (F.sum(F.when(F.col(\"departure_delay\") <= 15, 1).otherwise(0)) / F.count(\"*\") * 100).alias(\"daily_otp\")\n",
    "    ) \\\n",
    "    .withColumn(\"rolling_7day_otp\", F.avg(\"daily_otp\").over(window_spec)) \\\n",
    "    .orderBy(\"airline\", \"full_date\")"
   ]
  },
  {
   "cell_type": "code",
   "execution_count": null,
   "id": "ac34f620",
   "metadata": {},
   "outputs": [],
   "source": [
    "otp_trends.show(5)"
   ]
  },
  {
   "cell_type": "code",
   "execution_count": null,
   "id": "ccaae5dd",
   "metadata": {},
   "outputs": [],
   "source": [
    "# Flight number performance\n",
    "flight_number_performance = fact_flight_silver_df \\\n",
    "    .join(dim_airline_silver_df, \"airline_sk\") \\\n",
    "    .groupBy(\"airline\", \"flight_number\") \\\n",
    "    .agg(\n",
    "        F.count(\"*\").alias(\"total_flights\"),\n",
    "        F.avg(\"departure_delay\").alias(\"avg_departure_delay\"),\n",
    "        F.avg(\"arrival_delay\").alias(\"avg_arrival_delay\"),\n",
    "        F.sum(F.when(F.col(\"cancelled\") == 1, 1).otherwise(0)).alias(\"cancelled_flights\"),\n",
    "        F.avg(\"distance\").alias(\"avg_distance\"),\n",
    "        F.countDistinct(\"tail_number\").alias(\"aircraft_used\")\n",
    "    ) \\\n",
    "    .filter(F.col(\"total_flights\") >= 50) \\\n",
    "    .orderBy(\"airline\", F.col(\"avg_departure_delay\").desc())"
   ]
  },
  {
   "cell_type": "code",
   "execution_count": null,
   "id": "8dede70f",
   "metadata": {},
   "outputs": [],
   "source": [
    "flight_number_performance.show(5)"
   ]
  },
  {
   "cell_type": "code",
   "execution_count": null,
   "id": "84cc0dbb",
   "metadata": {},
   "outputs": [],
   "source": [
    "# Distance vs delay correlation\n",
    "distance_delay_analysis = fact_flight_silver_df \\\n",
    "    .withColumn(\"distance_category\",\n",
    "        F.when(F.col(\"distance\") <= 500, \"Short Haul (<500mi)\")\n",
    "         .when(F.col(\"distance\") <= 1500, \"Medium Haul (500-1500mi)\")\n",
    "         .otherwise(\"Long Haul (>1500mi)\")) \\\n",
    "    .groupBy(\"distance_category\") \\\n",
    "    .agg(\n",
    "        F.count(\"*\").alias(\"flight_count\"),\n",
    "        F.avg(\"distance\").alias(\"avg_distance\"),\n",
    "        F.avg(\"departure_delay\").alias(\"avg_departure_delay\"),\n",
    "        F.avg(\"arrival_delay\").alias(\"avg_arrival_delay\"),\n",
    "        F.avg(\"air_time\").alias(\"avg_air_time\"),\n",
    "        F.sum(F.when(F.col(\"cancelled\") == 1, 1).otherwise(0)).alias(\"cancelled_flights\")\n",
    "    ) \\\n",
    "    .orderBy(\"avg_distance\")"
   ]
  },
  {
   "cell_type": "code",
   "execution_count": null,
   "id": "304f3fda",
   "metadata": {},
   "outputs": [],
   "source": [
    "distance_delay_analysis.show(5)"
   ]
  },
  {
   "cell_type": "code",
   "execution_count": null,
   "id": "ef544b13",
   "metadata": {},
   "outputs": [],
   "source": [
    "# =============================================================================\n",
    "# SAVE TO GOLD LAYER TABLES\n",
    "# ============================================================================="
   ]
  },
  {
   "cell_type": "code",
   "execution_count": null,
   "id": "65eacd93",
   "metadata": {},
   "outputs": [],
   "source": [
    "aircraft_utilization.write.mode(\"overwrite\").saveAsTable(\"unikargo_dev.03_gold.aircraft_utilization\")\n"
   ]
  }
 ],
 "metadata": {
  "kernelspec": {
   "display_name": ".venv_dbc (3.11.3)",
   "language": "python",
   "name": "python3"
  },
  "language_info": {
   "codemirror_mode": {
    "name": "ipython",
    "version": 3
   },
   "file_extension": ".py",
   "mimetype": "text/x-python",
   "name": "python",
   "nbconvert_exporter": "python",
   "pygments_lexer": "ipython3",
   "version": "3.11.3"
  }
 },
 "nbformat": 4,
 "nbformat_minor": 5
}
