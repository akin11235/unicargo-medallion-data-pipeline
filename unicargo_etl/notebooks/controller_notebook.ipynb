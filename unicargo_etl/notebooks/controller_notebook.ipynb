{
 "cells": [
  {
   "cell_type": "code",
   "execution_count": null,
   "id": "99ba54d7",
   "metadata": {},
   "outputs": [],
   "source": [
    "import os\n",
    "import sys\n",
    "import time\n",
    "import uuid\n",
    "from datetime import datetime\n",
    "from pyspark.sql import SparkSession"
   ]
  },
  {
   "cell_type": "code",
   "execution_count": null,
   "id": "3de8c126",
   "metadata": {},
   "outputs": [],
   "source": [
    "# Current working directory\n",
    "current_dir = os.getcwd()\n",
    "# Go up 3 levels and append 'src'\n",
    "project_root = os.path.abspath(os.path.join(current_dir, '..', '..', 'src'))\n",
    "# Add src to sys.path\n",
    "sys.path.append(project_root)\n",
    "\n",
    "from logging_utils.logger import log_pipeline_event, log_task_event\n",
    "from unikargo_utils import add_pipeline_metadata\n",
    "\n",
    "spark = SparkSession.builder.getOrCreate()"
   ]
  },
  {
   "cell_type": "code",
   "execution_count": null,
   "id": "84ecb681",
   "metadata": {},
   "outputs": [],
   "source": [
    "\n",
    "# -----------------------------\n",
    "# Pipeline Identifiers\n",
    "# -----------------------------\n",
    "pipeline_id = str(uuid.uuid4())  # Unique ID for this pipeline run\n",
    "pipeline_name = \"unicargo_pipeline\"\n",
    "run_id = f\"run_{int(time.time())}\"\n",
    "environment = \"unikargo_dev\"\n",
    "\n",
    "# Track start time\n",
    "pipeline_start = datetime.now()\n",
    "\n",
    "# Initialize dictionary to store task results (optional)\n",
    "task_results = {}"
   ]
  },
  {
   "cell_type": "code",
   "execution_count": null,
   "id": "7a0bdd6d",
   "metadata": {},
   "outputs": [],
   "source": [
    "# -----------------------------\n",
    "# Helper to run notebook safely\n",
    "# -----------------------------\n",
    "def run_notebook_safe(path, **kwargs):\n",
    "    \"\"\"\n",
    "    Run a notebook and catch exceptions for logging.\n",
    "    Returns: (status, rows_processed)\n",
    "    \"\"\"\n",
    "    try:\n",
    "        result = dbutils.notebook.run(path, 0, kwargs)\n",
    "        rows_processed = int(result)\n",
    "        return \"SUCCESS\", rows_processed\n",
    "    except Exception as e:\n",
    "        # Log failure at task level\n",
    "        try:\n",
    "            log_task_event(\n",
    "                status=\"FAILED\",\n",
    "                rows=None,\n",
    "                message=str(e),\n",
    "                pipeline_name=kwargs.get(\"pipeline_name\"),\n",
    "                pipeline_id=kwargs.get(\"pipeline_id\"),\n",
    "                file_format=\"delta\"\n",
    "            )\n",
    "        except Exception as log_e:\n",
    "            print(f\"Failed to log task event: {log_e}\")\n",
    "        return \"FAILED\", 0"
   ]
  },
  {
   "cell_type": "code",
   "execution_count": null,
   "id": "12ecc4cd",
   "metadata": {},
   "outputs": [],
   "source": [
    "# -----------------------------\n",
    "# Run Bronze Notebooks\n",
    "# -----------------------------\n",
    "bronze_notebooks = [\n",
    "    \"bronze_airlines\",\n",
    "    \"bronze_customers\",\n",
    "    \"bronze_flights\"\n",
    "]\n",
    "\n",
    "for nb in bronze_notebooks:\n",
    "    task_results[nb] = run_notebook(\n",
    "        f\"notebooks/bronze/{nb}\",\n",
    "        pipeline_id=pipeline_id,\n",
    "        pipeline_name=pipeline_name,\n",
    "        run_id=run_id,\n",
    "        environment=environment\n",
    "    )\n"
   ]
  }
 ],
 "metadata": {
  "kernelspec": {
   "display_name": ".venv_pyspark (3.11.3)",
   "language": "python",
   "name": "python3"
  },
  "language_info": {
   "codemirror_mode": {
    "name": "ipython",
    "version": 3
   },
   "file_extension": ".py",
   "mimetype": "text/x-python",
   "name": "python",
   "nbconvert_exporter": "python",
   "pygments_lexer": "ipython3",
   "version": "3.11.3"
  }
 },
 "nbformat": 4,
 "nbformat_minor": 5
}
