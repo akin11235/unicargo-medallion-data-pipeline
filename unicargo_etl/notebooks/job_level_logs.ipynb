{
 "cells": [
  {
   "cell_type": "code",
   "execution_count": null,
   "id": "f1a16198",
   "metadata": {},
   "outputs": [],
   "source": [
    "import requests\n",
    "import pandas as pd\n",
    "from datetime import datetime\n",
    "from dotenv import load_dotenv\n",
    "import os"
   ]
  },
  {
   "cell_type": "code",
   "execution_count": null,
   "id": "f12dd470",
   "metadata": {},
   "outputs": [],
   "source": [
    "DATABRICKS_INSTANCE = os.getenv(\"DATABRICKS_INSTANCE\")\n",
    "JOB_ID = os.getenv(\"DATABRICK_JOB_ID\")\n",
    "TOKEN = os.getenv(\"DATABRICKS_TOKEN\")  # your personal access token\n",
    "\n",
    "url = f\"https://{DATABRICKS_INSTANCE}/api/2.1/jobs/runs/list?job_id={JOB_ID}\"\n",
    "\n",
    "headers = {\"Authorization\": f\"Bearer {TOKEN}\"}\n",
    "\n",
    "response = requests.get(url, headers=headers)\n",
    "runs = response.json().get(\"runs\", [])\n",
    "print(runs)"
   ]
  },
  {
   "cell_type": "code",
   "execution_count": null,
   "id": "b2b0241c",
   "metadata": {},
   "outputs": [],
   "source": [
    "# Parse into DataFrame\n",
    "rows = []\n",
    "for r in runs:\n",
    "    rows.append({\n",
    "        \"job_id\": r[\"job_id\"],\n",
    "        \"run_id\": r[\"run_id\"],\n",
    "        \"run_name\": r.get(\"run_name\"),\n",
    "        \"creator\": r.get(\"creator_user_name\"),\n",
    "        \"start_time\": datetime.fromtimestamp(r[\"start_time\"]/1000),\n",
    "        \"end_time\": datetime.fromtimestamp(r[\"end_time\"]/1000),\n",
    "        \"run_duration\": r.get(\"run_duration\"),\n",
    "        \"trigger\": r.get(\"trigger\"),\n",
    "        \"result_state\": r.get(\"state\", {}).get(\"result_state\"),\n",
    "        \"error_message\": r.get(\"state\", {}).get(\"state_message\"),\n",
    "        \"run_page_url\": r.get(\"run_page_url\")\n",
    "    })\n",
    "\n",
    "df = pd.DataFrame(rows)\n",
    "display(df)"
   ]
  },
  {
   "cell_type": "code",
   "execution_count": null,
   "id": "51015cd1",
   "metadata": {},
   "outputs": [],
   "source": []
  }
 ],
 "metadata": {
  "kernelspec": {
   "display_name": ".venv_dbc (3.11.3)",
   "language": "python",
   "name": "python3"
  },
  "language_info": {
   "codemirror_mode": {
    "name": "ipython",
    "version": 3
   },
   "file_extension": ".py",
   "mimetype": "text/x-python",
   "name": "python",
   "nbconvert_exporter": "python",
   "pygments_lexer": "ipython3",
   "version": "3.11.3"
  }
 },
 "nbformat": 4,
 "nbformat_minor": 5
}
